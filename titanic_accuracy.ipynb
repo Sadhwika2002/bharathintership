{
  "nbformat": 4,
  "nbformat_minor": 0,
  "metadata": {
    "colab": {
      "provenance": [],
      "authorship_tag": "ABX9TyPON6IQ6IClQLBPSyC7wZTY",
      "include_colab_link": true
    },
    "kernelspec": {
      "name": "python3",
      "display_name": "Python 3"
    },
    "language_info": {
      "name": "python"
    }
  },
  "cells": [
    {
      "cell_type": "markdown",
      "metadata": {
        "id": "view-in-github",
        "colab_type": "text"
      },
      "source": [
        "<a href=\"https://colab.research.google.com/github/Sadhwika2002/bharathintership/blob/main/titanic_accuracy.ipynb\" target=\"_parent\"><img src=\"https://colab.research.google.com/assets/colab-badge.svg\" alt=\"Open In Colab\"/></a>"
      ]
    },
    {
      "cell_type": "code",
      "execution_count": 2,
      "metadata": {
        "id": "QOtiLtvd5NXB"
      },
      "outputs": [],
      "source": [
        "import pandas as pd\n",
        "import numpy as np\n",
        "from matplotlib import pyplot"
      ]
    },
    {
      "cell_type": "code",
      "source": [
        "dataset=pd.read_csv('Titanic-Dataset.csv')"
      ],
      "metadata": {
        "id": "jyt5AmAB5m0O"
      },
      "execution_count": 3,
      "outputs": []
    },
    {
      "cell_type": "code",
      "source": [
        "print(dataset.shape)\n",
        "print(dataset.head(10))"
      ],
      "metadata": {
        "colab": {
          "base_uri": "https://localhost:8080/"
        },
        "id": "3CLgr49X5u-U",
        "outputId": "7b7568ed-d2b8-4ae9-c947-1cae58084bb5"
      },
      "execution_count": 4,
      "outputs": [
        {
          "output_type": "stream",
          "name": "stdout",
          "text": [
            "(891, 12)\n",
            "   PassengerId  Survived  Pclass  \\\n",
            "0            1         0       3   \n",
            "1            2         1       1   \n",
            "2            3         1       3   \n",
            "3            4         1       1   \n",
            "4            5         0       3   \n",
            "5            6         0       3   \n",
            "6            7         0       1   \n",
            "7            8         0       3   \n",
            "8            9         1       3   \n",
            "9           10         1       2   \n",
            "\n",
            "                                                Name     Sex   Age  SibSp  \\\n",
            "0                            Braund, Mr. Owen Harris    male  22.0      1   \n",
            "1  Cumings, Mrs. John Bradley (Florence Briggs Th...  female  38.0      1   \n",
            "2                             Heikkinen, Miss. Laina  female  26.0      0   \n",
            "3       Futrelle, Mrs. Jacques Heath (Lily May Peel)  female  35.0      1   \n",
            "4                           Allen, Mr. William Henry    male  35.0      0   \n",
            "5                                   Moran, Mr. James    male   NaN      0   \n",
            "6                            McCarthy, Mr. Timothy J    male  54.0      0   \n",
            "7                     Palsson, Master. Gosta Leonard    male   2.0      3   \n",
            "8  Johnson, Mrs. Oscar W (Elisabeth Vilhelmina Berg)  female  27.0      0   \n",
            "9                Nasser, Mrs. Nicholas (Adele Achem)  female  14.0      1   \n",
            "\n",
            "   Parch            Ticket     Fare Cabin Embarked  \n",
            "0      0         A/5 21171   7.2500   NaN        S  \n",
            "1      0          PC 17599  71.2833   C85        C  \n",
            "2      0  STON/O2. 3101282   7.9250   NaN        S  \n",
            "3      0            113803  53.1000  C123        S  \n",
            "4      0            373450   8.0500   NaN        S  \n",
            "5      0            330877   8.4583   NaN        Q  \n",
            "6      0             17463  51.8625   E46        S  \n",
            "7      1            349909  21.0750   NaN        S  \n",
            "8      2            347742  11.1333   NaN        S  \n",
            "9      0            237736  30.0708   NaN        C  \n"
          ]
        }
      ]
    },
    {
      "cell_type": "code",
      "source": [
        "import seaborn as sns\n",
        "sns.heatmap(dataset.corr(), cmap=\"YlGnBu\")\n",
        "pyplot.show()"
      ],
      "metadata": {
        "colab": {
          "base_uri": "https://localhost:8080/",
          "height": 560
        },
        "id": "kJ_y5t-G5-0k",
        "outputId": "024ce517-94ab-4b45-d6f0-3a7572809f9a"
      },
      "execution_count": 5,
      "outputs": [
        {
          "output_type": "stream",
          "name": "stderr",
          "text": [
            "<ipython-input-5-cf5650b87b29>:2: FutureWarning: The default value of numeric_only in DataFrame.corr is deprecated. In a future version, it will default to False. Select only valid columns or specify the value of numeric_only to silence this warning.\n",
            "  sns.heatmap(dataset.corr(), cmap=\"YlGnBu\")\n"
          ]
        },
        {
          "output_type": "display_data",
          "data": {
            "text/plain": [
              "<Figure size 640x480 with 2 Axes>"
            ],
            "image/png": "[encoded data removed]"
          },
          "metadata": {}
        }
      ]
    },
    {
      "cell_type": "code",
      "source": [
        "dataset.info()"
      ],
      "metadata": {
        "colab": {
          "base_uri": "https://localhost:8080/"
        },
        "id": "4adQdRPoACYL",
        "outputId": "7a585db9-9730-4187-f561-4bd9943818fd"
      },
      "execution_count": 6,
      "outputs": [
        {
          "output_type": "stream",
          "name": "stdout",
          "text": [
            "<class 'pandas.core.frame.DataFrame'>\n",
            "RangeIndex: 891 entries, 0 to 890\n",
            "Data columns (total 12 columns):\n",
            " #   Column       Non-Null Count  Dtype  \n",
            "---  ------       --------------  -----  \n",
            " 0   PassengerId  891 non-null    int64  \n",
            " 1   Survived     891 non-null    int64  \n",
            " 2   Pclass       891 non-null    int64  \n",
            " 3   Name         891 non-null    object \n",
            " 4   Sex          891 non-null    object \n",
            " 5   Age          714 non-null    float64\n",
            " 6   SibSp        891 non-null    int64  \n",
            " 7   Parch        891 non-null    int64  \n",
            " 8   Ticket       891 non-null    object \n",
            " 9   Fare         891 non-null    float64\n",
            " 10  Cabin        204 non-null    object \n",
            " 11  Embarked     889 non-null    object \n",
            "dtypes: float64(2), int64(5), object(5)\n",
            "memory usage: 83.7+ KB\n"
          ]
        }
      ]
    },
    {
      "cell_type": "code",
      "source": [
        "dataset.isnull().sum()"
      ],
      "metadata": {
        "colab": {
          "base_uri": "https://localhost:8080/"
        },
        "id": "xU53m1xpAH0Y",
        "outputId": "b670394d-7047-4546-ad01-cb782ee34cd1"
      },
      "execution_count": 7,
      "outputs": [
        {
          "output_type": "execute_result",
          "data": {
            "text/plain": [
              "PassengerId      0\n",
              "Survived         0\n",
              "Pclass           0\n",
              "Name             0\n",
              "Sex              0\n",
              "Age            177\n",
              "SibSp            0\n",
              "Parch            0\n",
              "Ticket           0\n",
              "Fare             0\n",
              "Cabin          687\n",
              "Embarked         2\n",
              "dtype: int64"
            ]
          },
          "metadata": {},
          "execution_count": 7
        }
      ]
    },
    {
      "cell_type": "code",
      "source": [
        "dataset=dataset.drop(columns='Cabin',axis=1)"
      ],
      "metadata": {
        "id": "nag1m4N5AWyu"
      },
      "execution_count": 8,
      "outputs": []
    },
    {
      "cell_type": "code",
      "source": [
        "dataset['Age'].fillna(dataset['Age'].mean(),inplace=True)"
      ],
      "metadata": {
        "id": "Ik09lSKtBITq"
      },
      "execution_count": 9,
      "outputs": []
    },
    {
      "cell_type": "code",
      "source": [
        "dataset.isnull().sum()"
      ],
      "metadata": {
        "colab": {
          "base_uri": "https://localhost:8080/"
        },
        "id": "CKhxPqPwBYfi",
        "outputId": "7522742b-6de3-46d5-eec2-0524b995d13e"
      },
      "execution_count": 10,
      "outputs": [
        {
          "output_type": "execute_result",
          "data": {
            "text/plain": [
              "PassengerId    0\n",
              "Survived       0\n",
              "Pclass         0\n",
              "Name           0\n",
              "Sex            0\n",
              "Age            0\n",
              "SibSp          0\n",
              "Parch          0\n",
              "Ticket         0\n",
              "Fare           0\n",
              "Embarked       2\n",
              "dtype: int64"
            ]
          },
          "metadata": {},
          "execution_count": 10
        }
      ]
    },
    {
      "cell_type": "code",
      "source": [
        "print(dataset['Embarked'].mode())"
      ],
      "metadata": {
        "id": "Pq4AoFDwBjFe",
        "outputId": "5698be5f-2e94-4857-b2dd-3685659c6f83",
        "colab": {
          "base_uri": "https://localhost:8080/"
        }
      },
      "execution_count": 14,
      "outputs": [
        {
          "output_type": "stream",
          "name": "stdout",
          "text": [
            "0    S\n",
            "Name: Embarked, dtype: object\n"
          ]
        }
      ]
    },
    {
      "cell_type": "code",
      "source": [
        "print(dataset['Embarked'].mode()[0])"
      ],
      "metadata": {
        "id": "18JO5ztscN2f",
        "outputId": "3af46336-6338-4f68-99d0-c8a4c73e2459",
        "colab": {
          "base_uri": "https://localhost:8080/"
        }
      },
      "execution_count": 15,
      "outputs": [
        {
          "output_type": "stream",
          "name": "stdout",
          "text": [
            "S\n"
          ]
        }
      ]
    },
    {
      "cell_type": "code",
      "source": [
        "dataset['Embarked'].fillna(dataset['Embarked'].mode()[0],inplace=True)"
      ],
      "metadata": {
        "id": "VpyF3_Hicjmh"
      },
      "execution_count": 17,
      "outputs": []
    },
    {
      "cell_type": "code",
      "source": [
        "dataset.isnull().sum()"
      ],
      "metadata": {
        "colab": {
          "base_uri": "https://localhost:8080/"
        },
        "id": "n_QcmY06BwCY",
        "outputId": "358b8bbe-98b8-465c-fc75-60bf73f9f223"
      },
      "execution_count": 18,
      "outputs": [
        {
          "output_type": "execute_result",
          "data": {
            "text/plain": [
              "PassengerId    0\n",
              "Survived       0\n",
              "Pclass         0\n",
              "Name           0\n",
              "Sex            0\n",
              "Age            0\n",
              "SibSp          0\n",
              "Parch          0\n",
              "Ticket         0\n",
              "Embarked       0\n",
              "dtype: int64"
            ]
          },
          "metadata": {},
          "execution_count": 18
        }
      ]
    },
    {
      "cell_type": "code",
      "source": [
        "dataset.describe()"
      ],
      "metadata": {
        "colab": {
          "base_uri": "https://localhost:8080/",
          "height": 839
        },
        "id": "i7-Vb-UTB0sL",
        "outputId": "669268a6-adf6-4c24-8641-372a1fd5ca07"
      },
      "execution_count": 19,
      "outputs": [
        {
          "output_type": "execute_result",
          "data": {
            "text/plain": [
              "       PassengerId    Survived      Pclass         Age       SibSp       Parch\n",
              "count   891.000000  891.000000  891.000000  891.000000  891.000000  891.000000\n",
              "mean    446.000000    0.383838    2.308642   29.699118    0.523008    0.381594\n",
              "std     257.353842    0.486592    0.836071   13.002015    1.102743    0.806057\n",
              "min       1.000000    0.000000    1.000000    0.420000    0.000000    0.000000\n",
              "25%     223.500000    0.000000    2.000000   22.000000    0.000000    0.000000\n",
              "50%     446.000000    0.000000    3.000000   29.699118    0.000000    0.000000\n",
              "75%     668.500000    1.000000    3.000000   35.000000    1.000000    0.000000\n",
              "max     891.000000    1.000000    3.000000   80.000000    8.000000    6.000000"
            ],
            "text/html": [
              "\n",
              "  <div id=\"df-fa943e57-cfb2-4fbf-9a7e-cbc38a709202\" class=\"colab-df-container\">\n",
              "    <div>\n",
              "<style scoped>\n",
              "    .dataframe tbody tr th:only-of-type {\n",
              "        vertical-align: middle;\n",
              "    }\n",
              "\n",
              "    .dataframe tbody tr th {\n",
              "        vertical-align: top;\n",
              "    }\n",
              "\n",
              "    .dataframe thead th {\n",
              "        text-align: right;\n",
              "    }\n",
              "</style>\n",
              "<table border=\"1\" class=\"dataframe\">\n",
              "  <thead>\n",
              "    <tr style=\"text-align: right;\">\n",
              "      <th></th>\n",
              "      <th>PassengerId</th>\n",
              "      <th>Survived</th>\n",
              "      <th>Pclass</th>\n",
              "      <th>Age</th>\n",
              "      <th>SibSp</th>\n",
              "      <th>Parch</th>\n",
              "    </tr>\n",
              "  </thead>\n",
              "  <tbody>\n",
              "    <tr>\n",
              "      <th>count</th>\n",
              "      <td>891.000000</td>\n",
              "      <td>891.000000</td>\n",
              "      <td>891.000000</td>\n",
              "      <td>891.000000</td>\n",
              "      <td>891.000000</td>\n",
              "      <td>891.000000</td>\n",
              "    </tr>\n",
              "    <tr>\n",
              "      <th>mean</th>\n",
              "      <td>446.000000</td>\n",
              "      <td>0.383838</td>\n",
              "      <td>2.308642</td>\n",
              "      <td>29.699118</td>\n",
              "      <td>0.523008</td>\n",
              "      <td>0.381594</td>\n",
              "    </tr>\n",
              "    <tr>\n",
              "      <th>std</th>\n",
              "      <td>257.353842</td>\n",
              "      <td>0.486592</td>\n",
              "      <td>0.836071</td>\n",
              "      <td>13.002015</td>\n",
              "      <td>1.102743</td>\n",
              "      <td>0.806057</td>\n",
              "    </tr>\n",
              "    <tr>\n",
              "      <th>min</th>\n",
              "      <td>1.000000</td>\n",
              "      <td>0.000000</td>\n",
              "      <td>1.000000</td>\n",
              "      <td>0.420000</td>\n",
              "      <td>0.000000</td>\n",
              "      <td>0.000000</td>\n",
              "    </tr>\n",
              "    <tr>\n",
              "      <th>25%</th>\n",
              "      <td>223.500000</td>\n",
              "      <td>0.000000</td>\n",
              "      <td>2.000000</td>\n",
              "      <td>22.000000</td>\n",
              "      <td>0.000000</td>\n",
              "      <td>0.000000</td>\n",
              "    </tr>\n",
              "    <tr>\n",
              "      <th>50%</th>\n",
              "      <td>446.000000</td>\n",
              "      <td>0.000000</td>\n",
              "      <td>3.000000</td>\n",
              "      <td>29.699118</td>\n",
              "      <td>0.000000</td>\n",
              "      <td>0.000000</td>\n",
              "    </tr>\n",
              "    <tr>\n",
              "      <th>75%</th>\n",
              "      <td>668.500000</td>\n",
              "      <td>1.000000</td>\n",
              "      <td>3.000000</td>\n",
              "      <td>35.000000</td>\n",
              "      <td>1.000000</td>\n",
              "      <td>0.000000</td>\n",
              "    </tr>\n",
              "    <tr>\n",
              "      <th>max</th>\n",
              "      <td>891.000000</td>\n",
              "      <td>1.000000</td>\n",
              "      <td>3.000000</td>\n",
              "      <td>80.000000</td>\n",
              "      <td>8.000000</td>\n",
              "      <td>6.000000</td>\n",
              "    </tr>\n",
              "  </tbody>\n",
              "</table>\n",
              "</div>\n",
              "    <div class=\"colab-df-buttons\">\n",
              "\n",
              "  <div class=\"colab-df-container\">\n",
              "    <button class=\"colab-df-convert\" onclick=\"convertToInteractive('df-fa943e57-cfb2-4fbf-9a7e-cbc38a709202')\"\n",
              "            title=\"Convert this dataframe to an interactive table.\"\n",
              "            style=\"display:none;\">\n",
              "\n",
              "  <svg xmlns=\"http://www.w3.org/2000/svg\" height=\"24px\" viewBox=\"0 -960 960 960\">\n",
              "    <path d=\"M120-120v-720h720v720H120Zm60-500h600v-160H180v160Zm220 220h160v-160H400v160Zm0 220h160v-160H400v160ZM180-400h160v-160H180v160Zm440 0h160v-160H620v160ZM180-180h160v-160H180v160Zm440 0h160v-160H620v160Z\"/>\n",
              "  </svg>\n",
              "    </button>\n",
              "\n",
              "  <style>\n",
              "    .colab-df-container {\n",
              "      display:flex;\n",
              "      gap: 12px;\n",
              "    }\n",
              "\n",
              "    .colab-df-convert {\n",
              "      background-color: #E8F0FE;\n",
              "      border: none;\n",
              "      border-radius: 50%;\n",
              "      cursor: pointer;\n",
              "      display: none;\n",
              "      fill: #1967D2;\n",
              "      height: 32px;\n",
              "      padding: 0 0 0 0;\n",
              "      width: 32px;\n",
              "    }\n",
              "\n",
              "    .colab-df-convert:hover {\n",
              "      background-color: #E2EBFA;\n",
              "      box-shadow: 0px 1px 2px rgba(60, 64, 67, 0.3), 0px 1px 3px 1px rgba(60, 64, 67, 0.15);\n",
              "      fill: #174EA6;\n",
              "    }\n",
              "\n",
              "    .colab-df-buttons div {\n",
              "      margin-bottom: 4px;\n",
              "    }\n",
              "\n",
              "    [theme=dark] .colab-df-convert {\n",
              "      background-color: #3B4455;\n",
              "      fill: #D2E3FC;\n",
              "    }\n",
              "\n",
              "    [theme=dark] .colab-df-convert:hover {\n",
              "      background-color: #434B5C;\n",
              "      box-shadow: 0px 1px 3px 1px rgba(0, 0, 0, 0.15);\n",
              "      filter: drop-shadow(0px 1px 2px rgba(0, 0, 0, 0.3));\n",
              "      fill: #FFFFFF;\n",
              "    }\n",
              "  </style>\n",
              "\n",
              "    <script>\n",
              "      const buttonEl =\n",
              "        document.querySelector('#df-fa943e57-cfb2-4fbf-9a7e-cbc38a709202 button.colab-df-convert');\n",
              "      buttonEl.style.display =\n",
              "        google.colab.kernel.accessAllowed ? 'block' : 'none';\n",
              "\n",
              "      async function convertToInteractive(key) {\n",
              "        const element = document.querySelector('#df-fa943e57-cfb2-4fbf-9a7e-cbc38a709202');\n",
              "        const dataTable =\n",
              "          await google.colab.kernel.invokeFunction('convertToInteractive',\n",
              "                                                    [key], {});\n",
              "        if (!dataTable) return;\n",
              "\n",
              "        const docLinkHtml = 'Like what you see? Visit the ' +\n",
              "          '<a target=\"_blank\" href=https://colab.research.google.com/notebooks/data_table.ipynb>data table notebook</a>'\n",
              "          + ' to learn more about interactive tables.';\n",
              "        element.innerHTML = '';\n",
              "        dataTable['output_type'] = 'display_data';\n",
              "        await google.colab.output.renderOutput(dataTable, element);\n",
              "        const docLink = document.createElement('div');\n",
              "        docLink.innerHTML = docLinkHtml;\n",
              "        element.appendChild(docLink);\n",
              "      }\n",
              "    </script>\n",
              "  </div>\n",
              "\n",
              "\n",
              "<div id=\"df-e6ae6419-f42d-4dc4-ba5e-67307324dbbb\">\n",
              "  <button class=\"colab-df-quickchart\" onclick=\"quickchart('df-e6ae6419-f42d-4dc4-ba5e-67307324dbbb')\"\n",
              "            title=\"Suggest charts.\"\n",
              "            style=\"display:none;\">\n",
              "\n",
              "<svg xmlns=\"http://www.w3.org/2000/svg\" height=\"24px\"viewBox=\"0 0 24 24\"\n",
              "     width=\"24px\">\n",
              "    <g>\n",
              "        <path d=\"M19 3H5c-1.1 0-2 .9-2 2v14c0 1.1.9 2 2 2h14c1.1 0 2-.9 2-2V5c0-1.1-.9-2-2-2zM9 17H7v-7h2v7zm4 0h-2V7h2v10zm4 0h-2v-4h2v4z\"/>\n",
              "    </g>\n",
              "</svg>\n",
              "  </button>\n",
              "\n",
              "<style>\n",
              "  .colab-df-quickchart {\n",
              "    background-color: #E8F0FE;\n",
              "    border: none;\n",
              "    border-radius: 50%;\n",
              "    cursor: pointer;\n",
              "    display: none;\n",
              "    fill: #1967D2;\n",
              "    height: 32px;\n",
              "    padding: 0 0 0 0;\n",
              "    width: 32px;\n",
              "  }\n",
              "\n",
              "  .colab-df-quickchart:hover {\n",
              "    background-color: #E2EBFA;\n",
              "    box-shadow: 0px 1px 2px rgba(60, 64, 67, 0.3), 0px 1px 3px 1px rgba(60, 64, 67, 0.15);\n",
              "    fill: #174EA6;\n",
              "  }\n",
              "\n",
              "  [theme=dark] .colab-df-quickchart {\n",
              "    background-color: #3B4455;\n",
              "    fill: #D2E3FC;\n",
              "  }\n",
              "\n",
              "  [theme=dark] .colab-df-quickchart:hover {\n",
              "    background-color: #434B5C;\n",
              "    box-shadow: 0px 1px 3px 1px rgba(0, 0, 0, 0.15);\n",
              "    filter: drop-shadow(0px 1px 2px rgba(0, 0, 0, 0.3));\n",
              "    fill: #FFFFFF;\n",
              "  }\n",
              "</style>\n",
              "\n",
              "  <script>\n",
              "    async function quickchart(key) {\n",
              "      const charts = await google.colab.kernel.invokeFunction(\n",
              "          'suggestCharts', [key], {});\n",
              "    }\n",
              "    (() => {\n",
              "      let quickchartButtonEl =\n",
              "        document.querySelector('#df-e6ae6419-f42d-4dc4-ba5e-67307324dbbb button');\n",
              "      quickchartButtonEl.style.display =\n",
              "        google.colab.kernel.accessAllowed ? 'block' : 'none';\n",
              "    })();\n",
              "  </script>\n",
              "</div>\n",
              "    </div>\n",
              "  </div>\n"
            ]
          },
          "metadata": {},
          "execution_count": 19
        },
        {
          "output_type": "display_data",
          "data": {
            "text/plain": [
              "<google.colab._quickchart_helpers.SectionTitle at 0x7e827e3486d0>"
            ],
            "text/html": [
              "<h4 class=\"colab-quickchart-section-title\">Values</h4>\n",
              "<style>\n",
              "  .colab-quickchart-section-title {\n",
              "      clear: both;\n",
              "  }\n",
              "</style>"
            ]
          },
          "metadata": {}
        },
        {
          "output_type": "display_data",
          "data": {
            "text/plain": [
              "import numpy as np\n",
              "from google.colab import autoviz\n",
              "\n",
              "def value_plot(df, y, figscale=1):\n",
              "  from matplotlib import pyplot as plt\n",
              "  df[y].plot(kind='line', figsize=(8 * figscale, 4 * figscale), title=y)\n",
              "  plt.gca().spines[['top', 'right']].set_visible(False)\n",
              "  plt.tight_layout()\n",
              "  return autoviz.MplChart.from_current_mpl_state()\n",
              "\n",
              "chart = value_plot(_df_0, *['PassengerId'], **{})\n",
              "chart"
            ],
            "text/html": [
              "      <div class=\"colab-quickchart-chart-with-code\" id=\"chart-dfda0e92-4dee-4ca8-bbf5-1614d42b1a97\">\n",
              "        <img src=\"data:image/png;base64,iVBORw0KGgoAAAANSUhEUgAAAMQAAABgCAYAAABCK92TAAAAOXRFWHRTb2Z0d2FyZQBNYXRwbG90\n",
              "bGliIHZlcnNpb24zLjcuMSwgaHR0cHM6Ly9tYXRwbG90bGliLm9yZy/bCgiHAAAACXBIWXMAAA9h\n",
              "AAAPYQGoP6dpAAAW+ElEQVR4nO2deVjU1f7H3wM4oMLMwCCg7LsiMMgOIaiUGanXNJdrJoOiVvdX\n",
              "PterXbLF9LmVXckucp9KSzEtl1IzUm+FC4uIimiIGyGLgAICsg7bLJ/fH+g0o6ggDDPQeT0Pz+P3\n",
              "LN/znnHe33PO93s+58shIgKDwQAA6GlbAIOhSzBDMBgqMEMwGCowQzAYKjBDMBgqMEMwGCowQzAY\n",
              "KjBDMBgqMEMwGCowQzA0woIFCyAWi7Uto8cwQ3STCRMmgMvlwtjYGDweD56enti6dau2ZWmF1NRU\n",
              "cDgcyGQybUvpc5ghesCbb76J5uZm1NXVIS4uDrGxsUhNTdW2rH5FKpVqW4JGYYZ4AvT19bFgwQII\n",
              "hUKkpaUhMjISI0aMAJ/PR1BQEI4fP64sW19fj3nz5sHc3Bw8Hg9ubm7Yt28fAKC0tBRRUVEwMzMD\n",
              "n8+Hp6cnMjIylHWPHDmCoKAgmJqawtXVFZs2bVLmlZSUgMPh4Ouvv4ZIJIKJiQmCg4Nx5coVZZmm\n",
              "piaIxWIIhULY2NggISEBNjY22L59u7LMtWvXMHXqVFhaWsLa2hqvvfYaJBKJMt/BwQFr1qzBlClT\n",
              "YGJigk8++aTL72TDhg2ws7ODQCBAbGwsOjo6ev09awVidIuIiAh6++23iYhIKpXSjh07iMPhUFpa\n",
              "Gv3666/U0tJCbW1ttGbNGuLxeFRVVUVERKtXr6aoqChqbGwkhUJBJSUldPnyZSIimj9/PsXGxlJr\n",
              "ayvJ5XK6du0aFRUVERHR8ePHic/n09GjR0kul1NeXh7Z2NjQN998Q0RExcXFBIAiIyPp1q1b1Nra\n",
              "SrNmzaLw8HCl5piYGAoICKCbN2+SRCKhxYsXk4GBASUlJRERUXV1NZmbm9PGjRupra2NqqurKTIy\n",
              "kmJjY5XnsLe3J0tLSzp16hQpFAqSSCR04sQJAkBSqZSIiL799lsSCASUmZlJHR0dtHnzZjIwMKDo\n",
              "6GiN/p9oAmaIbhIREUGGhobE5/NJKBSSr68vbd++vcuyfD6fkpOTiYjo/fffp6CgIDp79izJ5XK1\n",
              "cmKxmKZOnUqXLl0ihUKhljdt2jSKi4tTS/vXv/5FkZGRRPSHIdLS0pT5hw4doqFDhxIRkUwmIy6X\n",
              "S4cPH1bmNzQ0kJ6entIQn3zyCQUHB6u1cfLkSeJyuSSTyYio0xD367jfEE8//TStWLFCrYyvr++A\n",
              "NAQbMvWAlStXor6+HjU1NcjJyUF0dDRKS0sxb9482NnZgcfjQSAQoLGxEbdv3wYArFq1CpMnT0Zs\n",
              "bCyEQiFmz56N69evAwDi4+Ph4uKCmTNnwtLSEjExMaiqqgIAFBQUICEhAQKBQPm3fv16VFRUqGka\n",
              "NWqU8t/Dhw9Ha2srZDIZampq0NHRAXt7e2U+j8eDqamp8rigoAA5OTlqbURFRYHD4aCyslJZztHR\n",
              "8ZHfS3l5+QNlHldHV2GG6CVLliyBQqFAdnY2GhsbUVdXBx6PB7obdzVs2DCsW7cOubm5KCwshIGB\n",
              "AaKjowEAQqEQn376KfLz83HhwgWUlJRgxYoVAAArKyvExcWhvr5e+dfU1ITLly93S5e5uTm4XC5u\n",
              "3LihTLun7x5WVlYICwtTa6OhoQFtbW2wtrZWltPTe/TPxMbGBiUlJWpp9x8PFJgheklDQwOMjY1h\n",
              "amoKiUSCt956C83Nzcr85ORkXL58GTKZDMOGDcPQoUNhYGAAANizZw8KCwuhUChgYmICQ0NDZd7y\n",
              "5cuRmJiIY8eOQSaTQSaT4dKlS0hPT++WLn19fcyfPx/r1q1DRUUFWlpasGrVKrUfd0xMDC5cuIDP\n",
              "PvsMLS0tICKUlZXh4MGDPfoOoqOjsW3bNpw+fRoymQxfffUVcnNze3QOXYEZopds2rQJubm5MDU1\n",
              "hYeHB6ytrWFjY6PMLy4uxowZMyAQCGBtbY2qqirl84vc3FxMmjQJJiYmcHZ2hkAgQHx8PABgxowZ\n",
              "2LlzJ9577z1YWFjAwsICsbGxqKmp6ba2hIQEuLm5YezYsXB1dYWHhwfMzMxgZGQEALCzs0NWVhZS\n",
              "UlKU7T/77LPIy8vr0Xfw0ksv4c0338Ts2bNhbm6O06dP44UXXujROXQFDhGLqf6zUFdXB6FQiMzM\n",
              "TISEhGhbjk7CeohBTGlpKdLS0iCXy1FbW4vXXnsNrq6uCAgI0LY0nYUZYhDT0dGB119/HQKBAK6u\n",
              "rqivr0dycrJynsJ4EDZkYjBUYD0Eg6ECMwSDoQIzBIOhAjMEg6HCgDBEQkLCA2lyBaGgqkkLahi6\n",
              "yo1aCXp7j2hAGEJ1PQ4AEBHW/nQZUxNP4tjVKi2pYugKOTfuYOmOc5gQn4rU36t7da4BYYj7kcoJ\n",
              "N+ta0S5TYOnOHOzPKde2JEY/o1AQfrlciVmfn8Ksz7Pw65UqEAEXbtQ9vvIjGJBPaLgGevjiZT/E\n",
              "7c/D/vPl+Mf3ubgj6cCScCdtS2NomDapHAfO38RXGUUoqumM7OPq62HGuFFYMt4JrpYmvTr/gDQE\n",
              "AAzR10P8bG8IjbnYkl6ED45cRU1zO+KeGw0Oh6NteYw+pr6lAzuzbuDrrBLUNHeGp5oYGWBBsD1i\n",
              "Qh1gwTPqk3YGrCEAgMPhYHXUGAiHc/HR/65hc3oRaiUdWD/TCwb6A3I0yLiPsjst2HqyGHuzy9Aq\n",
              "lQMARvGNsCjMEfMC7WBs2Lc/4QFtiHssi3CG6XAu3jqQh3055ahv6cB/5/vCaIi+tqUxnpC88gZs\n",
              "Ti/EkbwKKO7eOBozkodl4U543nskhmjogjcoDAEAc/xtYTqMi//bdR5Hr97Gy1vP4KvoAPCHDtG2\n",
              "NEY3ISKk/V6NLelFOFVYq0wf72qOpeFOCHMx1/hweNAYAgCe8bDEzsVBWPx1NrJL6jB3cxZ2LArs\n",
              "s/ElQzN0yBT4KfcWvswowrXKzmdL+nocTPMeiSXhThg7it9vWgaVIQAg0NEM3y0LwcJtZ3Gtsgkz\n",
              "Pz+FnYuD4Gg+XNvSGPfR1CbF7rOl2HayBJWNbQCA4Vx9zAu0w6IwR1gLhva7pkFnCKBzrHng1VC8\n",
              "vPUMSmpbMPuLU9geEwhP6/670jAeTmVDG5Iyi7HrTCma2ju3wxxhYoiYpxzwUpC9Voe5g9IQAGBr\n",
              "NgzfvxIKcdJZXL7ViHlbTmPLQj+EOptrW9qflvzKJmxJL0Jy7k1I5Z0zZRcLYywd74S/jBsFQwPt\n",
              "3wQZtIYAOq86e5YGY+mOHGQV1UK8LRub/uqDKZ4jtS3tTwMRIauoFlvSi5Ca/8eyikBHMywLd8JE\n",
              "dwvo6enOc6Me37tycHCAu7s7fHx84OPjg7179wLo3PQqNDQUbm5uCAgIUNs/6FF5msbEaAiSYgIw\n",
              "ZawVOuQKvPbteew6U9pv7f9Zkck7J8rT/5uJ+V+eQWp+NfQ4QJSXFQ7+7Sl8tywEkWMsdcoMAHq+\n",
              "t6u9vT1duHDhgfSJEycqt0j8/vvvyd/fv1t53eHvf/97T2U+gEyuoLj9F8n+n4fI/p+HKPHY7w9s\n",
              "H8noPZJ2KSWdLKKwj48pv2v3d47QOz/kUUlNs7blPZYex1Q7ODjg4MGD8PHxUabdvn0bLi4uuHPn\n",
              "DgwMDEBEGDlyJE6ePAkej/fQPBcXl261uWLFCmzcuLFHRu8KIsLGlN+ReLxzK0lxqAPem+qhe1ep\n",
              "AUhNczu+PlWCnadvoL6lc8t8s+FcLAyxx8IQB5gN52pZYfd4ojnEwoULQUQIDAzE+vXrUVZWhpEj\n",
              "Ryp3c+BwOLCzs0NpaSn4fP5D87oyRHt7O9rb29XS5HL5k8h8AA6Hg39MdofZcC7W/nQF20+V4I6k\n",
              "A/GzReAasKUeT0JRdTO+zCjG/vPl6JApAAD2wmGIHe+EF31tMJSr/YlyT+jxryA9PR0XL17E+fPn\n",
              "YW5urtyntK/46KOPwOfz1f7Onj3bp23EPOWIhHk+MNDjIDn3FmJ3nENLx+B7G44muReDELkxDbvP\n",
              "lqJDpoCPrQCfv+SL4/+YgJeD7QecGYBebkNTUVEBNzc3FBYW9tmQqase4t133+0yaq63pObfxqvf\n",
              "nEerVA4vaz7eiHTFRPcRbGHgQ1AoCClXq7AlvQg5KnEHT4+xwNJwZwQ4mA74lcY9GjJJJBJIpVII\n",
              "BAIAwO7duzFu3DhYWFjA19cX33zzDcRiMfbv3w8bGxvlD/5RefdjaGgIQ0NDtTR9fc1caSa4W2DX\n",
              "kiDEbM9G3s0GLNlxDiNMDDHL1wZz/G3gNMJYI+0ONB4Wg/DCOGssCXeEi0XvYhB0iR71EEVFRZg1\n",
              "axbkcjmICE5OTkhISICDgwPy8/MhFotRW1sLHo+HpKQkeHl5AcAj87pDX02qH0Z5XQt2ZN3AgfPl\n",
              "yrX2ABDoYIY5AbaI8rLCMO6gfmTTJV3FIPDuxiCI+zAGQZcYEDv3adoQ95DKFTh29Ta+O1eG1Pzb\n",
              "ymXHxoYGmO4zCnP9beFtwx/ww4LH0VUMgrVgKBaFOWJugG2fxyDoEoP3kz0BQ/T1MMXTClM8rVDZ\n",
              "0IZ9OWX47lw5Su+0YNeZUuw6U4rRViaY42+LF8ZZw3SA3ErsLl3FIHiM5GFZhBOivDQXg6BLsB7i\n",
              "MSgUhNPFtdibXYb/XapU3lrk6uvhmbGWmBdgi6eczQfsswwiQurv1diSVoSsIvUYhGXhznjKRTjo\n",
              "e0RVWA/xGPT0OAh1NkeosznWtUjxY+5N7M0uw+VbjTh8sQKHL1bAWjAUs/1tMNvfVitLlp+EDpkC\n",
              "ybm38GV6EfLv7m9loMfBNFFnsL7HKJ6WFWoH1kM8IZduNuC7c2U4eOEmGts6n2FwOECYizleCrLH\n",
              "ZA8dXKcDoLFNit1nSpGUqR6D8Ne7MQijBoihNQXrIZ4QT2s+PK35WB01Bj9fqsTe7DJkFdUio6AG\n",
              "GQU18LTmYeVkd0S4jdCJIUdFQyuSMkuw60wpmu/GIFiYGCLmKUfMD7JjobZ3YYboJUZD9DFjnDVm\n",
              "jLPGjVoJ9mSXYcepEly62QhxUjYCHc3wzynu8LM304q+a5WNnTEIv92C7O5M2dXCGEvCnfAXH92I\n",
              "QdAl2JBJA9Q2t+Oz1ELsPH1DOQmPHG2Blc+6Y8xIzY/NiQhZhbXYnF6ENJWtHYMczbAswgkT3HQr\n",
              "BkGXYD2EBhAaG+LdqR5YHOaITccK8H1OOY5du43j+bcxXTQKK55xg72w72O8ZXIFjlyqxJb0Qly6\n",
              "2QgA0OMAz3mOxNJwJ4hsBX3e5mCD9RD9QGF1Mzam/I7DFysAdN7NmRNgi+WRrrDsg6e9LR0y7M0u\n",
              "w9aTxSivawUAGA3Rwxx/WywOc9SI+QYrzBD9yKWbDdjwS75yGGNooAdxqANeubvRWk+pbvojBqGh\n",
              "9Y8YhOgQB7wcYj9gYhB0CTZk6kc8rfn4elEgzhTV4t+/5CPnRh02pxdh15lSLA13wqIwRwzvxrKI\n",
              "wupmfJVRhP3nbyrnKA73YhD8bNiOhb2g33qIgoICREdHo6amBnw+H9u3b8fYsWO7VXew9BCqEBFO\n",
              "5N/Gv3/OV27OZW7Mxd8mumB+kF2Xd3/OldzB5vQiHL3aufU7AIyzE2BZuBOe8bCCPpso95p+M8Sk\n",
              "SZOwcOFCiMVi7Nu3Dx9//DGys7O7VXcwGuIeCgXhp4u3sDHld9yobQHQuZBu+dOumDnOGnocDn69\n",
              "UoUt6YU4X1qvrPf0GEssi3CCv/3Aj0HQJfrFEI+Kue5OXPVgNsQ9pHIFvjtXhk3HClDV2Bkg5Txi\n",
              "OIigFoMw09caseOd4GLBYjU0Qb/MIR4Vc32/ITQZU63LDNHXw0tB9pjla4MdWSX4LLUQhdWdRuAZ\n",
              "GeDlEHtEhzrAwmTwxSDoEjo3qf7oo4+wdu1atbTg4GAtqel/jIboY2m4M+YF2mF/TjmG6Othxjjr\n",
              "QR2DoEvo3JCpqx5i4cKFcHJSf12WXC7H2bNnERgYqLEQ0yeB6eoZ/aXL3t4ey5cvf3xBTW76pEpE\n",
              "RITaZmV+fn69Ol9DQwMBoIaGhj5Q13cwXT1D13T1Wz+8efNmiMVifPjhh8q4agZD1+g3Q7i7uyMr\n",
              "K6u/mmMwnojBHyTLYPSAAWsIQ0NDrFmz5oE9nLQN09UzdE3XgFjcx2D0FwO2h2AwNAEzBIOhAjME\n",
              "g6HCn8oQ//nPf1BZWamRc5eUlOCLL754ZBl/f3+kpqb2WZttbW2YMWMG3NzcIBKJ8Mwzz+D69c6X\n",
              "wUyYMAGOjo7KV599+umnynrLli2Dl5cXJk2ahIaGBgCdy9Gfe+45FBYW9lpXbW2tsl0fHx+4ubnB\n",
              "wMAAd+7c0aqubqHd54L9y8NeB9YXnDhxgkQi0SPL+Pn50YkTJ/qszdbWVjp8+LDy1WCJiYkUERFB\n",
              "RJ0rA3744YcH6uTl5dHEiROJiGjt2rWUmJhIRERbtmyhjz/+uM+0qbJhwwaaOnWqzunqCp3oIbKy\n",
              "shAWFgaRSARvb2/8+OOPOHfuHEJDQ+Ht7Y3AwEBkZmYC6LwS39uOHwCam5vV4gE4HA4+/PBDBAYG\n",
              "wtHRUflEfN26dbh16xbmzp0LHx8f/Pbbb0+st7W1FXPnzoWHhwdEIhEmT56MV155Bfn5+fDx8cH0\n",
              "6dMBAKdOnYKPjw88PT0RExMDmaxvX8piZGSEqKgo5ecPDg5GSUnJI+sMGTIE7e3tUCgUkEgk4HK5\n",
              "qKiowO7du7FixYo+1XePrVu3YvHixTqnq0v6zXoPoba2liwsLCg9PZ2IiORyOVVVVZGtrS39/PPP\n",
              "RESUkZFBlpaW1NTURMXFxcTn85X1m5qaSPVjAKD4+HgiIrp69SoZGxuTVColor7rIQ4cOECTJ09W\n",
              "+wz39xDt7e1kY2NDKSkpRET0yy+/EIA+7SHuZ8GCBfTGG28QUeeV2N3dnTw9PWnOnDlUWFioLPf2\n",
              "22+TSCSiF198kSQSCc2dO5fOnTunEU2ZmZlkaWmp/D/QFV0PQ+uGOHToEI0fP14t7eLFi2Rvb6+W\n",
              "5u3tTRkZGd0yREVFhfJYIBBQWVkZEfWdIQoLC8nW1pZeffVV2rNnDzU2Nj5giNzcXHJwcFCr5+Tk\n",
              "pDFDfPDBBxQcHEwSiYSIiEpLS4mISKFQUGJiIo0ZM6bLegcPHqSVK1dSTU0NicVimjlzJu3Zs6fP\n",
              "dC1atIhWrVqlPNYVXQ9jwBhCJBJRRkYGlZWVkbGxsTK9urr6AUPU1dUpj4VCIRUXFxNR384hmpqa\n",
              "6Mcff6TXX3+d7Ozs6MCBA481hLOzs0YMsWHDBvLz81P73PdjaGhINTU1amkNDQ0UFhZGEomE3nnn\n",
              "HUpKSiKpVEoeHh7U0tLSa11NTU1kbGxMV69e1Sldj0Lrc4jQ0FAUFBQgIyMDAKBQKGBpaQmFQoGU\n",
              "lBQAnWPxyspK+Pj4wMrKCkSEK1euAAB27NjR7bZ4PJ7y7kVvKC8vB4fDwfTp0xEfHw8iglAoVDv3\n",
              "6NGjIZPJcOLECQDA0aNHNXKnZOPGjdi9ezdSUlKUcyuZTIaqqiplmf3798PS0hJCoVCtblxcHN57\n",
              "7z0MGzYMEokEHA4HHA4HUqkUHR0d6C179+6FSCTC6NGjdUrXI9Go3bpJVlYWhYaGkpeXF4lEIkpO\n",
              "Tqbs7GwKCQkhLy8vCggIoIyMDGX5bdu2kaOjI/n7+9P69eu73UN8+eWX5OrqSiKRqFc9xZEjR0gk\n",
              "EpG3tzd5eHjQ6tWrSSqV0vPPP09jx46ladOmEVHn+FkkEpGnpyfFxMSQSCTq0x6irKyMAJCTkxOJ\n",
              "RCISiUQUGBhIzc3N5OfnR56enuTt7U2TJk2i3377Ta3uyZMnSSwWK4+vX79OAQEBNGbMGFq3bl2f\n",
              "6AsJCaFt27Ypj3VF16Nga5kYDBW0PmRiMHQJZggGQwVmCAZDBWYIBkMFZggGQwVmCAZDBWYIBkMF\n",
              "ZggGQwVmCAZDBWYIBkMFZggGQ4X/B4YQSeWtphuGAAAAAElFTkSuQmCC\n",
              "\">\n",
              "        \n",
              "      </div>\n",
              "      <script></script>\n",
              "      <script type=\"text/javascript\">\n",
              "        (() => {\n",
              "          const chartElement = document.getElementById(\"chart-dfda0e92-4dee-4ca8-bbf5-1614d42b1a97\");\n",
              "          async function getCodeForChartHandler(event) {\n",
              "            const chartCodeResponse =  await google.colab.kernel.invokeFunction(\n",
              "                'getCodeForChart', [\"chart-dfda0e92-4dee-4ca8-bbf5-1614d42b1a97\"], {});\n",
              "            const responseJson = chartCodeResponse.data['application/json'];\n",
              "            await google.colab.notebook.addCell(responseJson.code, 'code');\n",
              "          }\n",
              "          chartElement.onclick = getCodeForChartHandler;\n",
              "        })();\n",
              "      </script>\n",
              "      <style>\n",
              "        .colab-quickchart-chart-with-code  {\n",
              "            display: block;\n",
              "            float: left;\n",
              "            border: 1px solid transparent;\n",
              "        }\n",
              "\n",
              "        .colab-quickchart-chart-with-code:hover {\n",
              "            cursor: pointer;\n",
              "            border: 1px solid #aaa;\n",
              "        }\n",
              "      </style>"
            ]
          },
          "metadata": {}
        },
        {
          "output_type": "display_data",
          "data": {
            "text/plain": [
              "import numpy as np\n",
              "from google.colab import autoviz\n",
              "\n",
              "def value_plot(df, y, figscale=1):\n",
              "  from matplotlib import pyplot as plt\n",
              "  df[y].plot(kind='line', figsize=(8 * figscale, 4 * figscale), title=y)\n",
              "  plt.gca().spines[['top', 'right']].set_visible(False)\n",
              "  plt.tight_layout()\n",
              "  return autoviz.MplChart.from_current_mpl_state()\n",
              "\n",
              "chart = value_plot(_df_1, *['Survived'], **{})\n",
              "chart"
            ],
            "text/html": [
              "      <div class=\"colab-quickchart-chart-with-code\" id=\"chart-21c69e4b-5c1c-4d81-baa6-9fc55cfee579\">\n",
              "        <img src=\"data:image/png;base64,iVBORw0KGgoAAAANSUhEUgAAAMQAAABgCAYAAABCK92TAAAAOXRFWHRTb2Z0d2FyZQBNYXRwbG90\n",
              "bGliIHZlcnNpb24zLjcuMSwgaHR0cHM6Ly9tYXRwbG90bGliLm9yZy/bCgiHAAAACXBIWXMAAA9h\n",
              "AAAPYQGoP6dpAAAQDklEQVR4nO3dfVBUZd8H8O/y4houL0qCGi+CCvKynFVgQxJ8ycy0GO9KwcYR\n",
              "DEp7piztRcvS1BJLM815pkxdqqlHHUdKR71pyBtzRbvJVEiDUG4IVERebGFXXNjd3/MH4967gAi6\n",
              "y+7C7zOzM55zrutcv1W/nLPsdc4RERGBMQYAcLJ1AYzZEw4EYyY4EIyZ4EAwZoIDwZgJDgRjJjgQ\n",
              "jJngQDBmggPBmAkORB+iVCohkUig1+utNsb8+fORlpZmtf3bGgfCSsrLyzFv3jyMGDECEokEI0aM\n",
              "wMyZM1FdXW21MRMSEqBWq+Hs7Gy1Mfo6DoSVzJw5E+7u7jh//jzUajXOnj2L5ORkiESie9pfS0uL\n",
              "hStkneFAWEF9fT1KSkqwePFiDBkyBADg6+uL1NRUDBs2DF999RX8/PzM+rz//vuYOHGicXny5Ml4\n",
              "+eWXkZKSgsGDB2PJkiWIj4/HunXrzPplZ2dj6NChaGlpwbFjxyASiaDT6VBaWgpnZ2f89ddfZu2T\n",
              "kpKwZMkSAIBer8cnn3yCsLAweHp6Ijo6GkePHjVrv3HjRgQEBMDLywsZGRl9P5jErEIqlVJMTAwp\n",
              "FAoqLCwkvV5v3JaVlUUPPfSQWfvVq1fTI488YlyeNGkSubm50eHDh0mv15NGo6Fdu3ZRUFAQGQwG\n",
              "Y7sZM2bQ0qVLiYgoLy+PAFBraysRESUkJNDq1auNba9cuULOzs5UWFhoHFMQBCopKSG9Xk/Z2dnk\n",
              "5uZGly5dIiKi7777jry8vCg/P59aWlpo+/bt5OLiQqmpqRb9u7InHAgrqauro/fee49iY2NJLBbT\n",
              "4MGD6fXXX6dbt251OxApKSlmbdRqNbm7u1Nubi4REVVWVpKTkxNduHCBiDoG4uuvv6aAgABjGD/4\n",
              "4AOKjY017s/Dw4NycnLMxpg2bRqtW7fO+Odly5aZbR8/fnyfDgSfMlmJt7c31q5di4KCAqhUKigU\n",
              "CuzYsQOZmZnd3kdQUJDZ8qBBg5CSkoJdu3YBABQKBR5++GGEh4d32n/OnDlQqVTIzc0FEUGhUCAj\n",
              "IwMAUFNTg8bGRsyZMwdeXl7G18mTJ3HlyhUAwOXLlzvU0H65r3GxdQH9gVgsxuzZszFt2jScOXMG\n",
              "UqkUGo3GrM3Vq1c79HNy6vjzKiMjA4mJiairq0NWVhZWrVp1x3EfeOABPPfcc9i5cydcXFxQU1OD\n",
              "efPmAQC8vLwwcOBAHDp0CImJiZ329/PzQ0VFhdm6iooKREZG3u0tOyw+QljBjRs3sGLFChQVFUGr\n",
              "1UKv1+Po0aPIy8tDYmIixo0bh6amJuzduxcGgwHHjh3Dvn37urVvuVyOkJAQLFy4EA0NDUhOTu6y\n",
              "fUZGBg4ePIiPP/4Yc+fOhbu7O4C2kC5evBhvvfUWiouLQURobm7G8ePHUVpaCgBITU2FQqHAL7/8\n",
              "Ap1Oh507d6KwsPD+/nLsna3P2foitVpN6enpFBISQhKJhDw9PSkiIoI2bNhg/ED8+eefk5+fH7m7\n",
              "u1NKSgotXbq0w2eIlStXdrr/rVu3EgB64YUXzNa3/wxx27hx4wgA5efnm63X6XS0ZcsWioiIIA8P\n",
              "D/Lx8aEZM2bQ+fPniYjIYDBQZmYm+fn5kaenJ6Wnp9OcOXP69GcIERFfU83YbXzKxJgJDgRjJjgQ\n",
              "jJngQDBmggPBmAkOBGMmOBCMmXCIQGzdurXT9WW16l6uhPV1DhGI9nP69QbCS9/+hkc/+Rnnqv62\n",
              "TVGsT3KIQLTn7CSC24C2eYmZR9rm4TBmCQ4ZCAB4fXoIBrg44d/lDThafN3W5bA+wmEDMcLrATz/\n",
              "SNvc/A05JdDpDTauiPUFDhsIAPifKaMw2M0Vl66rse+3y7Yuh/UBDh0Ij4GueGXqGADA5txS3GzR\n",
              "2bgi5ugcOhAAMD8uEAFD3FDbpMVOZbmty2EOzuEDMcDFCW8+HgoA2P5zGWqbtDauiDkyhw8EAMyS\n",
              "Dofg5wlNix6fHb1o63KYA+sTgXByEmHFE2EAgP8rqORvsNk96xOBAIAJo7zx6Fgf6A2EjTl/2roc\n",
              "5qD6TCAAYPkTY+EkAnIuXMNvfzXYuhzmgHociJEjRyI0NBQymQwymQx79+4FAFy8eBHx8fEICQlB\n",
              "bGwsLly4YOzT1TZLCvF1x9wYfwDA+iMlPKWD9VxPb9MRGBhIZ8+e7bB+ypQplJWVRURE+/bto5iY\n",
              "mG5t647b9y7tjmuqZgp99wgFLj9E//y9ukfjMGaRU6br16/j9OnTmD9/PgDgmWeeQVVVFS5dutTl\n",
              "Nmvw9RiIFxKCAQAf55Sglad0sB64p0AsWLAAUqkU6enpqK2tRVVVFYYPHw4Xl7YZqCKRCAEBAais\n",
              "rOxyW2e0Wi0aGxvNXj19Is6LicHwHjQA/6nTYE9B5+Mw1pkeB+L48eMoKirCmTNn8OCDDyI1NdWi\n",
              "BWVmZsLT09PsVVBQ0KN9uA90xavT2qZ0bPnpItRantLBuqfHgQgICAAAuLq64rXXXoNSqYS/vz+q\n",
              "q6uh07X9xyMiVFZWIiAgoMttnXn77behUqnMXnK5vMdvbJ48AEEPDkK9pgVf/lzW4/6sf+pRIDQa\n",
              "Df7++2/j8u7duzFu3Dj4+Phg/Pjx+PbbbwEA+/fvh5+fH0aPHt3lts6IxWJ4eHiYve7lmWmuzk5Y\n",
              "PqNtSscOZTlqGm/1eB+sH+rJJ/CysjKSyWQklUopMjKSkpKSqLy8nIiISkpKKC4ujsaMGUPR0dFU\n",
              "VFRk7NfVtu7oyW+ZTBkMBvrH/56gwOWHaMX+wnvaB+tfHOJmx8uWLcPmzZvvqe/pigY8+8UpOImA\n",
              "H19LxBhfdwtXx/qSPvVNdWdiRg7B4xG+MBDwUU6Jrcthdq7PBwIA3poxFs5OIvxUfB2//Kfe1uUw\n",
              "O9YvAjFqqATz5G1TOvguHawr/SIQAPDqoyFwG+CMwssqHP692tblMDvVbwIx1F2MRYmjAAAf5/yJ\n",
              "Fh1P6WAd9ZtAAEBGQhCGuotR2XAT3/37r7t3YP1OvwrEILELlk4LAQB8dvQiVM2tNq6I2Zt+FQgA\n",
              "mBvjh1FDB+HGzVZ8wVM6WDv9LhAuzk7G668VJ8px9e9mG1fE7Em/CwQATAvzgTxoCLQ6Azbnltq6\n",
              "HGZH+mUgRCIR3pnZdpTYf+YyiqsbbVwRsxe9Fojeuq66u2T+XpgVNRxEwIZ/8pQO1qbXArFo0SK8\n",
              "+OKLKC0txfLly5GWltZbQ9/RW4+HwtVZhJ9La3HiYp2ty2F2oFdmu16/fh2jR49GQ0MDXFxcQEQY\n",
              "Pnw4Tpw4ccfrIkzdz2zXu3n/4AV8dbICo4YOwizpcKuMAZHIfLHrzRCZtGi/zR7c/h9DoHbL5g2o\n",
              "O20tbOpYH8SOHHLP/V0sWMsddXVddftAaLVaaLXm92ft6TXVPfHK1NHY/9tllNVq8Nm/rHPjA9Z7\n",
              "HpSI7T8QPZGZmYk1a9aYrYuLi7PaeN4SMbYviMaP569ZZf/tfxK2Px5Tuxam2+15CuLtA9ftI9jt\n",
              "o9p/l29v73i0a9/WkiJGeNxXf7s7ZersCLFgwQIEBwebrdPr9SgoKIBcLr+nS0ythevqmd6qKzAw\n",
              "EK+++urdG/bWpXmTJk0yu1lZdHT0fe1PpVIRAFKpVBaoznK4rp6xt7p67ZRp+/btSEtLw/r16+Hh\n",
              "4YGsrKzeGpqxbuu1QISGhuLUqVO9NRxj96RfflPN2J04bCDEYjFWr14NsVhs61LMcF09Y291OcRt\n",
              "aBjrLQ57hGDMGjgQjJngQDBmol8FYsuWLbh2zTpTNCoqKvDFF1902SYmJgbHjh2z2Ji3bt3C7Nmz\n",
              "ERISAkEQ8NhjjxkfRDN58mQEBQUZH3326aefGvstWrQIUqkUU6dOhUqlAtB2V/YnnngCZWX3f1lt\n",
              "fX29cVyZTIaQkBC4uLigoaHBpnV1i22/F+xdd3ocmCXk5eWRIAhdtomOjqa8vDyLjdnc3EyHDx8m\n",
              "g8FARETbtm2jSZMmEVHbzIDvv/++Q5/ff/+dpkyZQkREa9asoW3bthER0ZdffkkfffSRxWoztXHj\n",
              "RnryySftrq7O2MUR4tSpU5g4cSIEQUBUVBQOHDiA06dPIz4+HlFRUZDL5cjPzwfQ9pPYy8vL2Fet\n",
              "VrebQCbC+vXrIZfLERQUZPxGfO3atbh69SqSk5Mhk8lw7ty5e663ubkZycnJCA8PhyAImD59OhYv\n",
              "Xow///wTMpkMSUlJAICTJ09CJpMhMjISCxcuND4jw1IGDhyImTNnGt9/XFwcKioquuzj6uoKrVYL\n",
              "g8EAjUaDAQMGoLq6Grt378ayZcssWt9tu3btQnp6ut3V1alei94d1NfXk4+PDx0/fpyIiPR6PdXU\n",
              "1JC/vz/l5OQQEZFSqSRfX19qamqi8vJy8vT0NPZvamoi07cBgDZt2kRERMXFxSSRSKi1tZWILHeE\n",
              "yM7OpunTp5u9h/ZHCK1WS35+fpSbm0tERD/++CMBsOgRor358+fTkiVLiKjtJ3FoaChFRkbS3Llz\n",
              "qayszNhu5cqVJAgCPfvss6TRaCg5OZlOnz5tlZry8/PJ19fX+G9gL3Xdic0DcejQIUpISDBbV1RU\n",
              "RIGBgWbroqKiSKlUdisQ1dX/ffqol5cXVVVVEZHlAlFWVkb+/v700ksv0Z49e6ixsbFDIAoLC2nk\n",
              "yJFm/YKDg60WiA8//JDi4uJIo9EQEVFlZSURtT0jY9u2bRQWFtZpvx9++IHeeOMNqquro7S0NHr6\n",
              "6adpz549Fqvr+eefpzfffNO4bC913YnDBEIQBFIqlVRVVUUSicS4vra2tkMgbty4YVz29vY2PtTF\n",
              "kp8hmpqa6MCBA/TKK69QQEAAZWdn3zUQo0aNskogNm7cSNHR0Wbvuz2xWEx1dXVm61QqFU2cOJE0\n",
              "Gg29++67lJWVRa2trRQeHk43b96877qamppIIpFQcXGxXdXVFZt/hoiPj8fFixehVCoBAAaDAb6+\n",
              "vjAYDMjNzQXQdi5+7do1yGQyDBs2DESEP/74AwDwzTffdHssDw8P428v7sfly5chEomQlJSETZs2\n",
              "gYjg7e1ttu+xY8dCp9MhLy8PAPDTTz9Z5Tclmzdvxu7du5Gbm2v8bKXT6VBTU2Nss3//fvj6+sLb\n",
              "29us74oVK7Bq1Sq4ublBo9FAJBJBJBKhtbUVLS0t913b3r17IQgCxo4da1d1dcmqceumU6dOUXx8\n",
              "PEmlUhIEgQ4ePEi//vorTZgwgaRSKcXGxpJSqTS2VygUFBQURDExMbRhw4ZuHyF27NhBY8aMIUEQ\n",
              "7utIceTIERIEgaKioig8PJzeeecdam1tpVmzZlFERAQ99dRTRNR2/iwIAkVGRtLChQtJEASLHiGq\n",
              "qqoIAAUHB5MgCCQIAsnlclKr1RQdHU2RkZEUFRVFU6dOpXPnzpn1PXHiBKWlpRmXL126RLGxsRQW\n",
              "FkZr1661SH0TJkwghUJhXLaXurrCc5kYM2HzUybG7AkHgjETHAjGTHAgGDPBgWDMBAeCMRMcCMZM\n",
              "cCAYM8GBYMwEB4IxExwIxkz8Pzom+7h4hr8/AAAAAElFTkSuQmCC\n",
              "\">\n",
              "        \n",
              "      </div>\n",
              "      <script></script>\n",
              "      <script type=\"text/javascript\">\n",
              "        (() => {\n",
              "          const chartElement = document.getElementById(\"chart-21c69e4b-5c1c-4d81-baa6-9fc55cfee579\");\n",
              "          async function getCodeForChartHandler(event) {\n",
              "            const chartCodeResponse =  await google.colab.kernel.invokeFunction(\n",
              "                'getCodeForChart', [\"chart-21c69e4b-5c1c-4d81-baa6-9fc55cfee579\"], {});\n",
              "            const responseJson = chartCodeResponse.data['application/json'];\n",
              "            await google.colab.notebook.addCell(responseJson.code, 'code');\n",
              "          }\n",
              "          chartElement.onclick = getCodeForChartHandler;\n",
              "        })();\n",
              "      </script>\n",
              "      <style>\n",
              "        .colab-quickchart-chart-with-code  {\n",
              "            display: block;\n",
              "            float: left;\n",
              "            border: 1px solid transparent;\n",
              "        }\n",
              "\n",
              "        .colab-quickchart-chart-with-code:hover {\n",
              "            cursor: pointer;\n",
              "            border: 1px solid #aaa;\n",
              "        }\n",
              "      </style>"
            ]
          },
          "metadata": {}
        },
        {
          "output_type": "display_data",
          "data": {
            "text/plain": [
              "import numpy as np\n",
              "from google.colab import autoviz\n",
              "\n",
              "def value_plot(df, y, figscale=1):\n",
              "  from matplotlib import pyplot as plt\n",
              "  df[y].plot(kind='line', figsize=(8 * figscale, 4 * figscale), title=y)\n",
              "  plt.gca().spines[['top', 'right']].set_visible(False)\n",
              "  plt.tight_layout()\n",
              "  return autoviz.MplChart.from_current_mpl_state()\n",
              "\n",
              "chart = value_plot(_df_2, *['Pclass'], **{})\n",
              "chart"
            ],
            "text/html": [
              "      <div class=\"colab-quickchart-chart-with-code\" id=\"chart-1e0feb72-9b5d-4979-a472-cddf3376343c\">\n",
              "        <img src=\"data:image/png;base64,iVBORw0KGgoAAAANSUhEUgAAAMQAAABgCAYAAABCK92TAAAAOXRFWHRTb2Z0d2FyZQBNYXRwbG90\n",
              "bGliIHZlcnNpb24zLjcuMSwgaHR0cHM6Ly9tYXRwbG90bGliLm9yZy/bCgiHAAAACXBIWXMAAA9h\n",
              "AAAPYQGoP6dpAAAPBElEQVR4nO3de1BTd5sH8O+RCL4aAmxUZOUugpeEEw2wiHaDuLVSLdO3N6Yd\n",
              "RlHbWuvYWmurrW4dnVbtK69t1714BXuZqq+XFsdaK+4LGpVZRat06gVBFFhQgtwjcsuzf2CzJ8ot\n",
              "GkgCz2cmDjnn9zvnOTLf8zvhXCIQEYExBgAYYO8CGHMkHAjGJDgQjElwIBiT4EAwJsGBYEyCA8GY\n",
              "BAeCMQkOBGMSHAgns2vXLvj6+tq7jD6LA2EnsbGxcHV1hVwuh0KhgEqlws6dO+1dVr/HgbCjDz/8\n",
              "EPX19aiqqsKKFSvw+uuvIysry95l9WscCAfg4uKCpKQkKJVKnD9/Hg0NDVi1ahVCQ0Ph7u6O4OBg\n",
              "fP311+323bdvH7RaLby8vDB06FAkJCSgsLDQPP/SpUvQ6XTw9PSEl5cXtFotrl27BgDIzMxEREQE\n",
              "PDw8oFQqMXnyZFRVVfXKNjsqDoQDaGlpwbfffovKykpERkbijTfewLFjx5Ceno7a2lqcOnUKarW6\n",
              "3b7u7u5ITU1FRUUFrl69CiLCa6+9Zp7/9ttvY9q0aaioqIDBYMDOnTvh6ekJAEhKSsKiRYtQXV2N\n",
              "srIypKSkwNXVtTc22XERswudTkdubm7k4eFBSqWSJk6cSLt27SKDwUAA6Ny5c+32S0tLo5EjR3a4\n",
              "3AsXLhAAqq2tJSKi2NhYmj9/PuXn5z/SNjAwkFauXEklJSW22ag+gEcIO1q2bBmqq6tRUVGB8+fP\n",
              "Y86cOebDnbCwsG4t48SJE5g2bRp8fHygUCig0+kAAOXl5QDa/iolCALi4uLg6+uLJUuWoL6+HgBw\n",
              "6NAh3LhxA1qtFiEhIVi9ejVaWlp6YEudBwfCwQQGBgIA8vLyumzb1NSEWbNmYcaMGcjLy0NtbS1O\n",
              "nDgBAKAH930FBARg+/btuHXrFrKyspCRkYH169cDANRqNb7//nvcvn0b+/fvx5YtW5CWltYzG+Yk\n",
              "OBAOZtiwYXj11VexaNEi84ffsrIyXLhw4ZG2TU1NaGhogJeXF9zd3VFaWopVq1ZZtNm1axdKSkpA\n",
              "RFAoFJDJZJDJZGhqakJaWhoMBgMAwMPDAy4uLpDJZD2/kQ6MA+GAtm/fDp1Oh/j4eMjlckyePBm/\n",
              "//77I+3kcjl27NiBTz/9FHK5HPHx8Xj55Zct2mRmZiIqKgpyuRyiKGLSpElYvnw5AGD//v0YP348\n",
              "hgwZAp1Oh+TkZMyZM6dXttFRCUR8TzVjf+ARgjEJDgRjEhwIxiQ4EIxJcCAYk+BAMCbBgWBMwikC\n",
              "8dVXX7U7vcBQ38uVsL7OKQJx69Yti/etJsLC785j2l9P4GJxtX2KYn2SUwTiYS4DBAx2bbvmZt2R\n",
              "K+CT7cxWnDIQAPD+9FC4yQbgbGEl/vtKub3LYX2E0wbiHz3/hHlTggAAG45eRUuryc4Vsb7AaQMB\n",
              "AAtjR8Fr8EDkl9fjbzkl9i6H9QFOHQjFoIFYHDcaAPDF8TwYG/v33V7syTl1IAAgKToA/v8wGIa6\n",
              "RuzQF3bdgbFOOH0gXGUD8OGMtvuPt54sgKGu0c4VMWfm9IEAgJlqH4h+nrjX1Iovj3d9LzJjHekT\n",
              "gRAEAR/HjwEA7DlXjPxyPoPNHk+fCAQA/FOwEv8y1hutJsJfjl61dznMSfWZQADAivgwDBCAY5fv\n",
              "4Gxhpb3LYU7I6kAEBgYiLCwMGo0GGo0Ge/fuBQBcv34dMTExCA0NRWRkpMVTIjqbZ0shw92RGOkP\n",
              "gC/pYI/J2kf9BQQE0K+//vrI9KlTp1JaWhoREe3bt48iIiK6Na873nvvvW63vVPbQGP/9WcKWH6Y\n",
              "fsottWo9jNnkkKm8vBw5OTlISkoCALz44osoLi5Gfn5+p/N6wnD3QXjjqWAAwF+OXkVTC1/Swbrv\n",
              "sQIxe/ZsqNVqzJ8/HwaDAcXFxfDx8TE/9U0QBPj7+6OoqKjTee1pbGxEbW2txau1tdWq+t7852AM\n",
              "lbvh5t17+P5/bnXdgbEHrA7EyZMnkZubiwsXLmDo0KE2f9Lb+vXr4eHhYfE6e/asVcsY4ibDe0+3\n",
              "XdLxb3/PR+39ZpvWyPouqwPh79/2oXXgwIFYsmQJ9Ho9/Pz8UFZWZn5yNBGhqKgI/v7+nc5rz0cf\n",
              "fYSamhqLV1RUlNUblhjhh+BhQ1BpbMLWEwVW92f9k1WBMBqNqK6uNr/fvXs3JkyYgOHDh2PixIn4\n",
              "7rvvAAAHDhyAr68vQkJCOp3XHjc3NygUCouXi4uL1RsmcxmAFTPaTtbt0BeirKbB6mWwfsiaT+AF\n",
              "BQWk0WhIrVaTSqWihIQEKiwsJCKiq1evUnR0NI0ePZq0Wi3l5uaa+3U2rzus+SuTlMlkopf+6zQF\n",
              "LD9My/528bGWwfoXp3jY8dKlS7Fp06bH6vtrURX+/J9nIAjAz+8+hTEjFDaujvUlfepMdXsm+Hth\n",
              "ptoHRMCGn/mSDta5Ph8IAPjgmTDIBgjIumbA6fwKe5fDHFi/CETg0CFIig4A0HZJh8nk8EeJzE76\n",
              "RSAAYHFcCNzdZPi9tBaHLpXauxzmoPpNIJRyN7wVOwoAsPGXa7jfbN3Zb9Y/9JtAAMC8yUEYoRiE\n",
              "/61uwDfZN+1dDnNA/SoQf3J1wfvTQwEA//73fFTfa7JzRczR9KtAAMALE30xZoQ7au+34D8ye+aK\n",
              "W+a8+l0gXAYIWPHg/uuvz9xCceU9O1fEHEm/CwQA6EKHYXKIEk2tJqQcu2bvcpgD6ZeBEAQBH8WP\n",
              "BQCkXyzFbyU1dq6IOYpeC0Rv3VfdXaqRHvjzhJEA+P5r9v96LRALFizAm2++iby8PCxfvhzJycm9\n",
              "teoOvT89FK4uA5B94y6y8gz2Loc5gF652rW8vBwhISGorKyETCYDEcHHxwenTp3q8L4IqSe52rUr\n",
              "645cwbaTNxCgHIxnxo8AAAgP/hHafoIgtE0T2pkGQTD3kc7vCqHr//Y/fjP00AR6ZD61255Isp5H\n",
              "5nXcp71lSvs4smdUIxAzauhj95fZsJYOdXZf9cOBaGxsRGOj5fNZrb2n2hqLYkOw91wxbt29h20n\n",
              "b/TYeljv8FcOcfxAWGP9+vVYs2aNxbTo6OgeW5/H4IFITY7Asct32vaokj0nwXKP+fDe8uE9sXRv\n",
              "271xomsPBiCLkQmS5QuC0GV74eF5klFN+kPH63h0nqPS+Hk8UX+HO2Rqb4SYPXs2goODLaa1trbi\n",
              "7NmziIqKeqxbTHsK12Wd3qorICAA7777btcNe+vWPJ1OZ/GwMq1W+0TLq6mpIQBUU1Njg+psh+uy\n",
              "jqPV1WuHTFu3bkVycjLWrVsHhUKBtLS03lo1Y93Wa4EICwtDdnZ2b62OscfSL89UM9YRpw2Em5sb\n",
              "Vq9eDTc3N3uXYoHrso6j1eUUj6FhrLc47QjBWE/gQDAmwYFgTKJfBeLLL7/E7du3e2TZN2/exJYt\n",
              "WzptExERgaysLJut8/79+3j++ecRGhoKURTx9NNPm7+IJjY2FkFBQeavPvviiy/M/RYsWAC1Wo24\n",
              "uDjU1LTdC0JEiI+PR0HBkz8p/e7du+b1ajQahIaGQiaTobKy0q51dYt9zwv2ro6+DswWMjMzSRTF\n",
              "TttotVrKzMy02TobGhrop59+IpPJREREmzdvJp1OR0RtVwb88MMPj/T57bffaOrUqUREtGbNGtq8\n",
              "eTMREW3bto0+//xzm9UmtXHjRpo1a5bD1dUehxghsrOzMWXKFIiiiPDwcKSnpyMnJwcxMTEIDw9H\n",
              "VFQUTp8+DaBtT+zp6WnuW19fb3GBmyAIWLduHaKiohAUFGQ+I7527VqUlpYiMTERGo0GFy9efOx6\n",
              "GxoakJiYiHHjxkEURUyfPh1vvfUWrl27Bo1Gg4SEBADAmTNnoNFooFKpMHfuXPN3ZNjKoEGD8Oyz\n",
              "z5q3Pzo6Gjdv3uy0z8CBA9HY2AiTyQSj0QhXV1eUlZVh9+7dWLp0qU3r+8POnTsxf/58h6urXb0W\n",
              "vQ7cvXuXhg8fTidPniQiotbWVrpz5w75+fnR0aNHiYhIr9eTt7c31dXVUWFhIXl4eJj719XVkXQz\n",
              "AFBKSgoREV25coXkcjk1NzcTke1GiIMHD9L06dMttuHhEaKxsZF8fX0pIyODiIh++eUXAmDTEeJh\n",
              "SUlJ9M477xBR2544LCyMVCoVvfLKK1RQUGBut3LlShJFkV566SUyGo2UmJhIOTk5PVLT6dOnydvb\n",
              "2/w7cJS6OmL3QBw+fJieeuopi2m5ubkUEBBgMS08PJz0en23AlFWVmZ+7+npScXFxURku0AUFBSQ\n",
              "n58fLVy4kPbs2UO1tbWPBOLSpUsUGBho0S84OLjHAvHZZ59RdHQ0GY1GIiIqKioiorbvyNi8eTON\n",
              "HTu23X4//vgjLVu2jCoqKig5OZleeOEF2rNnj83qmjdvHn3wwQfm945SV0ecJhCiKJJer6fi4mKS\n",
              "y+Xm6QaD4ZFAVFVVmd8rlUrzl7rY8jNEXV0dpaen0+LFi8nf358OHjzYZSBGjRrVI4HYuHEjabVa\n",
              "i+1+mJubG1VUVFhMq6mpoSlTppDRaKRVq1ZRWloaNTc307hx4+jevXtPXFddXR3J5XK6cuWKQ9XV\n",
              "Gbt/hoiJicH169eh1+sBACaTCd7e3jCZTMjIyADQdix++/ZtaDQajBgxAkSEy5cvAwC++eabbq9L\n",
              "oVCY/3rxJEpKSiAIAhISEpCSkgIiglKptFj2mDFj0NLSgszMTADA8ePHe+QvJZs2bcLu3buRkZFh\n",
              "/mzV0tKCO3fumNscOHAA3t7eUCqVFn1XrFiBTz75BIMHD4bRaIQgCBAEAc3NzWhqevKnGu7duxei\n",
              "KGLMmDEOVVenejRu3ZSdnU0xMTGkVqtJFEU6dOgQnTt3jiZNmkRqtZoiIyNJr9eb26emplJQUBBF\n",
              "RETQhg0buj1CbN++nUaPHk2iKD7RSHHkyBESRZHCw8Np3Lhx9PHHH1NzczPNnDmTxo8fT8899xwR\n",
              "tR0/i6JIKpWK5s6dS6Io2nSEKC4uJgAUHBxMoiiSKIoUFRVF9fX1pNVqSaVSUXh4OMXFxdHFi5Zf\n",
              "KXbq1ClKTk42v8/Pz6fIyEgaO3YsrV271ib1TZo0iVJTU83vHaWuzvC1TIxJ2P2QiTFHwoFgTIID\n",
              "wZgEB4IxCQ4EYxIcCMYkOBCMSXAgGJPgQDAmwYFgTIIDwZjE/wEWD5/8PlDXIQAAAABJRU5ErkJg\n",
              "gg==\n",
              "\">\n",
              "        \n",
              "      </div>\n",
              "      <script></script>\n",
              "      <script type=\"text/javascript\">\n",
              "        (() => {\n",
              "          const chartElement = document.getElementById(\"chart-1e0feb72-9b5d-4979-a472-cddf3376343c\");\n",
              "          async function getCodeForChartHandler(event) {\n",
              "            const chartCodeResponse =  await google.colab.kernel.invokeFunction(\n",
              "                'getCodeForChart', [\"chart-1e0feb72-9b5d-4979-a472-cddf3376343c\"], {});\n",
              "            const responseJson = chartCodeResponse.data['application/json'];\n",
              "            await google.colab.notebook.addCell(responseJson.code, 'code');\n",
              "          }\n",
              "          chartElement.onclick = getCodeForChartHandler;\n",
              "        })();\n",
              "      </script>\n",
              "      <style>\n",
              "        .colab-quickchart-chart-with-code  {\n",
              "            display: block;\n",
              "            float: left;\n",
              "            border: 1px solid transparent;\n",
              "        }\n",
              "\n",
              "        .colab-quickchart-chart-with-code:hover {\n",
              "            cursor: pointer;\n",
              "            border: 1px solid #aaa;\n",
              "        }\n",
              "      </style>"
            ]
          },
          "metadata": {}
        },
        {
          "output_type": "display_data",
          "data": {
            "text/plain": [
              "import numpy as np\n",
              "from google.colab import autoviz\n",
              "\n",
              "def value_plot(df, y, figscale=1):\n",
              "  from matplotlib import pyplot as plt\n",
              "  df[y].plot(kind='line', figsize=(8 * figscale, 4 * figscale), title=y)\n",
              "  plt.gca().spines[['top', 'right']].set_visible(False)\n",
              "  plt.tight_layout()\n",
              "  return autoviz.MplChart.from_current_mpl_state()\n",
              "\n",
              "chart = value_plot(_df_3, *['Age'], **{})\n",
              "chart"
            ],
            "text/html": [
              "      <div class=\"colab-quickchart-chart-with-code\" id=\"chart-9a07e3e9-2f77-4916-bd3f-58371cf265b6\">\n",
              "        <img src=\"data:image/png;base64,iVBORw0KGgoAAAANSUhEUgAAAMQAAABgCAYAAABCK92TAAAAOXRFWHRTb2Z0d2FyZQBNYXRwbG90\n",
              "bGliIHZlcnNpb24zLjcuMSwgaHR0cHM6Ly9tYXRwbG90bGliLm9yZy/bCgiHAAAACXBIWXMAAA9h\n",
              "AAAPYQGoP6dpAAAQAElEQVR4nO3de0wU594H8O/M3pAiUFGBIxdBLorAbIsgEjwW661qSW+pSWsU\n",
              "q6e25lit0VN7OW20b7VGS2tM0NZUjNGosVr1iKct9qCC8kaxIrwVK1KV9YjchGVdYG/ze/9YHHcF\n",
              "EXBhd+H5JJPZeeb2G90vs5eZZzkiIjAMAwDgnV0Aw7gSFgiGscECwTA2WCAYxgYLBMPYYIFgGBss\n",
              "EAxjgwWCYWywQDCMDRYIhrHBAuHisrOzwXEcVq9e7exSBgSOXcvk2hITE3H9+nXwPA+NRgOVSuXs\n",
              "kvo1doZwYefPn0dRURF2794NrVaLAwcOSPN0Oh0yMjLg5+eHoKAgbN68GUFBQdi5c6e0zJUrVzB7\n",
              "9mz4+/tjxIgRWLJkCfR6vROOxH2wQLiwrKwsqNVqzJgxAy+//DKysrKkecuWLcPly5dRWlqKq1ev\n",
              "orS0FNXV1dL8uro6TJw4Ec8//zwqKytx6dIlXL16FcuXL3fCkbgRYlzS3bt3adCgQZSVlUVERL/+\n",
              "+isBoOLiYjKbzaRUKiknJ0daXqvVEs/zlJ2dTUREX331FSUnJ9tts6CggJRKJZnN5j47DnfDzhAu\n",
              "6v6b6TfffBMAkJaWhoiICGRlZaGurg5GoxGhoaHS8t7e3nj66ael6fLycly4cAG+vr7SMHPmTHAc\n",
              "hzt37vT58bgLFggXRETYtm0bjEYjoqKiEBAQgMDAQNy6dQt79uyBh4cHlEolbt68Ka3T1NSEhoYG\n",
              "aTogIACpqalobGyUBq1Wi9bWVowYMcIZh+UWWCBcUG5uLsrLy/HLL7+guLhYGkpKSgAAu3btwhtv\n",
              "vIG1a9eiqqoKzc3NWLVqFXj+wX/nggULcPHiRWRlZaG5uRlEBI1Gg8OHDzvpqNwDC4QL2rp1K6ZM\n",
              "mYK0tDQEBARIQ2RkJBYtWoStW7di8+bNiIqKwtixYxEZGYmYmBgMGTIEHh4eAICQkBAUFhYiNzcX\n",
              "o0aNgq+vL6ZPn47S0lInH51rY99D9BMNDQ3w8/PDmTNnMGHCBGeX47bYGcJNVVZW4tSpU7BYLKiv\n",
              "r8eSJUsQGRmJxMREZ5fm1lgg3JTRaMTSpUvh6+uLyMhINDY24ujRo5DL5c4uza2xl0wMY4OdIRjG\n",
              "BgsEw9hggWAYGywQDGPDLQKxefPmDtuv1dzr40qY/s4tAmF7zQ4AWETCkj0XMCXzFIo1jc4piumX\n",
              "3CIQD5PxHAYprJ+3f37sMtgnx4yjuGUgAOAfM6IxSCHDhZsNyCmtcnY5TD/htoHw9/bAO5NGAQC+\n",
              "/PcVtJosTq6I6Q/cNhAA8Le/hiHA2wO3Glqw48x1Z5fD9ANuHQhPpRz/mBENAMjKq0CtzuDkihh3\n",
              "59aBAICX1CMQH+SDewYzMnP/cHY5jJtz+0DwPId/zo4BAOw/r0FZVZOTK2LcmdsHAgASRw7BzLgA\n",
              "iAR8kVPGPoZleqxfBAIAVs8YA6WMR8G1OvznSo2zy2HcVL8JRIifJxakjgQAfHG8DCaL6NyCGLfU\n",
              "bwIBAH9Pi4DfU0r8WavHnv+9+fgVGOYh3Q7EyJEjER0dDbVaDbVajf379wOwdoyVkpKCqKgoJCYm\n",
              "4vfff5fW6WyeIw32UGDFtCgAwDe/lkPbbOqV/TD9WHe7+gsNDaWLFy+2a09LS5O6UTxw4ACNGzeu\n",
              "S/O64v333+/ysiazhaZmnqTQD47RmqO/d2s/DOOQl0w1NTUoKirC3LlzAQCvvvoqNBoNrl271um8\n",
              "3iCX8fhklvVj2F2FN/BnLbtEnOm6HgVi3rx5iIuLw8KFC1FbWwuNRoPAwECpxweO4xASEoLKyspO\n",
              "53XEYDCgqanJbrBYuned0l+jhiEtehjMImHd8Ss9OURmgOp2IE6fPo2SkhL89ttvGDp0KObPn+/Q\n",
              "gtavXw8fHx+74dy5c93ezsezxkDGczhRVo2z1+ocWiPTf3U7ECEhIQAAhUKB5cuXIz8/H8HBwaiq\n",
              "qoLZbAZg7ay3srISISEhnc7ryIcffgitVms3JCUldfvAIoYPxpvjrfv4PKcMFpF9Wcc8XrcCodfr\n",
              "0djYKE3v3bsXzzzzDIYPH45nn30Wu3fvBgAcPHgQQUFBiIiI6HReR1QqFby9ve0GmUzWo4NbPiUK\n",
              "gz3kKKtqwg8XND3aBjPAdOcdeEVFBanVaoqLi6PY2FhKT0+n69evExHRlStXKDk5mSIjIykhIYFK\n",
              "Skqk9Tqb1xXd+ZTpYdtPV1DoB8co4fNc0rWaerwdZmBwi577VqxYgczMzB6tazSLmPb1Kdyob8bf\n",
              "0yKwcnq0g6tj+pN+9U11R5RyHqtfGAMA2J7/J/7b2OLkihhX1u8DAQDTx/pjfNgQGMwiNvybfQzL\n",
              "PNqACATHWe+Z4Djg6KXb+K2y4fErMQPSgAgEAMSO8MFrzwYBYF3XMI82YAIBACunR8NTKcPFykb8\n",
              "q4R1XcO0N6ACYdt1zQbWdQ3TgQEVCAD428RwBPp44L+NLfi+gHVdw9gbcIEYpJThgxmjAQBZeddQ\n",
              "o2t1ckWMKxlwgQCAdOEvEIJ9oTdakPnLVWeXw7iQARkInufwz1nWL+v2F2lw+TbruoaxGrA/WTlu\n",
              "5BDMig9ETkkV/ifnMvYsGg+O45xdFtMFrSYLanUG1N4zWMc6A+raHqcLf8H4cL8eb7vPAlFeXo75\n",
              "8+ejrq4OPj4+2LlzJ8aOHdtXu+/Q6hmjkXu5Gmcr6nGirAZTY/ydWs9AZjSLqNe3f4JbHxulANTp\n",
              "DNAZzI/cTtjQp9wjEIsXL8bbb7+NjIwM/PDDD8jIyMD58+f7avcdCh7iiYWpYdh6sgKfHfk/nL5a\n",
              "Cw8FDw+FDCp521ghg4ecl8YeCpnd/HbLy3mnnWlEkdBssqDZaEaL0QK9wYIWkxnNbY/NogizhWAW\n",
              "CRZRbBsTzJa28cPtdvPt20WRYCHrtCiN0a5dFAELPVj+wRgQiWC0iLirN6Kxmx1CKOU8hnmpMGyw\n",
              "dRja9viZkKef6N+wT652rampQUREBO7evQu5XA4iQmBgIAoKCh55X4StJ7na9XF0rSakbTqJuntG\n",
              "h21TKeehkvFQyHkoZTwUcg5KGQ+lXAaljINSzkMp56GQ8W3tD8aK+9Ntj0WRoL//BDda0GJse4Lb\n",
              "PLYOZrSa3LsvKjnPSU/soV7Kdk/2YV4qDG1rG6yS98ofnj45Q3R2X/XDgTAYDDAY7Hvx7u491d0x\n",
              "2EOB3YvG4z9XatBqtMBgFtFqsqDVJKLVbIGhbXy/zWAWYTC1Td9/bBbt7sgzmkUYzSLgpM7IOQ7w\n",
              "VMjgqZLDUynDIIUMnkoZlHIecp6HjOcg5znrWMZBxvMPptva2i3Hty0n48BzHGQ82sbWgec6buc4\n",
              "DrKH2nmOA8/fb+fg56XEMC8VfAYpwPPOfR/ncm+q169fjzVr1ti1JScn9+o+Rwd4Y3SA9xNtw2Sx\n",
              "BslgtobGaBZhsljHxvvjjtosIkz3xxZqt66M5+CplLUNbU9wpQxP2T5WyaUn/VMquVNftrk7l3vJ\n",
              "1NEZYt68eQgPD7drs1gsOHfuHJKSknp8i2lvYHV1T1/VFRoaimXLlj1+wb66NW/SpEl2nZUlJCQ8\n",
              "0fa0Wi0BIK1W64DqHIfV1T2uVlefvWT69ttvkZGRgXXr1sHb2xvZ2dl9tWuG6bI+C0R0dDQKCwv7\n",
              "ancM0yMD8tINhnkUtw2ESqXCZ599BpVK5exS7LC6usfV6nKLbmgYpq+47RmCYXoDCwTD2GCBYBgb\n",
              "AyoQ33zzDe7cudMr275x4wa2bdvW6TLjxo3DyZMnHbbP1tZWvPTSS4iKioIgCJg6dar0QzTPPfcc\n",
              "wsLCpJ8++/rrr6X1Fi9ejLi4OEyePBlarRaAtVf2F154ARUVFU9cV319vbRftVqNqKgoyOVy3L17\n",
              "16l1dYlzvxfsW4/6OTBHyMvLI0EQOl0mISGB8vLyHLbPlpYWysnJIVEUiYhoy5YtNGnSJCKyXhnw\n",
              "448/tluntLSU0tLSiIhozZo1tGXLFiIi+u6772jDhg0Oq83Wxo0bafbs2S5XV0dc4gxRWFiI1NRU\n",
              "CIKA+Ph4HDlyBEVFRUhJSUF8fDySkpJw5swZANa/xL6+vtK69+7ds7uQjeM4rFu3DklJSQgLC5O+\n",
              "EV+7di1u376NOXPmQK1Wo7i4uMf1trS0YM6cOYiJiYEgCJg2bRreeecd/PHHH1Cr1UhPTwcAnD17\n",
              "Fmq1GrGxsViwYIH0GxmO4uHhgZkzZ0rHn5ycjBs3bnS6jkKhgMFggCiK0Ov1UCqVqKqqwt69e7Fi\n",
              "xQqH1nff999/j4ULF7pcXR3qs+g9Qn19PQ0fPpxOnz5NREQWi4Wqq6spODiYfvrpJyIiys/PJ39/\n",
              "f9LpdHT9+nXy8fGR1tfpdGR7GABo06ZNRERUVlZGXl5eZDJZu8F31Bni0KFDNG3aNLtjePgMYTAY\n",
              "KCgoiHJzc4mI6OeffyYADj1DPGzu3Ln03nvvEZH1L3F0dDTFxsbS66+/ThUVFdJyH3/8MQmCQK+9\n",
              "9hrp9XqaM2cOFRUV9UpNZ86cIX9/f+n/wFXqehSnB+LYsWM0ceJEu7aSkhIKDQ21a4uPj6f8/Pwu\n",
              "BaKqqkqa9vX1JY1GQ0SOC0RFRQUFBwfTu+++S/v27aOmpqZ2gbh06RKNHDnSbr3w8PBeC8QXX3xB\n",
              "ycnJpNfriYiosrKSiIhEUaQtW7bQmDFjOlzv8OHDtHLlSqqrq6OMjAx65ZVXaN++fQ6r66233qJV\n",
              "q1ZJ065S16O4TSAEQaD8/HzSaDTk5eUltdfW1rYLRENDgzTt5+cn/aiLI99D6HQ6OnLkCC1dupRC\n",
              "QkLo0KFDjw3EqFGjeiUQGzdupISEBLvjfphKpaK6ujq7Nq1WS6mpqaTX6+mTTz6h7OxsMplMFBMT\n",
              "Q83NzU9cl06nIy8vLyorK3Opujrj9PcQKSkpKC8vR35+PgBAFEX4+/tDFEXk5uYCsL4Wv3PnDtRq\n",
              "NQICAkBEuHz5MgBg165dXd6Xt7e39OnFk7h16xY4jkN6ejo2bdoEIoKfn5/dtkePHg2z2Yy8vDwA\n",
              "wIkTJ3rlk5LMzEzs3bsXubm50nsrs9mM6upqaZmDBw/C398ffn72N9+vXr0an376KTw9PaHX68Fx\n",
              "1jvcTCYTjMYnv6V2//79EAQBo0ePdqm6OtWrceuiwsJCSklJobi4OBIEgY4ePUrnz5+nCRMmUFxc\n",
              "HCUmJlJ+fr60/I4dOygsLIzGjRtHX375ZZfPENu3b6fIyEgSBOGJzhTHjx8nQRAoPj6eYmJi6KOP\n",
              "PiKTyUSzZs2isWPH0osvvkhE1tfPgiBQbGwsLViwgARBcOgZQqPREAAKDw8nQRBIEARKSkqie/fu\n",
              "UUJCAsXGxlJ8fDxNnjyZiouL7dYtKCigjIwMafratWuUmJhIY8aMobVr1zqkvgkTJtCOHTukaVep\n",
              "qzPsWiaGseH0l0wM40pYIBjGBgsEw9hggWAYGywQDGODBYJhbLBAMIwNFgiGscECwTA2WCAYxgYL\n",
              "BMPY+H/I3tSlYOkCZQAAAABJRU5ErkJggg==\n",
              "\">\n",
              "        \n",
              "      </div>\n",
              "      <script></script>\n",
              "      <script type=\"text/javascript\">\n",
              "        (() => {\n",
              "          const chartElement = document.getElementById(\"chart-9a07e3e9-2f77-4916-bd3f-58371cf265b6\");\n",
              "          async function getCodeForChartHandler(event) {\n",
              "            const chartCodeResponse =  await google.colab.kernel.invokeFunction(\n",
              "                'getCodeForChart', [\"chart-9a07e3e9-2f77-4916-bd3f-58371cf265b6\"], {});\n",
              "            const responseJson = chartCodeResponse.data['application/json'];\n",
              "            await google.colab.notebook.addCell(responseJson.code, 'code');\n",
              "          }\n",
              "          chartElement.onclick = getCodeForChartHandler;\n",
              "        })();\n",
              "      </script>\n",
              "      <style>\n",
              "        .colab-quickchart-chart-with-code  {\n",
              "            display: block;\n",
              "            float: left;\n",
              "            border: 1px solid transparent;\n",
              "        }\n",
              "\n",
              "        .colab-quickchart-chart-with-code:hover {\n",
              "            cursor: pointer;\n",
              "            border: 1px solid #aaa;\n",
              "        }\n",
              "      </style>"
            ]
          },
          "metadata": {}
        },
        {
          "output_type": "display_data",
          "data": {
            "text/plain": [
              "<google.colab._quickchart_helpers.SectionTitle at 0x7e827e1d0190>"
            ],
            "text/html": [
              "<h4 class=\"colab-quickchart-section-title\">Distributions</h4>\n",
              "<style>\n",
              "  .colab-quickchart-section-title {\n",
              "      clear: both;\n",
              "  }\n",
              "</style>"
            ]
          },
          "metadata": {}
        },
        {
          "output_type": "display_data",
          "data": {
            "text/plain": [
              "import numpy as np\n",
              "from google.colab import autoviz\n",
              "\n",
              "def histogram(df, colname, num_bins=20, figscale=1):\n",
              "  from matplotlib import pyplot as plt\n",
              "  df[colname].plot(kind='hist', bins=num_bins, title=colname, figsize=(8*figscale, 4*figscale))\n",
              "  plt.gca().spines[['top', 'right',]].set_visible(False)\n",
              "  plt.tight_layout()\n",
              "  return autoviz.MplChart.from_current_mpl_state()\n",
              "\n",
              "chart = histogram(_df_4, *['PassengerId'], **{})\n",
              "chart"
            ],
            "text/html": [
              "      <div class=\"colab-quickchart-chart-with-code\" id=\"chart-fa6fa261-bfe9-45de-ad6d-b62523d03744\">\n",
              "        <img src=\"data:image/png;base64,iVBORw0KGgoAAAANSUhEUgAAAMQAAABgCAYAAABCK92TAAAAOXRFWHRTb2Z0d2FyZQBNYXRwbG90\n",
              "bGliIHZlcnNpb24zLjcuMSwgaHR0cHM6Ly9tYXRwbG90bGliLm9yZy/bCgiHAAAACXBIWXMAAA9h\n",
              "AAAPYQGoP6dpAAAQXklEQVR4nO3de1BUZR8H8O8KsYKwLC6CCrGoLBCCqyCKWpFimbwkhONk5ggk\n",
              "6WSpDaZhzoSRo82o5GpjZqmYNmp5KdOsVBTLK6GiYiCoCN6Wi7Ag7Aq7+3v/4PW8u7IiB9gL9nxm\n",
              "doZzzrN7vj7w89yes0dARASGYQAA3awdgGFsCSsIhjHACoJhDLCCYBgDrCAYxgArCIYxwAqCYQyw\n",
              "gmAYA6wgGMYAKwim002dOhWJiYnWjtEurCDa4KWXXoKDgwOcnZ0hEokQHByMDRs2WDuWVRw9ehQC\n",
              "gQBardbaUcyCFUQbLViwAPfv30d1dTVSU1ORnJyMo0ePWjuWRTU1NVk7gtmxguDJzs4OU6dOhUQi\n",
              "QXZ2NqKiotCrVy+4urpi+PDhyMrK4trW1NRg8uTJcHd3h0gkgr+/P3bu3AkAKC0tRXR0NHr27AlX\n",
              "V1cEBwfjzz//5N7766+/Yvjw4XBzc4NMJsPq1au5ZSUlJRAIBNi8eTPkcjlcXFwQERGBy5cvc23q\n",
              "6uqQmJgIiUQCb29vKBQKeHt7IzMzk2tTUFCAmJgYeHp6wsvLC7NmzUJ9fT233NfXF2lpaXj11Vfh\n",
              "4uKClStXmuyT5cuXw8fHB2KxGMnJyWhsbOxwP1sNMU8UGRlJixYtIiKipqYm+u6770ggEFB2djb9\n",
              "8ccf1NDQQBqNhtLS0kgkEpFSqSQioo8//piio6OptraW9Ho9lZSUUH5+PhERTZkyhZKTk0mtVpNO\n",
              "p6OCggK6du0aERFlZWWRq6srHTp0iHQ6HV28eJG8vb1p69atRER0/fp1AkBRUVF0+/ZtUqvVNHHi\n",
              "RHrxxRe5zElJSRQeHk63bt2i+vp6mj59Otnb29OmTZuIiKiiooLc3d0pIyODNBoNVVRUUFRUFCUn\n",
              "J3OfIZVKydPTk06cOEF6vZ7q6+vpyJEjBICampqIiOj7778nsVhMx48fp8bGRvr666/J3t6eEhIS\n",
              "zPo7MRdWEG0QGRlJQqGQXF1dSSKRUGhoKGVmZpps6+rqSnv37iUiosWLF9Pw4cPpzJkzpNPpjNol\n",
              "JiZSTEwMXbp0ifR6vdGy1157jVJTU43mLVmyhKKioojo/wWRnZ3NLd+3bx85OjoSEZFWqyUHBwfa\n",
              "v38/t1ylUlG3bt24gli5ciVFREQYreOvv/4iBwcH0mq1RNRcEI/meLQgxo4dSykpKUZtQkNDu2xB\n",
              "sF2mNvrwww9RU1ODyspK5ObmIiEhAaWlpZg8eTJ8fHwgEokgFotRW1uL8vJyAMD8+fPxyiuvIDk5\n",
              "GRKJBJMmTUJxcTEAYMWKFfDz80N8fDw8PT2RlJQEpVIJACgqKoJCoYBYLOZen3/+Oe7cuWOUqW/f\n",
              "vtzPPXr0gFqthlarRWVlJRobGyGVSrnlIpEIbm5u3HRRURFyc3ON1hEdHQ2BQIC7d+9y7fr169dq\n",
              "v9y8ebNFmye9x5axguiAd955B3q9Hjk5OaitrUV1dTVEIhHof/dcOTk5IT09HXl5ebh69Srs7e2R\n",
              "kJAAAJBIJPjiiy9QWFiIc+fOoaSkBCkpKQCA3r17IzU1FTU1Ndyrrq4O+fn5bcrl7u4OBwcH3Lhx\n",
              "g5v3MN9DvXv3xvPPP2+0DpVKBY1GAy8vL65dt26t/4l4e3ujpKTEaN6j010JK4gOUKlUcHZ2hpub\n",
              "G+rr67Fw4ULcv3+fW753717k5+dDq9XCyckJjo6OsLe3BwBs374dV69ehV6vh4uLC4RCIbds7ty5\n",
              "WLNmDQ4fPgytVgutVotLly7h2LFjbcplZ2eHKVOmID09HXfu3EFDQwPmz59v9MedlJSEc+fOYe3a\n",
              "tWhoaAARoaysDD/99BOvPkhISMDGjRtx6tQpaLVafPvtt8jLy+P1GbaEFUQHrF69Gnl5eXBzc0NQ\n",
              "UBC8vLzg7e3NLb9+/Tri4uIgFovh5eUFpVLJXb/Iy8vDmDFj4OLiggEDBkAsFmPFihUAgLi4OGzZ\n",
              "sgWffPIJPDw84OHhgeTkZFRWVrY5m0KhgL+/PwYOHAiZTIagoCD07NkT3bt3BwD4+Pjg5MmTOHjw\n",
              "ILf+cePG4eLFi7z64K233sKCBQswadIkuLu749SpU3j99dd5fYYtERCxe6r/DaqrqyGRSHD8+HGM\n",
              "GDHC2nFsFu8txO+//26OHEwnKy0tRXZ2NnQ6HaqqqjBr1izIZDKEh4dbO5pN410Q6enpCAgIgEKh\n",
              "QG1trTkyMZ2gsbERs2fPhlgshkwmQ01NDfbu3csdpzCmtWuX6eHB2C+//IL4+Hi8//77CAoKMkc+\n",
              "hrGoDh1DnD9/HhMmTMDt27cxevRoZGRkICQkpDPzMYxFtess06FDhxAbG4v4+Hi89957uHv3LmbO\n",
              "nNmlzy4wDNCOLcRzzz0Hd3d3zJkzB/Hx8bCzs+OWjR8/HgcOHAAAaDQaTJ48GZcvX4ajoyM8PDzw\n",
              "1Vdfwc/Pr3P/BQzTiXgXRG5uLsLCwp7YTqPRICsrC+PHj4dAIMCXX36JnTt3/uuGTDNdC+9dptzc\n",
              "XNy7d4+brqqqwjfffNOiXffu3bmxMQAQERHB65K+QqHgG41hOox3QaxduxY9e/bkpiUSCdauXfvE\n",
              "9ykUCsTGxppc9uDBA9TW1hq9rl27xjcaw3QY75PSpvawdDpdq+9ZunQpiouLcfjwYZPLly1bhk8/\n",
              "/dRoXkREBN9oFuebut/k/JLP/2P1DJbOYUnm7HfeW4g+ffrghx9+4KZ37NiBPn36PLb9ihUrsHv3\n",
              "bhw4cABOTk4m2yxcuBAqlcroNWzYML7RGKbDeG8hVq1ahdjYWCxYsABA8xDnn3/+2WTbjIwMbNu2\n",
              "DYcOHYJYLH7sZwqFQgiFQqN5hmevGMZSeBdEYGAgLl++jMLCQgBAQECAyT/emzdvYt68eejfvz9G\n",
              "jx4NoPkP//Tp0x2MzDDm066BLQKBAGKxGFqtFrdu3QLQPJzYkLe3t8njDYaxZbwLIjMzE3PmzMEz\n",
              "zzzD3XAiEAi42yYZpivjXRCfffYZcnJyEBAQYI48DGNVvM8yubu7s2Jgnlq8CyIuLg6rVq1CeXm5\n",
              "0YU0hnka8N5lWrRoEQAgJSUFAoEARASBQPDEi3MM0xXwLgi9Xm+OHAxjE9p1P0Rubi62bNkCoPn7\n",
              "Sx/9Ai2G6araNbjv7bffxuLFiwE0j3adMmVKZ+diGKvgXRDr16/HqVOnIBKJAAADBgxARUVFpwdj\n",
              "GGvgXRBCoRCOjo5G89g3OTBPC94F0atXL1y5coW78SczM7PFsA2G6araNdr1zTffREFBAZ599lmI\n",
              "RCLs27fPHNkYxuJ4F4Sfnx9Onz6NwsJCENFjR7syTFfEuyBKS0sBND+PAMBjR7ua07/xLjFbZwt3\n",
              "D3YG3gURFhbGXaHWaDRoaGiARCJho12ZpwLvgnj0FOvu3bu79PMAGMZQh58PER8fj/37H78LwzBd\n",
              "Ce8thOHIVp1Oh9OnT7PRrsxTg3dBiMVi7hjCzs6uxTOUGaYrY6NdGcYAe8YcwxjgvYXo1q0bN2zD\n",
              "ELtRiHka8C6I9PR0qNVqvPvuuwCAdevWwdHRER988EFnZ2MYi+NdEHv27EFubi43vWTJEoSFhXG3\n",
              "ljJMV8b7GKKurs7oqnR5eTnq6uo6NRTDWAvvLcS8efMgl8sRHR0NAPjtt9+4u+cYpqvjXRAzZ87E\n",
              "qFGjcOTIEQDN374xcODATg/GMNbQrtOuEokEISEhmD17NgICAtDY2GiyXVFREUaOHAl/f3+Eh4cj\n",
              "Pz+/Q2EZxtx4F8TOnTsRERGBpKQkAEB+fj7i4uJMtp05cyZmzJiBK1eu4KOPPkJiYmJHsjKM2fEu\n",
              "iGXLluHs2bPc8x7kcjlu3LjRol15eTn+/vtvTJ06FQAwceJElJWVobi4uGOJGcaMeB9D2NnZQSKR\n",
              "GM1zcHBo0a6srAx9+vThvoBAIBDAx8cHpaWlLR7N++DBAzx48MBoHrvAx1gD74JwcXGBUqnkrlYf\n",
              "PnzY6CGM7WHqGXOBgYFISUlp0Van06HPmTMYNmyYyVtXU1JMP8fOHOIfyXXmf7msleFRc+f+wWUy\n",
              "922+j8thqi8M+6o9ufis6yGpVIq5c+c++cOJp5ycHBoyZAi5urrSqFGjqG/fvnTu3LkW7ZRKJbm4\n",
              "uFBTUxMREen1evL09KSioqIWbTUaDalUKqOXRqMxuX6VSkUASKVS8Y1uVraYyxYzEdluLiIiXlsI\n",
              "vV4PnU6HI0eO4MSJEyAijBw50uTz4zw8PBAaGoqtW7ciMTERu3btgre3d4vdJcD0M+YYxhoERPye\n",
              "eyWXy9t8y2hhYSESExNRVVUFkUiETZs2ISQkpF1BH6qtrYWrqytUKhX37YG2wBZz2WImwHZzAe04\n",
              "hpDJZCguLjb5P/2jAgICcPLkyXYFYxhr4F0Q9+7dw+DBgzFy5Eg4Oztz83fv3t2pwR5HKBQiLS3N\n",
              "5naxbDGXLWYCbDcXwGOXacaMGVi/fj02b96M6upquLm5GS1PSEgwS0CGsaQ2F0RoaCjOnj3b4meG\n",
              "eZq0aywTz+Nwhuky2nwMoVarcfHiRe4b+x7+/NCgQYPMEpBhLKqtFyykUin5+vqafPXr16/zr5CY\n",
              "cOXKFRoxYgTJZDIaOnQoXbp0ySLrVavVFBsbSzKZjAYNGkRjx47lLjBGRkaSr68vyeVyksvllJGR\n",
              "wb1PqVTSuHHjyM/PjwYOHEjZ2dmdnk0qlZK/vz+3/u3btxNR631lzn6srKzkssjlcpLJZGRnZ0dV\n",
              "VVVW76u24H2l2ppGjx5NmzZtIiKiH3/8kYYOHWqR9arVatq/fz/p9XoiIlqzZg1FRkYSUXNB7Nmz\n",
              "x+T7kpKSKC0tjYiIzpw5Q15eXtTY2Nip2aRSqcmRAq31lSX7cfny5RQTE0NE1u+rtugyBcFnKIi5\n",
              "5eTkkFQqJaLWf8k9evSgO3fucNPh4eF08ODBTs1iqiBa6ytL92NgYCDXP9buq7boMt/L1NroWUtT\n",
              "KBSIjY3lplNTUxESEoI33ngD165dA9D8MMqmpib07t2ba+fr62uWvNOmTUNISAimT5+OioqKVvvK\n",
              "kv144sQJVFdXIyYmhptn7b56ki5TELZi6dKlKC4uxrJlywAAW7ZsQUFBAS5cuIAXXnjB6JdvCceO\n",
              "HcOFCxdw9uxZuLu729T1oA0bNmDatGlc8Vm7r9rE4tukdrKFXably5dTWFgYVVdXP7aNUCikyspK\n",
              "IiJycnKy6G7A7du3ydnZ2SZ2merq6sjZ2Zn++eefx7axZl89TpfZQhiOngXQ6uhZc8jIyMC2bdtw\n",
              "8OBBbnSvVquFUqnk2uzatQuenp7cDVSTJk3CunXrAAA5OTm4desWIiMjOy1TfX09ampquOlt27Zh\n",
              "yJAhrfaVpfpxx44dkMvlCAwMBGD9vmozi5dgBxQUFFBERATJZDIKCwujCxcuWGS9ZWVlBID69+/P\n",
              "nTIcNmwY3b9/n8LCwig4OJgGDRpEY8aMofPnz3Pvu3v3Lr388svk5+dHQUFBlJWV1am5rl69SoMH\n",
              "D6aQkBAKDg6mCRMm0PXr14mo9b6yRD+OGDGCNm7cyE1bu6/aivfwb4Z5mnWZXSaGsQRWEAxjgBUE\n",
              "wxhgBcEwBlhBMIwBVhAMY4AVBMMYYAXBMAZYQTCMAVYQDGOAFQTDGPgvYwPu1aUW6msAAAAASUVO\n",
              "RK5CYII=\n",
              "\">\n",
              "        \n",
              "      </div>\n",
              "      <script></script>\n",
              "      <script type=\"text/javascript\">\n",
              "        (() => {\n",
              "          const chartElement = document.getElementById(\"chart-fa6fa261-bfe9-45de-ad6d-b62523d03744\");\n",
              "          async function getCodeForChartHandler(event) {\n",
              "            const chartCodeResponse =  await google.colab.kernel.invokeFunction(\n",
              "                'getCodeForChart', [\"chart-fa6fa261-bfe9-45de-ad6d-b62523d03744\"], {});\n",
              "            const responseJson = chartCodeResponse.data['application/json'];\n",
              "            await google.colab.notebook.addCell(responseJson.code, 'code');\n",
              "          }\n",
              "          chartElement.onclick = getCodeForChartHandler;\n",
              "        })();\n",
              "      </script>\n",
              "      <style>\n",
              "        .colab-quickchart-chart-with-code  {\n",
              "            display: block;\n",
              "            float: left;\n",
              "            border: 1px solid transparent;\n",
              "        }\n",
              "\n",
              "        .colab-quickchart-chart-with-code:hover {\n",
              "            cursor: pointer;\n",
              "            border: 1px solid #aaa;\n",
              "        }\n",
              "      </style>"
            ]
          },
          "metadata": {}
        },
        {
          "output_type": "display_data",
          "data": {
            "text/plain": [
              "import numpy as np\n",
              "from google.colab import autoviz\n",
              "\n",
              "def histogram(df, colname, num_bins=20, figscale=1):\n",
              "  from matplotlib import pyplot as plt\n",
              "  df[colname].plot(kind='hist', bins=num_bins, title=colname, figsize=(8*figscale, 4*figscale))\n",
              "  plt.gca().spines[['top', 'right',]].set_visible(False)\n",
              "  plt.tight_layout()\n",
              "  return autoviz.MplChart.from_current_mpl_state()\n",
              "\n",
              "chart = histogram(_df_5, *['Survived'], **{})\n",
              "chart"
            ],
            "text/html": [
              "      <div class=\"colab-quickchart-chart-with-code\" id=\"chart-07ad9f95-1bb1-48b4-b7b5-a5d714402cd4\">\n",
              "        <img src=\"data:image/png;base64,iVBORw0KGgoAAAANSUhEUgAAALkAAABgCAYAAABBnNO7AAAAOXRFWHRTb2Z0d2FyZQBNYXRwbG90\n",
              "bGliIHZlcnNpb24zLjcuMSwgaHR0cHM6Ly9tYXRwbG90bGliLm9yZy/bCgiHAAAACXBIWXMAAA9h\n",
              "AAAPYQGoP6dpAAAOUklEQVR4nO3dfVAU9R8H8PeJdok8nKEiSjzFk8JxwgkppmRDk/lzgHBIdByR\n",
              "JLEnUpwxHacwcMKJiYGaMVN5MGuUTJwamWyIMB1NIVAJFZHSNNRDHkQgHuTu8/vDYaeTA1luj4fr\n",
              "85rZ8Xbvu7sfv3x2+bL7/e7KiIjAmBkbM9wBMGZqnOTM7HGSM7PHSc7MHic5M3uc5MzscZIzs8dJ\n",
              "zsweJzkze5zko8zJkydhZWUFrVZrsn2sXLkSq1evNtn2hxonuRGuXbuG5cuXY9q0abCyssK0adOw\n",
              "ePFi3L5922T7nD9/PlpbW2FhYWGyfZgbTnIjLF68GNbW1qisrERrayvOnTuHZcuWQSaTDWp7XV1d\n",
              "EkfIAE7yQWtoaEBVVRXWrVuHp556CgBgb2+PmJgYTJ06Fbm5uXB0dNRbZ9u2bXjuueeE+eeffx5v\n",
              "v/02oqOjMXHiRCQkJCA4OBgpKSl66+Xn52Py5Mno6urC8ePHIZPJ0N3djerqalhYWOCvv/7SKx8W\n",
              "FoaEhAQAgFarxSeffIIZM2bA1tYWarUaRUVFeuXT0tLg5OQEhUKBuLg48zvYiA2aUqmk2bNnU3Z2\n",
              "Nl24cIG0Wq3wXU5ODk2fPl2vfFJSEs2bN0+YDwkJIUtLSyooKCCtVkttbW2UlZVFrq6upNPphHKL\n",
              "Fi2iDRs2EBFRcXExAaAHDx4QEdH8+fMpKSlJKFtbW0sWFhZ04cIFYZ8qlYqqqqpIq9VSfn4+WVpa\n",
              "Uk1NDRERff3116RQKOjUqVPU1dVFX3zxBY0dO5ZiYmIkravhxEluhPr6enr//fcpMDCQ5HI5TZw4\n",
              "kTZu3EgdHR0DTvLo6Gi9Mq2trWRtbU2FhYVERHTjxg0aM2YMXbx4kYh6J/m+ffvIyclJOMC2b99O\n",
              "gYGBwvZsbGzo2LFjevsIDQ2llJQU4XNiYqLe9wEBAWaV5NxcMYKdnR2Sk5NRUlKC5uZmZGdnY8+e\n",
              "PUhNTR3wNlxdXfXmJ0yYgOjoaGRlZQEAsrOz8eyzz2LmzJkG14+KikJzczMKCwtBRMjOzkZcXBwA\n",
              "QKPR4P79+4iKioJCoRCm06dPo7a2FgDw999/94rh0fnRbuxwB2Au5HI5IiIiEBoaivLyciiVSrS1\n",
              "temVuXXrVq/1xozpfZ6Ji4vDggULUF9fj5ycHHzwwQd97nf8+PFYsWIF9u7di7Fjx0Kj0WD58uUA\n",
              "AIVCgSeffBJHjx7FggULDK7v6OiI69ev6y27fv06fH19H/dfHjX4TD5ITU1N2Lx5MyoqKtDZ2Qmt\n",
              "VouioiIUFxdjwYIF8Pf3R0tLC/Ly8qDT6XD8+HEcOnRoQNsOCgqCp6cnYmNj0djYiGXLlvVbPi4u\n",
              "Dt9//z0+/vhjvPrqq7C2tgbw8MBbt24dNm3ahMuXL4OI0N7ejhMnTqC6uhoAEBMTg+zsbJw5cwbd\n",
              "3d3Yu3cvLly4YFzljDTD3V4arVpbW2nNmjXk6elJVlZWZGtrSz4+PrRjxw7hj8bPP/+cHB0dydra\n",
              "mqKjo2nDhg292uRbt241uP3MzEwCQK+//rre8kfb5D38/f0JAJ06dUpveXd3N2VkZJCPjw/Z2NjQ\n",
              "lClTaNGiRVRZWUlERDqdjlJTU8nR0ZFsbW1pzZo1FBUVZVZtchkRj/Fk5k10c+XHH380RRyMmYzo\n",
              "JE9OToaXlxcyMzNx//59U8TEmKREJ/mpU6dw8OBBVFZWwtPTE2+++SYuXbpkitgYk4RRbfLz588j\n",
              "LCwMt27dwsKFC5Geng6lUillfIwZbVCXEH/66SeEh4cjMjISb731Fu7cuYP4+Hi88sorUsfHmNFE\n",
              "n8lnzJiBSZMmISEhAZGRkXpdPl9++WX88MMPkgfJmDFEJ3lZWRnUarWp4mFMcqKbK2VlZWhsbBTm\n",
              "GxoasGfPHkmDAoDMzEzJt8n+m0Qn+c6dO4X+08DDTko7d+6UNCgAvfpIMzZYojtoGWrdmHK84aNc\n",
              "Nhf0+d31Hf8bsjjY6CH6TO7g4IBvvvlGmM/Ly4ODg4OkQTEmJdFn8oyMDISHh2PTpk0AAEtLS3z3\n",
              "3XeSB8aYVEQnube3Ny5duoQrV64AALy8vHjkOBvRBjVoQiaTQaFQoLu7Wxhh4uTkJGlgjElFdJLn\n",
              "5uYiISEB48aNE0a1yGQy1NXVSR4cY1IQneQpKSkoLS2Fl5fXY8u6uLhALpdj/PjxAIAtW7Y8dpQL\n",
              "Y1ITneSTJk0aUIL3yMvLw6xZs8TuhjHJiL6EGBERgYyMDNTV1eH+/fvCxNhIJfpMvnXrVgBAYmIi\n",
              "ZDIZiAgymazPG0KrVq0CESEoKAg7duzA5MmTe5Xp7OxEZ2en3rKhvMHEzJvoM7lOpxMmrVYr/GvI\n",
              "iRMnUFFRgfLyckyaNAkxMTEGy6WmpsLW1lZvKikpERsaYwYNqj95WVkZ9u/fDwC4d+9en09x7bms\n",
              "OG7cOKxfvx4nT540WG7Lli1obm7Wm4KCggYTGmO9DKqD1muvvYZt27YBeNgLccWKFb3KtbW14d69\n",
              "e8L8gQMH4O/vb3CbcrkcNjY2ehPfYGJSEd0m3717N86cOYPg4GAAwDPPPIO7d+/2KqfRaLB06VJo\n",
              "tVoQEdzc3PDll18aHzFjIolO8n9f9xY2Mrb3Ztzc3HDu3LnBR8aYREQ3VyZPnozq6mrhQfO5ubl8\n",
              "S5+NaIPqhbh8+XJUVVXh6aefho2NDY4ePWqK2BiThOgkd3d3x9mzZ3HlyhUQEfdCZCOe6CS/ceMG\n",
              "gIfP0QbAvRDZiCc6ydVqtXCns6OjA//88w/s7Oy4FyIbsUQn+aOXC/Pz883vedbMrBj9EP7IyEgU\n",
              "FPQ9uJix4Sb6TP7vHodarRZnz57lXohsRBOd5AqFQmiTW1hYwMPDA59++qkpYmNMEqKTXKfTmSIO\n",
              "xkyGX4zFzJ7oM/mYMWMMvjv+cYMnGBsuopM8OTkZ7e3teOONNwAAu3btwvjx47F+/XqpY2NMEqKT\n",
              "/MiRIygrKxPmt2/fDrVaLQyLY2ykEd0mb2lp0bu7WVdXh5aWFkmDYkxKos/kGzduhEqlwuLFiwEA\n",
              "x44dE0YJMTYSiU7y+Ph4zJs3D8XFxQAejtr38fGRPDD239PXY7mNfST3oC4h2tnZQalU4p133oGX\n",
              "lxe6uroMlrt69SqCg4Ph6emJwMBAXLx40ahgGRsM0Un+7bffYs6cOYiNjQUAXLx4EREREQbLxsfH\n",
              "Y+3ataiursZ7772H1atXGxMrY4MiOslTU1NRXl4OhUIBAFCpVAZffVJXV4fffvsNK1euBAAsXboU\n",
              "N2/eRE1NjXERMyaS6Da5hYUF7Ozs9JY98cQTvcrdvHkTDg4OwiBnmUwGJycn3LhxA+7u7npl+Qla\n",
              "zJREJ7m1tTU0Go1w17OoqEjvRVmDkZqaig8//FBvmbe3NxITE/WWabVaOJSUICgoyOCQu8TEIqPi\n",
              "EEOr1aKkn1iGkrnEEtnH8r5+rs7Oznj33Xcfv2ESqbS0lPz9/cnW1pbmzZtH06ZNo3PnzvUqp9Fo\n",
              "yNramh48eEBERDqdjuzt7enq1au9ynZ0dFBzc7Pe1NHR0atcc3MzAaDm5maxYUuOYxn5sfQQdSbv\n",
              "ee5hcXExTp8+DSJCcHCw0D7/tylTpiAgIABfffUVVq9ejcOHD8PR0bFXUwV4+CwXuVwuJhTGBk7s\n",
              "UeHn5zfgslVVVTRnzhzy8PAgtVpNFRUVYnenZySdJTiWkR9LD9Ftcg8PD9TU1Bg8Iz/Ky8sLv/76\n",
              "q+gDjzEpiU7yxsZGzJo1C8HBwbCyshKW5+fnSxqYIXK5HElJSSOiacOxjPxYesiIDLxi2YC1a9di\n",
              "9+7d2LdvH5qamjBx4kS97/t69jhjw23ASR4QEIDy8vJenxkb6QbVd2WAxwVjI8KA2+Tt7e34/fff\n",
              "hSdn9Xzu4efnZ5IAGTPaQC/DODs7k4uLi8HJ1dXVJJd+HlVdXU1z584lDw8Pmj17NlVWVppsX+3t\n",
              "7RQeHk4eHh7k5+dHoaGhwo2skJAQcnFxIZVKRSqVitLT04X1NBoNvfTSS+Tu7k4+Pj70yy+/SBKP\n",
              "s7MzeXp6Cvs8ePAgEfVfJ6aor/r6eiEGlUpFHh4eZGFhQQ0NDcNSLwMh+jr5cFq4cCHl5OQQEdGh\n",
              "Q4do9uzZJttXe3s7FRQUkE6nIyKizz77jEJCQojoYZIfOXLE4HqxsbGUlJREREQlJSU0ffp06urq\n",
              "MjoeZ2dng3eW+6uToaivtLQ0WrJkCRENT70MxKhJcjHdBEyhtLSUnJ2diaj/H+aECRPo9u3bwnxg\n",
              "YCAVFhYavX9DSd5fnQxVfXl7ewt1MRz1MhCj5rkr/fVqHAqZmZkIDw8X5jdv3gylUolly5bhzz//\n",
              "BPDwJWEPHjzA1KlThXIuLi6Sxbhq1SoolUqsWbMGd+/e7bdOhqK+Tp8+jaamJixZskRYNhz18jij\n",
              "JsmH00cffYSamhqkpqYCAPbv34+qqipUVFRg/vz5ej9kUxnoO1GHUlZWFlatWiUcSMNRLwMyJL8v\n",
              "JDBczZW0tDRSq9XU1NTUZxm5XE719fVERGRpaWnyX8u3bt0iKyurYW2utLS0kJWVFV2+fLnPMkNd\n",
              "L30ZNWfyf/dqBNBvr0appKen48CBAygsLBR6WnZ3d0Oj0QhlDh8+DHt7e2EgSVRUFHbt2gUAKC0t\n",
              "RW1tLUJCQoyKo693ovZXJ6aur7y8PKhUKnh7ewMYnnoZsCE5lCQida/G/ty8eZMAkJubm3BJLCgo\n",
              "iFpbW0mtVpOvry/5+fnRCy+8QOfPnxfWu3PnDr344ovk7u5OM2fOpJ9//tnoWP744w+aNWsWKZVK\n",
              "8vX1pbCwMLp27RoR9V8npqyvuXPnUnZ2tjA/HPUyUAO+rc/YaDVqmiuMDRYnOTN7nOTM7HGSM7PH\n",
              "Sc7MHic5M3uc5MzscZIzs8dJzsweJzkze5zkzOz9H8qkSX5DvGeUAAAAAElFTkSuQmCC\n",
              "\">\n",
              "        \n",
              "      </div>\n",
              "      <script></script>\n",
              "      <script type=\"text/javascript\">\n",
              "        (() => {\n",
              "          const chartElement = document.getElementById(\"chart-07ad9f95-1bb1-48b4-b7b5-a5d714402cd4\");\n",
              "          async function getCodeForChartHandler(event) {\n",
              "            const chartCodeResponse =  await google.colab.kernel.invokeFunction(\n",
              "                'getCodeForChart', [\"chart-07ad9f95-1bb1-48b4-b7b5-a5d714402cd4\"], {});\n",
              "            const responseJson = chartCodeResponse.data['application/json'];\n",
              "            await google.colab.notebook.addCell(responseJson.code, 'code');\n",
              "          }\n",
              "          chartElement.onclick = getCodeForChartHandler;\n",
              "        })();\n",
              "      </script>\n",
              "      <style>\n",
              "        .colab-quickchart-chart-with-code  {\n",
              "            display: block;\n",
              "            float: left;\n",
              "            border: 1px solid transparent;\n",
              "        }\n",
              "\n",
              "        .colab-quickchart-chart-with-code:hover {\n",
              "            cursor: pointer;\n",
              "            border: 1px solid #aaa;\n",
              "        }\n",
              "      </style>"
            ]
          },
          "metadata": {}
        },
        {
          "output_type": "display_data",
          "data": {
            "text/plain": [
              "import numpy as np\n",
              "from google.colab import autoviz\n",
              "\n",
              "def histogram(df, colname, num_bins=20, figscale=1):\n",
              "  from matplotlib import pyplot as plt\n",
              "  df[colname].plot(kind='hist', bins=num_bins, title=colname, figsize=(8*figscale, 4*figscale))\n",
              "  plt.gca().spines[['top', 'right',]].set_visible(False)\n",
              "  plt.tight_layout()\n",
              "  return autoviz.MplChart.from_current_mpl_state()\n",
              "\n",
              "chart = histogram(_df_6, *['Pclass'], **{})\n",
              "chart"
            ],
            "text/html": [
              "      <div class=\"colab-quickchart-chart-with-code\" id=\"chart-b0373612-7437-4c64-8b76-4a46c55bef3b\">\n",
              "        <img src=\"data:image/png;base64,iVBORw0KGgoAAAANSUhEUgAAALkAAABgCAYAAABBnNO7AAAAOXRFWHRTb2Z0d2FyZQBNYXRwbG90\n",
              "bGliIHZlcnNpb24zLjcuMSwgaHR0cHM6Ly9tYXRwbG90bGliLm9yZy/bCgiHAAAACXBIWXMAAA9h\n",
              "AAAPYQGoP6dpAAANGUlEQVR4nO3de0xT5xsH8G8t0ijltsIck9mOUWCDUqRABLLUy5aN/Qg4jDEu\n",
              "BHFukknmiFu8RBM2Z8YSFyJbYogMwbFMnahxmdmFbcgubsKKytQhMv0pyl3uG4iU5/cHP09kFOyB\n",
              "U1rr80lO5Jy+PX3Oy9OX13Pe9xwZEREYc2Iz7B0AY7bGSc6cHic5c3qc5MzpcZIzp8dJzpweJzlz\n",
              "epzkzOlxkjOnx0nugIqLi+Hv72/vMJwGJ7kNLVy4EK6urlAqlfDw8EBYWBgKCwvtHdYDh5PcxjZu\n",
              "3Ii+vj50dnZi8+bNeOWVV3DixAl7h/VA4SSfJnK5HKmpqVCpVDCZTOjv78e2bdsQFBQEd3d3BAQE\n",
              "YN++fRbfe+jQIRgMBnh7e8PHxwdJSUm4cuWK8PrZs2dhNBrh5eUFb29vGAwGXLx4EQBQXl6OqKgo\n",
              "eHp6QqVSIT4+Hp2dndNyzI6Ck3yaDA0NoaSkBB0dHYiOjsarr76Kb7/9FseOHUNPTw9+/vln6HQ6\n",
              "i+91d3fH3r170d7ejtraWhARXnrpJeH1devWYcmSJWhvb0dbWxsKCwvh5eUFAEhNTUVmZia6urrQ\n",
              "1NSEDz74AK6urtNxyI6DmM0YjUZSKBTk6elJKpWKIiMjqbi4mNra2ggAVVVVWXxfUVERzZ07d9z9\n",
              "VldXEwDq6ekhIqKFCxfSmjVrqL6+fkxZjUZDW7dupevXr0tzUPchbslt7K233kJXVxfa29thMpmw\n",
              "atUqoasRHBxs1T4qKiqwZMkS+Pn5wcPDA0ajEQDQ2toKYORsjEwmw+LFi+Hv74+srCz09fUBAL74\n",
              "4gtcvnwZBoMBgYGByM7OxtDQkA2O1HFxktuBRqMBANTV1d2z7ODgIBITE/H888+jrq4OPT09qKio\n",
              "AADQ/+e7qNVqFBQU4OrVqzhx4gTKysqQk5MDANDpdPjss8/Q3NyM0tJS5Ofno6ioyDYH5qA4ye3A\n",
              "19cXK1euRGZmpvAfxKamJlRXV48pOzg4iP7+fnh7e8Pd3R2NjY3Ytm3bqDLFxcW4fv06iAgeHh5w\n",
              "cXGBi4sLBgcHUVRUhLa2NgCAp6cn5HI5XFxcbH+QDoST3E4KCgpgNBqRkJAApVKJ+Ph4nD9/fkw5\n",
              "pVKJjz/+GDt27IBSqURCQgKWL18+qkx5eTliYmKgVCqh1+sRGxuLTZs2AQBKS0sRGhoKNzc3GI1G\n",
              "pKenY9WqVdNyjI5CRsRzPJlzE92Sf/PNN7aIgzGbEZ3k27dvR3BwMPLy8tDT02OLmBiTlOgk/+WX\n",
              "X3DgwAGcO3cOQUFBWLduHS5cuGCL2BiTxJT65GfOnEFSUhIaGxuxaNEi5ObmjnvVjjF7mdTZle++\n",
              "+w7JyclISUlBZmYmmpubkZGRgRdffFHq+BibMtEt+ZNPPgkfHx+sX78eKSkpkMvlwmsJCQn46quv\n",
              "JA+SsakQneQmkwkGg8FW8TAmOdHdFZPJhI6ODmH95s2bKCgokDQoAMjLy5N8n+zBJDrJd+/ejYce\n",
              "ekhYV6lU2L17t6RBAcDVq1cl3yd7MIkexGCpd2M2myUJxhqazcfHfe2/7/9n2uJg9w/RLbmfnx8+\n",
              "//xzYf3gwYPw8/OTNCjGpCS6Jd+1axeSk5OxceNGAMDs2bNx7NgxyQNjTCqikzwkJAQXLlwQhogG\n",
              "BwePOo3ImKOZ1MBimUwGLy8vDA0N4caNGwCAefPmSRoYY1IRneTFxcVYv349Zs6ciRkzRrr0MplM\n",
              "mIrFmKMRneTvvvsuqqqqrJqfqNFooFAoMGvWLADAli1bsGLFCvFRMjYFopPcx8fH6gm4wMjZl4iI\n",
              "CLEfw5hkRJ9CXLp0KXbt2oXW1lb09PQIC2OOSnRLvnXrVgDAhg0bIJPJQESQyWTjXhBKS0sDESEm\n",
              "Jgbvv/8+fH19x5S5desWbt26NWrbdF5gYs5NdEs+PDwsLGazWfjXkh9//BE1NTWorq6Gj4/PuBNo\n",
              "c3Jy4OnpOWqprKwUGxpjFk1qPLnJZEJJSQkACLcfs+TOacWZM2ciKysLP/30k8VyW7ZsQXd396gl\n",
              "JiZmMqExNsakBmi9/PLLePvttwGMjEK8+758d/z999/o6uoS1vfv34/58+db3KdCoYCHh8eohS8w\n",
              "MamI7pPv2bMHv/32G+Li4gAATzzxhHDzmru1tLRg2bJlMJvNICIEBATgk08+mXrEjIkkOsnvPu8t\n",
              "7MTCHZkCAgJw+vTpyUfGmEREd1d8fX1RV1cHmUwGYOQKKF/SZ45sUqMQV65cidraWjz22GPw8PDA\n",
              "l19+aYvYGJOE6CQPDAzEqVOncPHiRRARj0JkDk90kl+7dg0A4ObmBgA8CpE5PNFJbjAYhCudAwMD\n",
              "+Oeff6BSqXgUInNYopP836cLjxw5grNnz0oWEGNSm/L9yVNSUnD8+PiTixmzN9Et+d0jDs1mM06d\n",
              "OsWjEJlDE53kXl5eQp9cLpdDq9Xiww8/tEVsjElCdJIPDw/bIg7GbIafGcScnuiWfMaMGcIl/bvd\n",
              "a/IEY/YiOsm3b9+O/v5+vPbaawCA/Px8zJo1C1lZWVLHxpgkRCf50aNHYTKZhPUdO3bAYDAI0+IY\n",
              "czSi++S9vb2jrm62trait7dX0qAYk5LolvzNN9+EXq/HCy+8AAD4+uuvhVlCjDki0UmekZGB+Ph4\n",
              "lJeXAxiZtR8aGip5YOzBM95tuad6S+5JnUJUqVTQ6XR4/fXXERwcjMHBQYvlLl26hLi4OAQFBSE6\n",
              "OtriY7UZszXRSV5aWooFCxZg9erVAIDz589j6dKlFstmZGRg7dq1qKurw6ZNm5Cenj6VWBmbFNFJ\n",
              "npOTg+rqanh5eQEA9Hq9xUeftLa24vfff0dqaioAYNmyZWhoaEB9ff3UImZMJNF9crlcDpVKNWqb\n",
              "q6vrmHINDQ3w8/MTJjnLZDLMmzcP165dQ2Bg4KiyfActZkuik9zd3R0tLS3CVc/vv/9+1IOyJiMn\n",
              "JwfvvPPOqG0hISHYsGHDqG1msxl+lZWIiYmxOOVuw4bvpxSHGGazGZUTxDKdnCWWlHG2j/d7VavV\n",
              "eOONN+69YxKpqqqK5s+fT56enhQfH0+PPvoonT59eky5lpYWcnd3p9u3bxMR0fDwMM2ZM4cuXbo0\n",
              "puzAwAB1d3ePWgYGBsaU6+7uJgDU3d0tNmzJcSyOH8sdolryO/c9LC8vx8mTJ0FEiIuLE/rnd3v4\n",
              "4YcRGRmJTz/9FOnp6Th8+DD8/f3HdFWAkXu5KBQKMaEwZj2x34rw8HCry9bW1tKCBQtIq9WSwWCg\n",
              "mpoasR83iiO1EhyL48dyh+g+uVarRX19vcUW+d+Cg4Px66+/iv7iMSYl0Une0dGBiIgIxMXFQalU\n",
              "CtuPHDkiaWCWKBQKZGdnO0TXhmNx/FjukBFZeMSyBWvXrsWePXuwb98+dHZ2wtvbe9Tr4917nDF7\n",
              "szrJIyMjUV1dPeZnxhzdpMauWPm9YMwhWN0n7+/vxx9//CHcOevOz3eEh4fbJEDGpsza0zBqtZo0\n",
              "Go3F5fHHH7fJqZ+71dXVUWxsLGm1WoqKiqJz587Z9PP6+/spOTmZtFothYeH0zPPPCNcyDIajaTR\n",
              "aEiv15Ner6fc3FzhfS0tLfTcc89RYGAghYaGUkVFhSTxqNVqCgoKEj7zwIEDRDRxvdiiztrb24UY\n",
              "9Ho9abVaksvldPPmTbvUizVEnye3l0WLFlFRURERER06dIiioqJs+nn9/f10/PhxGh4eJiKijz76\n",
              "iIxGIxGNJPnRo0ctvm/16tWUnZ1NRESVlZU0d+5cGhwcnHI8arXa4pXlieplOups586dlJiYSET2\n",
              "qRdr3BdJLmaIgK1UVVWRWq0mool/mW5ubtTU1CSsR0dHU1lZ2ZQ/31KST1Qv01VnISEhQl3Yo16s\n",
              "cV/cd2WiEY3TJS8vD8nJycL65s2bodPpsGLFCly+fBnAyEPCbt++jUceeUQop9FoJIszLS0NOp0O\n",
              "a9asQVtb24T1Mh11dvLkSXR2diIxMVHYZo96uZf7Isnt7b333kN9fT1ycnIAACUlJaitrUVNTQ2e\n",
              "fvrpUb9kW7H2majTqbCwEGlpacIXyR71YpVp+XsxRfbsruzcuZMMBgN1dnaOW0ahUFB7ezsREc2e\n",
              "Pdvmf5YbGxtJqVTatbvS29tLSqWS/vzzz3HLTHe9jOe+aMnvHtEIYMIRjVLKzc3F/v37UVZWJoy0\n",
              "HBoaQktLi1Dm8OHDmDNnjjCRZPny5cjPzwcAVFVV4caNGzAajVOKY7xnok5UL7aus4MHD0Kv1yMk\n",
              "JASAferFatPyVZKA1CMa76WhoYEAUEBAgHBKLCYmhvr6+shgMFBYWBiFh4fT4sWL6cyZM8L7mpub\n",
              "6dlnn6XAwEB66qmn6IcffphyLH/99RdFRESQTqejsLAwSkpKoitXrhDRxPViyzqLjY2lvXv3Cuv2\n",
              "qBdrWX1Zn7H71X3RXWFsKjjJmdPjJGdOj5OcOT1Ocub0OMmZ0+MkZ06Pk5w5PU5y5vQ4yZnT4yRn\n",
              "Tu9/9gIgPEcT6WYAAAAASUVORK5CYII=\n",
              "\">\n",
              "        \n",
              "      </div>\n",
              "      <script></script>\n",
              "      <script type=\"text/javascript\">\n",
              "        (() => {\n",
              "          const chartElement = document.getElementById(\"chart-b0373612-7437-4c64-8b76-4a46c55bef3b\");\n",
              "          async function getCodeForChartHandler(event) {\n",
              "            const chartCodeResponse =  await google.colab.kernel.invokeFunction(\n",
              "                'getCodeForChart', [\"chart-b0373612-7437-4c64-8b76-4a46c55bef3b\"], {});\n",
              "            const responseJson = chartCodeResponse.data['application/json'];\n",
              "            await google.colab.notebook.addCell(responseJson.code, 'code');\n",
              "          }\n",
              "          chartElement.onclick = getCodeForChartHandler;\n",
              "        })();\n",
              "      </script>\n",
              "      <style>\n",
              "        .colab-quickchart-chart-with-code  {\n",
              "            display: block;\n",
              "            float: left;\n",
              "            border: 1px solid transparent;\n",
              "        }\n",
              "\n",
              "        .colab-quickchart-chart-with-code:hover {\n",
              "            cursor: pointer;\n",
              "            border: 1px solid #aaa;\n",
              "        }\n",
              "      </style>"
            ]
          },
          "metadata": {}
        },
        {
          "output_type": "display_data",
          "data": {
            "text/plain": [
              "import numpy as np\n",
              "from google.colab import autoviz\n",
              "\n",
              "def histogram(df, colname, num_bins=20, figscale=1):\n",
              "  from matplotlib import pyplot as plt\n",
              "  df[colname].plot(kind='hist', bins=num_bins, title=colname, figsize=(8*figscale, 4*figscale))\n",
              "  plt.gca().spines[['top', 'right',]].set_visible(False)\n",
              "  plt.tight_layout()\n",
              "  return autoviz.MplChart.from_current_mpl_state()\n",
              "\n",
              "chart = histogram(_df_7, *['Age'], **{})\n",
              "chart"
            ],
            "text/html": [
              "      <div class=\"colab-quickchart-chart-with-code\" id=\"chart-9925f2b9-269f-4cab-a905-8e7902d45bea\">\n",
              "        <img src=\"data:image/png;base64,iVBORw0KGgoAAAANSUhEUgAAALkAAABgCAYAAABBnNO7AAAAOXRFWHRTb2Z0d2FyZQBNYXRwbG90\n",
              "bGliIHZlcnNpb24zLjcuMSwgaHR0cHM6Ly9tYXRwbG90bGliLm9yZy/bCgiHAAAACXBIWXMAAA9h\n",
              "AAAPYQGoP6dpAAAM1UlEQVR4nO3df1AUdR8H8PdBcqKIp4cBQR4hBwTCgScMYA5D2Vg+jChO42QN\n",
              "QTUyWf4YmkqnPyxqwhknRmrmZGwKUxsiU/vF9IPM0UoT5IeQhkD5BCkcvw/ih8jxef7wYR9PDmK5\n",
              "Pfa45/Oa2Rl293t3n/3eZ798b/e7uwoiIjDmxFzkDoAxe+MkZ06Pk5w5PU5y5vQ4yZnT4yRnTo+T\n",
              "nDk9TnLm9DjJmdPjJGdOj5PcARQUFEChUGDnzp1yh+KUFDx2RX4xMTG4evUqXFxc0NTUBKVSKXdI\n",
              "ToVbcpmVlZXhwoULOHLkCEwmE44ePSqs6+3tRXp6OtRqNfz9/ZGXlwd/f38cPHhQKFNbW4vk5GR4\n",
              "e3vDz88PW7ZsQV9fnwxb4rg4yWVmMBgQFRWFRx55BOvXr4fBYBDWbd++HZcvX0ZNTQ3q6upQU1MD\n",
              "o9EorG9vb8fKlSvx0EMPobGxERcvXkRdXR127Nghw5Y4MGKy6ezsJHd3dzIYDEREdPLkSQJAVVVV\n",
              "NDw8TG5ublRcXCyUN5lM5OLiQgUFBURE9Pbbb1NcXJzFe/7000/k5uZGw8PD07Ydjo5bchmN/uB8\n",
              "4oknAABJSUkICgqCwWBAe3s7hoaGoNFohPKenp5YsGCBMF9fX4/y8nKoVCphWrNmDRQKBVpaWqZ9\n",
              "exwVJ7lMiAj5+fkYGhpCcHAwfHx84Ovri7/++gsfffQRZs+eDTc3N/z555/Ca3p6etDV1SXM+/j4\n",
              "4IEHHkB3d7cwmUwmDA4Ows/PT47Nckic5DIpKSlBfX09vvvuO1RVVQlTdXU1AODQoUPYtGkTsrOz\n",
              "0dzcjP7+frz00ktwcfnfV5aRkYHKykoYDAb09/eDiNDU1ITPPvtMpq1yTJzkMtm/fz9WrVqFpKQk\n",
              "+Pj4CJNWq8Wzzz6L/fv3Iy8vD8HBwQgPD4dWq0VYWBgWLlyI2bNnAwAWL16Mc+fOoaSkBEuWLIFK\n",
              "pcLq1atRU1Mj89Y5Fj5OPoN0dXVBrVbj559/Rnx8vNzhzBiiW/Jvv/3WHnEwKxobG3H69GmYzWZ0\n",
              "dHRgy5Yt0Gq1iImJkTu0GUV0kmdnZyMkJAR5eXno6emxR0zsv4aGhrB161aoVCpotVp0d3fjiy++\n",
              "wF133SV3aDPKlLoroz92vvzyS6SmpuKFF15AWFiYPeJjzGY29cmrqqqwdu1aXL9+HUlJScjNzUVE\n",
              "RISU8TFmsykdXfn++++RkpKC1NRUPP/882hpaUFmZibWr18vdXyM2Ux0S37//ffDy8sL27ZtQ2pq\n",
              "KlxdXYV1jz76KL7++mvJg2TMFqKTvLy8HHq93l7xMCY50d2V8vJydHZ2CvMdHR147733JA0KAPLy\n",
              "8iR/T/b/SXSSGwwGLFy4UJhXq9UWw0OlcvuYDcZsIfqAq7XejdlsliSYyQjYWTzuun/v+de0xcFm\n",
              "DtEtua+vLz755BNhvqioCL6+vpIGxZiURLfk+/btQ0pKCl5++WUAwJw5c/D5559bLRsQEAClUgl3\n",
              "d3cAwK5du7Bx40YbwmVMPNFJHhoaisuXL+PKlSsAgJCQEIvDiHcqKipCVFTUlANkzFZTGgShUCig\n",
              "UqkwPDyMa9euAbg17JMxRyQ6yQ8ePIht27Zh1qxZwgB+hUKB1tZWq+XT0tJARIiNjcWePXuwaNGi\n",
              "MWVu3LiBGzduWCybzh+zzLmJ/uH5xhtvoKysDB0dHWhra0NbW9u4CX7mzBlUV1ejoqICXl5eeOqp\n",
              "p6yWy8nJwfz58y2m0tJSsaExZpXoJPfy8kJISMikyo52YWbNmoUdO3bgxx9/tFpu165dMJlMFlNs\n",
              "bKzY0BizSnSSr1u3Dvv27UNrayt6enqE6U59fX3o7u4W5gsLCxEdHW31PZVKJTw9PS2miX7MMiaG\n",
              "6D75q6++CgDIysqCQqEAEUGhUIzpQxuNRmzYsAFmsxlEhMDAQBw6dEiaqBkTQXSSj4yMTKpcYGAg\n",
              "KisrRQfEmNSmNJ68vLwchw8fBgB0d3ejublZ0qAYk9KUBmg9/fTTeO211wDcGoW4adMmqeNiTDKi\n",
              "k/zAgQP45Zdf4OnpCQBYsmQJ2traJA+MMamITvLbx6KM4qvHmSMTneSLFi1CXV0dFAoFgFtnQPmU\n",
              "PnNkUxqF+Pjjj6O2thb33nsvPD098dVXX9kjNsYkITrJg4KCcP78eVy5cgVE9I+jEBmTm+gkb2xs\n",
              "BADMnTsXAHgUInN4opNcr9cLZzoHBwfR398PtVo97iAtxuQmOsnvPFx4/PhxXLx4UbKAGJOazfcn\n",
              "T01NRXHx+BcXMyY30S357SMOzWYzzp8/z3e3ZQ5NdJKrVCqhT+7q6gqtVot33nnHHrExJgm7jUJk\n",
              "zFHwM4OY0xPdkru4uAin9G833sUTjMlNdJJnZ2djYGAAzz33HAAgPz8f7u7u/Khr5rBEJ/mJEydQ\n",
              "Xl4uzL/55pvQ6/XCZXGMORrRffLe3l6Ls5utra3o7e2VNCjGpCS6JX/xxReh0+mwZs0aAMA333wj\n",
              "XCUkt/HueMt3u50Z7PX9iU7yzMxMrFixAqdOnQJw66r98PBwm4JgzJ6mdAhRrVYjIiICW7duRUhI\n",
              "CIaGhqyWq6+vR0JCAoKDgxETE4NLly7ZFCxjUyE6yT/99FPExcUhIyMDAHDp0iWsW7fOatnMzExs\n",
              "3rwZdXV1eOWVV5Cenm5LrIxNiegkz8nJQUVFBVQqFQBAp9NZffRJa2srLly4gCeffBIAsGHDBjQ1\n",
              "NaGhocG2iBkTSXSf3NXVFWq12mKZm5vbmHJNTU3w9fUVLnJWKBRYvHgxGhsbERQUZFGW72rL7El0\n",
              "ks+bNw9Go1E463ny5EmLB2VNRU5ODl5//XWLZaGhocjKyrJYZjab4VtaitjYWFGX3GVlnbQpPmvM\n",
              "ZjNKpxCLPThLLKnjLB/v+9NoNNi+ffs/vzGJVFZWRtHR0TR//nxasWIF3XPPPVRZWTmmnNFopHnz\n",
              "5tHNmzeJiGhkZIS8vb2pvr5+TNnBwUEymUwW0+Dg4JhyJpOJAJDJZBIbtuQ4FsePZZSolnxkZARm\n",
              "sxmnTp3C2bNnQURISEgQ+ue3u/vuu7Fs2TIcOXIE6enpOHbsGPz9/cd0VYBb93JRKpViQmFs8sTu\n",
              "FZGRkZMuW1tbS3FxcaTVakmv11N1dbXYj7PgSK0Ex+L4sYwS3SfXarVoaGiw2iLfKSQkBOfOnRO9\n",
              "4zEmJdFJ3tnZiaioKCQkJMDDw0NYfvz4cUkDs0apVGL37t0O0bXhWBw/llEKIiuPWLZi8+bNOHDg\n",
              "AD788EN0dXVhwYIFFuvHex4QY3KbdJIvW7YMFRUVY/5mzNFNaezKJPcLxhzCpPvkAwMDqKmpEe6c\n",
              "Nfr3qMjISLsEyJjNJnsYRqPRUEBAgNXpvvvus8uhnzvV1dVRfHw8abVaWr58Of366692+6yBgQFK\n",
              "SUkhrVZLkZGRtGrVKuFEVmJiIgUEBJBOpyOdTke5ubnC64xGI61evZqCgoIoPDycTp8+LUk8Go2G\n",
              "goODhc/8+OOPiWjiOrFHfbW3twsx6HQ60mq15OrqSh0dHbLUy2SIPk4up6SkJCooKCAioqNHj9Ly\n",
              "5cvt9lkDAwNUXFxMIyMjRET07rvvUmJiIhHdSvITJ05YfV1GRgbt3r2biIhKS0vJz8+PhoaGbI5H\n",
              "o9FYPbM8UZ1MR33t3buXkpOTiUieepmMGZPkYoYJ2ENZWRlpNBoimvjLnDt3LjU3NwvzMTExVFJS\n",
              "YvPnW0vyiepkuuorNDRUqAs56mUyZsx9VyYa1Tgd8vLykJKSIszv3LkTERER2LhxI/744w8Atx4S\n",
              "dvPmTfj4+AjlAgICJIsxLS0NEREReOaZZ9DW1jZhnUxHfZ09exZdXV1ITk4WlslRL/9kxiS5nN56\n",
              "6y00NDQgJycHAHD48GHU1taiuroaK1eutPiS7eXMmTOorq5GRUUFvLy8HOK8xPvvv4+0tDRhR5Kj\n",
              "XiZlWv5fSECu7srevXtJr9dTV1fXuGWUSiW1t7cTEdGcOXPs/m/5+vXr5OHhIWt3pbe3lzw8POi3\n",
              "334bt8x018t4ZkxLfvuoRgATjmqUSm5uLgoLC1FSUiKMtBweHobRaBTKHDt2DN7e3sKFJI899hjy\n",
              "8/MBAGVlZbh27RoSExNtiqOvrw/d3d3CfGFhIaKjoyesE3vXV1FREXQ6HUJDQwHIUy+TNi27kkSk\n",
              "HtU4kaamJgJAgYGBwiGx2NhY+vvvv0mv19PSpUspMjKSHnzwQaqqqhJe19LSQg8//DAFBQVRWFgY\n",
              "/fDDDzbH8vvvv1NUVBRFRETQ0qVLae3atXT16lUimrhO7Flf8fHx9MEHHwjzctTLZE36tD5jM9WM\n",
              "6a4wNlWc5MzpcZIzp8dJzpweJzlzepzkzOlxkjOnx0nOnB4nOXN6nOTM6XGSM6f3HwpbIVo0xTFY\n",
              "AAAAAElFTkSuQmCC\n",
              "\">\n",
              "        \n",
              "      </div>\n",
              "      <script></script>\n",
              "      <script type=\"text/javascript\">\n",
              "        (() => {\n",
              "          const chartElement = document.getElementById(\"chart-9925f2b9-269f-4cab-a905-8e7902d45bea\");\n",
              "          async function getCodeForChartHandler(event) {\n",
              "            const chartCodeResponse =  await google.colab.kernel.invokeFunction(\n",
              "                'getCodeForChart', [\"chart-9925f2b9-269f-4cab-a905-8e7902d45bea\"], {});\n",
              "            const responseJson = chartCodeResponse.data['application/json'];\n",
              "            await google.colab.notebook.addCell(responseJson.code, 'code');\n",
              "          }\n",
              "          chartElement.onclick = getCodeForChartHandler;\n",
              "        })();\n",
              "      </script>\n",
              "      <style>\n",
              "        .colab-quickchart-chart-with-code  {\n",
              "            display: block;\n",
              "            float: left;\n",
              "            border: 1px solid transparent;\n",
              "        }\n",
              "\n",
              "        .colab-quickchart-chart-with-code:hover {\n",
              "            cursor: pointer;\n",
              "            border: 1px solid #aaa;\n",
              "        }\n",
              "      </style>"
            ]
          },
          "metadata": {}
        },
        {
          "output_type": "display_data",
          "data": {
            "text/plain": [
              "<google.colab._quickchart_helpers.SectionTitle at 0x7e8284a913c0>"
            ],
            "text/html": [
              "<h4 class=\"colab-quickchart-section-title\">2-d distributions</h4>\n",
              "<style>\n",
              "  .colab-quickchart-section-title {\n",
              "      clear: both;\n",
              "  }\n",
              "</style>"
            ]
          },
          "metadata": {}
        },
        {
          "output_type": "display_data",
          "data": {
            "text/plain": [
              "import numpy as np\n",
              "from google.colab import autoviz\n",
              "\n",
              "def scatter_plots(df, colname_pairs, figscale=1, alpha=.8):\n",
              "  from matplotlib import pyplot as plt\n",
              "  plt.figure(figsize=(len(colname_pairs) * 10 * figscale, 10 * figscale))\n",
              "  for plot_i, (x_colname, y_colname) in enumerate(colname_pairs, start=1):\n",
              "    ax = plt.subplot(1, len(colname_pairs), plot_i)\n",
              "    df.plot(kind='scatter', x=x_colname, y=y_colname, s=(32 * figscale), alpha=alpha, ax=ax)\n",
              "    ax.spines[['top', 'right',]].set_visible(False)\n",
              "  plt.tight_layout()\n",
              "  return autoviz.MplChart.from_current_mpl_state()\n",
              "\n",
              "chart = scatter_plots(_df_8, *[[['PassengerId', 'Survived'], ['Survived', 'Pclass'], ['Pclass', 'Age'], ['Age', 'SibSp']]], **{})\n",
              "chart"
            ],
            "text/html": [
              "      <div class=\"colab-quickchart-chart-with-code\" id=\"chart-c2ee044c-856d-42b8-999c-0f89ec7ae3da\">\n",
              "        <img src=\"data:image/png;base64,iVBORw0KGgoAAAANSUhEUgAAA+QAAAD2CAYAAABfq00cAAAAOXRFWHRTb2Z0d2FyZQBNYXRwbG90\n",
              "bGliIHZlcnNpb24zLjcuMSwgaHR0cHM6Ly9tYXRwbG90bGliLm9yZy/bCgiHAAAACXBIWXMAAA9h\n",
              "AAAPYQGoP6dpAAAy/UlEQVR4nO3deVhUhf7H8c/AACIKKGa4IZmoKSqKmJJJmKZlqdnNFjU1U7Nr\n",
              "m/Zk9nSv3BaXUitbfuqtsCS7ZnmLm9U1LZdyAUvULBUXxN1CQxEZGDi/P8y5kYCgDOcwvl/PM49y\n",
              "lpnvOcOHOd85m80wDEMAAAAAAKBKeZldAAAAAAAAlyMacgAAAAAATEBDDgAAAACACWjIAQAAAAAw\n",
              "AQ05AAAAAAAmoCEHAAAAAMAENOQAAAAAAJiAhhwAAAAAABPQkAMAAAAAYAKPa8hfffVVs0sA4AZk\n",
              "G/BMZBvwTGQbKB+Pa8j37dtndgkA3IBsA56JbAOeiWwD5eNxDTkAAAAAANUBDTkAAAAAACagIQcA\n",
              "AAAAwAQ05AAAAAAAmICGHKgm8p1FOpKdp3xnkdmlAKhEZBvwTGQb8EyVnW17pTwLALdK2/+bEpK3\n",
              "Keu0QyEBfkro10ZRTYLNLgvAJSLbgGci24Bncke22UMOWFy+s0gJydt04ESufL29dOBErhKSt/GN\n",
              "O1DNkW3AM5FtwDO5K9s05IDFHT+dr6zTDgX5+6imr11B/j7KOu3Q8dP5ZpcG4BKQbcAzkW3AM7kr\n",
              "2zTkgMXVDfBVSICfss8UKDffqewzBQoJ8FPdAF+zSwNwCcg24JnINuCZ3JVtGnLA4nztXkro10aN\n",
              "69RUfmGRGtepqYR+beRrJ75AdUa2Ac9EtgHP5K5sc1E3oBqIahKsD8d01fHT+aob4MuHOuAhyDbg\n",
              "mcg24JnckW0acqCa8LV7KTSohtllAKhkZBvwTGQb8EyVnW2+rgMAAAAAwAQ05AAAAAAAmICGHAAA\n",
              "AAAAE9CQAwAAAABgAhpyAAAAAABMQEMOAAAAAIAJaMgBAAAAADABDTkAAAAAACagIQcAAAAAwARu\n",
              "bcg///xzdezYUVFRUYqMjNS7774rSTp27Jj69OmjiIgIRUZGavXq1a55yhoHwBrINuCZyDbgmcg2\n",
              "YGGGmxQVFRl16tQxNm/ebBiGYezdu9fw8/MzTp48aYwYMcKYPHmyYRiGkZKSYjRq1MjIz883DMMo\n",
              "c1x5PP7445W6HACKI9uAZyLbgGci24C1uXUPuc1m02+//SZJOnnypEJCQuTn56cPP/xQDz74oCQp\n",
              "JiZGDRs21KpVqySpzHEArIFsA56JbAOeiWwD1mV31xPbbDYtWrRIAwcOVEBAgE6cOKElS5bo1KlT\n",
              "KigoUGhoqGva8PBwZWZmKisrq9RxJXE4HHI4HMWGFRYWumeBAEgi24CnItuAZyLbgLW5bQ+50+nU\n",
              "888/ryVLlmjfvn1asWKFhg4dKqfTWWmvMXXqVAUFBRV7pKSkVNrzAzgf2QY8E9kGPBPZBqzNbQ15\n",
              "WlqaDh06pO7du0s6e6hL48aNtWXLFtntdh05csQ1bUZGhsLCwhQSElLquJJMmjRJ2dnZxR6dO3d2\n",
              "1yIBENkGPBXZBjwT2QaszW0NeZMmTXT48GH9/PPPkqRdu3Zp9+7datmype68807NmTNHkpSamqqD\n",
              "Bw8qLi5Oksoc92d+fn4KDAws9vD29nbXIgEQ2QY8FdkGPBPZBqzNbeeQX3nllZo3b54GDRokLy8v\n",
              "FRUV6fXXX1dYWJimT5+uoUOHKiIiQr6+vkpKSpKPj48klTkOgPnINuCZyDbgmcg2YG02wzAMs4uo\n",
              "TOPHj9esWbPMLgNAJSPbgGci24BnIttA+bj1tmcAAAAAAKBkNOQAAAAAAJiAhhwAAAAAABPQkAMA\n",
              "AAAAYAIacgAAAAAATEBDDgAAAACACWjIAQAAAAAwAQ05AAAAAAAmoCEHAAAAAMAENOQAAAAAAJiA\n",
              "hhwAAAAAABPQkAMAAAAAYAIacgAAAAAATEBDDgAAAACACWjIAQAAAAAwAQ05AAAAAAAmoCEHAAAA\n",
              "AMAENOQAAAAAAJiAhhwAAAAAABPQkAMAAAAAYAIacgAAAAAATEBDDgAAAACACWjIAQAAAAAwAQ05\n",
              "AAAAAAAmoCEHAAAAAMAENOQAAAAAAJiAhhwAAAAAABPQkAMAAAAAYAIacgAAAAAATEBDDgAAAACA\n",
              "CWjIAQAAAAAwgVsbcofDoXHjxikiIkJt27bVkCFDJEnp6emKjY1VixYtFBMTo23btrnmKWscAGsg\n",
              "24BnItuAZyLbgHW5tSF/6qmnZLPZtHPnTm3dulUzZsyQJI0ZM0ajR4/Wzp07NXHiRA0fPtw1T1nj\n",
              "AFgD2QY8E9kGPBPZBqzLZhiG4Y4nPn36tBo0aKADBw4oMDDQNfzYsWNq3ry5jh8/LrvdLsMw1KBB\n",
              "A3377bcKDAwsdVzz5s3L9brjx4/XrFmz3LFIAES2AU9FtgHPRLYBa7O764l3796tunXrasqUKVq+\n",
              "fLn8/f2VkJCg4OBgNWjQQHb72Ze22WwKCwtTZmamgoKCSh1XUvgdDoccDkexYYWFhe5aJAAi24Cn\n",
              "ItuAZyLbgLW57ZB1p9Opffv2qXXr1tq4caNmz56tu+66S06ns9JeY+rUqQoKCir2SElJqbTnB3A+\n",
              "sg14JrINeCayDVib2xrysLAweXl5afDgwZKkDh066KqrrtK+fft0+PBh1x8BwzCUmZmpsLAwNWnS\n",
              "pNRxJZk0aZKys7OLPTp37uyuRQIgsg14KrINeCayDVib2xryevXq6cYbb9R///tfSdLevXu1d+9e\n",
              "XXfdderYsaOSkpIkSR9//LEaN26s5s2bq379+qWOK4mfn58CAwOLPby9vd21SABEtgFPRbYBz0S2\n",
              "AYsz3Gj37t3GDTfcYERGRhrt2rUzPvroI8MwDGP79u1Gly5djIiICCM6OtrYsmWLa56yxpXH448/\n",
              "XqnLAOB8ZBvwTGQb8ExkG7Aut11l3Sxc0RHwTGQb8ExkG/BMZBsoH7fehxwAAAAAAJSMhhwAAAAA\n",
              "ABPQkAMAAAAAYAJ7eSdcvXp1meO7d+9+ycUAAAAAAHC5KHdDPmHCBElSYWGh0tLS1KxZM9lsNu3e\n",
              "vVtRUVH64Ycf3FYkAAAAAACeptyHrKempio1NVVRUVH673//q127dik9PV3Lli1Tx44d3VkjAAAA\n",
              "AAAep8LnkG/cuFG9evVy/dyzZ0+lpqZWalEAAAAAAHi6Cjfk3t7e+uabb1w/r1q1Sl5eXBsOAAAA\n",
              "AICKKPc55Oe88cYbuvvuu+Xj4yNJcjqdWrRoUaUXBgAAAACAJ6twQx4bG6vdu3dr+/btkqRWrVq5\n",
              "mnMAAAAAAFA+F3WseXJysv7zn/+obdu2+uWXX7R169bKrgsAAAAAAI9W4Yb873//u9566y3Nnz9f\n",
              "kmSz2TRmzJjKrgsAAAAAAI9W4Yb8008/1WeffaaAgABJUoMGDZSTk1PphQGoWnPnzlV2drYk6a9/\n",
              "/as6deqk1atXm1wVAAAoicPh0LRp09SzZ0/16tVL06dPl8PhMLssABVU4Ybc399f3t7exYYZhlFp\n",
              "BQEwxxtvvKGgoCB99913+vHHH/XCCy/oiSeeMLssAABQggcffFBr167Vww8/rHHjxmndunUaO3as\n",
              "2WUBqKAKX9StadOmWrNmjWw2mwoKCjRlyhRFRUW5oTQAVcluP/vn4Ouvv9Z9992n3r17a9KkSSZX\n",
              "BQAASrJu3Tr9/PPPstlskqRbb71Vbdq0MbkqABVV4YZ89uzZGjZsmLZu3aqAgADFx8fr/fffd0dt\n",
              "AKqQl5eXFi1apEWLFmnp0qWSpPz8fJOrAgAAJQkJCdGZM2dUs2ZNSWcPYa9Xr57JVQGoqAo35Fde\n",
              "eaW+/PJL5ebmyjAM17nkAKq3119/XdOmTdOoUaPUtGlT7dy5Uz169DC7LACVwOFwyM/Pz+wyAFSi\n",
              "Vq1a6dprr9WgQYMkSR999JFiYmI0e/ZsSdIjjzxiZnkAyqnC55Dfcccd+vzzz1WjRg2accCDdOnS\n",
              "RZ988okeffRRGYahBg0auD7UAVRPW7ZsUWRkpK6++mpJ0vfff68nn3zS5KoAVIaioiJ16tRJe/bs\n",
              "0Z49e9SxY0cVFhZq06ZNSktLM7s8AOVU4T3k/fr104svvqhRo0ZpyJAhuv/++9WyZUt31AagCo0c\n",
              "OVIzZ85UzZo1FRMTo/T0dM2YMUMPPfSQ2aUBuEiPPPKI5syZo4cffliS1LFjR91333168cUXTa4M\n",
              "wKVKTEw0uwQAlaDCe8iHDRumlStXas2aNfL399ctt9yi6667zh21AahC33//vYKDg/Xll1+qQ4cO\n",
              "OnLkiObMmWN2WQAuQU5Ojrp16+b62WazydfX18SKAFyqn376Sb/++qvr58WLF2vAgAF64oknuBUx\n",
              "UA1VuCE/p0mTJmrTpo1atGihHTt2VGZNAExw7vaFa9as0a233qrAwMDzbnEIoHqx2+0qKChwXYV5\n",
              "//795Bqo5kaMGOG633haWppGjhyprl276vDhw3r00UdNrg5ARVW4If/hhx/08MMPq1GjRpo/f77u\n",
              "v/9+HTp0yB21AahCoaGhGjt2rBYvXqyePXuqoKBAhYWFZpcF4BKMGzdOAwYM0C+//KJnnnlG119/\n",
              "PeeQA9Vcbm6uGjVqJOnshdyGDBmiiRMn6t1331VKSorJ1QGoqAqfQ37PPfdoxIgR2rRpk+uPAYDq\n",
              "7/3331dSUpKGDRum4OBgZWRkaPz48WaXBeASDBkyRM2aNdOnn36q/Px8JSUlFTuEHUD1Y7f/b/N9\n",
              "w4YNeuCBB1zDOQIGqH4q3JBzeDrgmerVq6fHHnvM9XN4eLiGDx9uWj0AKkdsbKxiY2PNLgNAJalb\n",
              "t66Sk5PVsGFDrVu3TgsXLpQkOZ1O16HsAKqPcjfkM2fO1IQJE0rdYzZr1qxKKwpA1Tt27JgSEhKU\n",
              "lpamvLw81/AffvjBxKoAXIr4+HjX+ePnBAcHq2vXrnrkkUe4NzlQDb366qu65557dPDgQT377LO6\n",
              "4oorJEmfffaZYmJiTK4OQEWV+xzyWrVqSZKCgoJKfACo3kaOHKmmTZvq119/1T/+8Q81bNhQffv2\n",
              "NbssAJcgOjpadrtdI0eO1AMPPCBfX181bNhQGzdudN0KDUD1EhkZqa1bt+r48ePFdpQNGDBA7733\n",
              "nomVAbgY5d5DPmbMGEnSM888w/kpgAfav3+/Jk6cqKSkJN12223q3bu34uLi9Nxzz5ldGoCLtHbt\n",
              "Wq1Zs8b1uX3nnXfq+uuv17fffqu2bduaXB2AS/Wvf/1Ly5cvl81mU69evTRo0CCzSwJQQRW+ynrj\n",
              "xo315JNP6ueff3ZHPQBMcu7exDVq1FBWVpbsdnux+5wCqH6ysrKKHbJus9l04sQJ2e121ahRw8TK\n",
              "AFyqJ554QjNnzlTbtm0VGRmpmTNnchcFoBqq8EXd1q1bp/nz56tv37664oordP/99+uee+5RYGCg\n",
              "O+oDUEVatGihrKwsDRkyRNdee60CAwMVHR1tdlkALsGNN96om2++WUOGDJF09m4KPXr0UE5ODueP\n",
              "A9VccnKyNm/eLH9/f0nS6NGj1b59e7344osmVwagIirckIeHhyshIUEJCQlauXKl5syZo/Hjx+v0\n",
              "6dPuqA9AFUlKSpIkPfroo4qOjtZvv/2mPn36mFwVgEsxe/ZszZ07V5988olsNptuu+021a9fX7Vq\n",
              "1dL69evNLg/AJQgODi72xZqPj4/q1KljYkUALkaFD1k/5/vvv9fixYv19ddfKz4+vsxpExMTZbPZ\n",
              "9Mknn0g6ezXnPn36KCIiQpGRkVq9erVr2rLGAaga3bp106233lrsXqcAqh+73a6//vWveuGFF3TV\n",
              "VVfpueee0/Tp080uC8AlSE5OVnJysrp06aLevXtrwYIFWrBggfr27auuXbuWOS/b5ID1VLghP3eu\n",
              "ytChQxUeHq7Nmzfrs88+K3X6jIwM/fOf/1SXLl1cw5566il16dJF6enpSkxM1L333quCgoILjgNQ\n",
              "+erUqaO6deue9zg3vCx8sAPWlZubq8TERHXr1k09evTQW2+9pZUrV2rjxo0XnJdsA9b18ssv6+WX\n",
              "X9bWrVvldDr1zjvv6J133lF+fr62bNlS6nxskwPWVOHdXzt27NC8efMu+A2cJBUVFemBBx7Qa6+9\n",
              "pgkTJriGf/jhh9q1a5ckKSYmRg0bNtSqVavUs2fPMscBqHxpaWkXNV9ZH+xffvmlUlNTdfvtt2vv\n",
              "3r3y8fEpcxyAyjVq1CgtWbJE3bt318SJE3XzzTcrIiJCrVq1uuC8ZBuwtm+++abC87BNDlhXhRry\n",
              "wsJC7dmzp1zNuCTNmjVL1113XbELQ2VlZamgoEChoaGuYeHh4crMzCxzXEkcDoccDsd5NQIov6ZN\n",
              "m0qSMjMzVb9+fdeVl/Py8vTLL7+UOA8f7IC1/etf/1KnTp00ZswY9e7dWzabrdjV1ktDtgHrS09P\n",
              "V0RERKl7w9u1a3feMLbJAeuqUEPu7e2t3NxcFRUVycur7KPdf/zxR3388cduPXRt6tSp+sc//lFs\n",
              "2B+/0QdQfn/5y1+K5dUwDP3lL3/Rhg0bzpuWD3bA2g4fPqxFixbp2Wef1ejRo3XfffeV61BTsg1Y\n",
              "32OPPaalS5eqf//+rmE2m02GYchms2nPnj3FpmebHLC2Cp9DHhMTo1tvvVULFy50XVQiOTn5vOnW\n",
              "rFmjjIwMRUREKDw8XOvXr9fo0aP14Ycfym6368iRI65pMzIyFBYWppCQkFLHlWTSpEnKzs4u9ujc\n",
              "uXNFFwmApPz8/GL3Jfb39z9vw1n63wf7M88847Zapk6dqqCgoGKPlJQUt70e4Glq1aqlkSNHau3a\n",
              "tfryyy+Vl5en/Px8xcbG6s033yxxHrINVA/nrt20d+9e7d27V8uXL9fDDz+s2bNnn9eMS2yTA1ZX\n",
              "4YZ8y5YtOnPmjP75z3+6LirxyiuvnDfd2LFjdfjwYWVkZCgjI0NdunTRvHnzNHbsWN15552aM2eO\n",
              "JCk1NVUHDx5UXFycJJU57s/8/PwUGBhY7OHt7V3RRQKgs9+uHzt2zPXzkSNHZBjGedPxwQ5UL61b\n",
              "t9aMGTN08OBBTZgwQUuXLi1xOrINVA+9evVyXf/l0KFDiomJ0bJly/Tkk0+WeBcFtskBizOqSFxc\n",
              "nPHvf//bMAzDOHLkiNGrVy+jefPmRuvWrY2vv/7aNV1Z48rj8ccfr8yygctGYmKi0axZM2Py5MnG\n",
              "5MmTjauvvtp47733LjjfH7M9bNgwY/LkyYZhGEZKSorRsGFDIz8//4LjyoNsA1WLbAPW1KpVK9f/\n",
              "X3rpJWPAgAGGYRjG8ePHjbZt215wfrbJAWup8FXWSzv/pHv37mXOt3LlStf/r7zySi1btqzE6coa\n",
              "B8A9fvzxRwUGBmrSpEnauXOnpLO3Pbr++usr9DzTp0/X0KFDFRERIV9fXyUlJbmutFzWOADWRrYB\n",
              "6/D393f9f+3atbrlllsknb2Nqd1+4U17tskBa6lwQ/7Hq67m5eVpx44dioyM1A8//FCphQGoGm++\n",
              "+aaefvpptWzZUjt27NA777yjgQMHlnt+PtgBz0S2AWvy8vLSgQMHFBwcrFWrVmnatGmucbm5uSZW\n",
              "BuBiVLghT01NLfZzSkqK5s+fX1n1AKhib775prZs2aKwsDBt3bpVY8eOrVBDDgAAqs7TTz+tDh06\n",
              "yG63Kz4+Xi1atJB0dm95eHi4ucUBqLAKN+R/1rlzZ40ZM6YyagFgAh8fH9cFmNq2bavTp0+bXBEA\n",
              "ACjNwIEDFRsbq6NHjxa753h4eLjmzZtnYmUALkaFG/ItW7a4/l9YWKj169eX696mAKwpLy9PW7du\n",
              "dV1R/c8///HDHgAAmC80NFShoaHFhjVs2NCkagBcigo35P3793f938fHR82bN9e7775bqUUBqDpn\n",
              "zpxRv379ig0797PNZivxnqYAAAAALl2FG/K9e/dKknbv3q3k5GQ1b95c0dHRlV4YgKqRkZFhdgkA\n",
              "AADAZcmrvBP27NlTaWlpkqRDhw4pJiZGy5Yt05NPPqnp06e7qz4AAAAAADxSuRvygwcPKioqSpK0\n",
              "cOFCxcXF6YsvvtDatWv1/vvvu6s+AAAAAAA8Urkbcn9/f9f/165dq1tuuUWSVKdOHdntl3yxdgAA\n",
              "AAAALivlbsi9vLx04MAB5eTkaNWqVYqLi3ONy83NdUtxAAAAAAB4qnLv2n766afVoUMH2e12xcfH\n",
              "q0WLFpLO7i0PDw93V30AAAAAAHikcjfkAwcOVGxsrI4ePVrsvsTh4eGaN2+eW4oDAAAAAMBTVejk\n",
              "79DQUIWGhhYb1rBhw0otCAAAAACAy0G5zyEHAAAAAACVh4YcAAAAAAAT0JADAAAAAGACGnIAAAAA\n",
              "AExAQw4AAAAAgAloyAEAAAAAMAENOQAAAAAAJqAhBwAAAADABDTkAAAAAACYgIYcAAAAAAAT0JAD\n",
              "AAAAAGACGnIAAAAAAExAQw4AAAAAgAloyAEAAAAAMAENOQAAAAAAJqAhBwAAAADABDTkAAAAAACY\n",
              "gIYcAAAAAAATuK0hz8vL04ABA9SiRQu1b99evXr10q5duyRJx44dU58+fRQREaHIyEitXr3aNV9Z\n",
              "4wCYj2wDnolsA56JbAPW5tY95KNHj9aOHTu0efNm9e/fXw888IAk6amnnlKXLl2Unp6uxMRE3Xvv\n",
              "vSooKLjgOADWQLYBz0S2Ac9EtgELM6pIamqq0bRpU8MwDCMgIMA4fPiwa1xMTIzx1VdfXXBceTz+\n",
              "+OOVUzCAciHbgGci24BnItuAtdirqvF/9dVX1b9/f2VlZamgoEChoaGuceHh4crMzCxzXEkcDocc\n",
              "DkexYYWFhe5ZAAAlItuAZyLbgGci24C1VMlF3aZMmaJdu3Zp6tSplfq8U6dOVVBQULFHSkpKpb4G\n",
              "gNKRbcAzkW3AM5FtwHrc3pDPmDFDS5Ys0RdffKGaNWsqJCREdrtdR44ccU2TkZGhsLCwMseVZNKk\n",
              "ScrOzi726Ny5s7sXCYDINuCpyDbgmcg2YE1ubchnzZqlDz74QF999ZWCg4Ndw++8807NmTNHkpSa\n",
              "mqqDBw8qLi7uguP+zM/PT4GBgcUe3t7e7lwkACLbgKci24BnItuAdbntHPIDBw5owoQJatasmeLj\n",
              "4yWdDeuGDRs0ffp0DR06VBEREfL19VVSUpJ8fHwkqcxxAMxHtgHPRLYBz0S2AWtzW0PeuHFjGYZR\n",
              "4rgrr7xSy5Ytq/A4AOYj24BnItuAZyLbgLVVyUXdAAAAAABAcTTkAAAAAACYgIYcAAAAAAAT0JAD\n",
              "AAAAAGACGnIAAAAAAExAQw4AAAAAgAloyAEAAAAAMAENOQAAAAAAJqAhBwAAAADABDTkAAAAAACY\n",
              "gIYcAAAAAAAT0JADAAAAAGACGnIAAAAAAExAQw4AAAAAgAloyAEAAAAAMAENOQAAAAAAJqAhBwAA\n",
              "lpXvLNKR7DzlO4vMLgUAgEpnN7sAAACAkqTt/00JyduUddqhkAA/JfRro6gmwWaXBQBApWEPOQAA\n",
              "sJx8Z5ESkrfpwIlc+Xp76cCJXCUkb2NPOQDAo9CQAwAAyzl+Ol9Zpx0K8vdRTV+7gvx9lHXaoeOn\n",
              "880uDQCASkNDDgAALKdugK9CAvyUfaZAuflOZZ8pUEiAn+oG+JpdGgAAlYaGHAAAWI6v3UsJ/dqo\n",
              "cZ2ayi8sUuM6NZXQr4187Wy6AAA8Bxd1AwAAlhTVJFgfjumq46fzVTfAl2YcAOBxaMgBAIBl+dq9\n",
              "FBpUw+wyAABwC75qBgAAAADABDTkAADAsvKdRTqSncftzgAAHolD1gEAgCWl7f9Nf//kRx09lacr\n",
              "a9fQswMiFdUk2OyyAACoNOwhBwAAlpPvLNIjH2zSloPZOnrSoS0Hs/XIB5vYUw4A8Cg05AAAwHL2\n",
              "H8/V/uO5FxwGAEB1RkMOAAAs57cz+TL+NMz4fTgAAJ6ChhwAAFhOs5Basv1pmO334QDABR/hKSzZ\n",
              "kKenpys2NlYtWrRQTEyMtm3bZnZJACoB2QY8kzuy7SgsUu0axa89W7uGXY5CNr6BqmLVz+20/b9p\n",
              "0Nx1unPuWg2au05p+38zuyTgolmyIR8zZoxGjx6tnTt3auLEiRo+fHilPXd1+zattHqtuhw5eU5t\n",
              "OfCbcvKcZpdyQVZdh6WpbvWWxJ3ZTj9yUs//Z5vSj5ystOcEUD7uyHYtP7ucRWcPWvf6fVe5s8hQ\n",
              "LT9uEANUlarYJs/Jcxb790ROvr7fd1y7j+WUuM2T7yxSQvI2HTiRK19vLx04kauE5G3VevsIlzfL\n",
              "faodO3ZMGzdu1LJlyyRJd9xxh8aNG6ddu3apefPml/Tcaft/U0LyNmWddigkwE8J/dpY+vYppdVr\n",
              "1eX4cON+JSRvk8NZJD+7lxL6tdGgTk3MLqtEVl2Hpalu9ZbEndnu88pqbT9ySpL01ncZahVaW18+\n",
              "1v2SawZwYe7Kdo7DKT8fL53JL1SRcfZwdT8fL+U4nKpVw3KbL4DHqYpt8sPZZ3Qq72zWHQVFsnvZ\n",
              "dCrPKUNnM9+kbk3NvqdDsW2e46fzlXXaoSB/H9X0Pfu3IOu0Q8dP5ys0qMYl1QWYwXJ7yPfv368G\n",
              "DRrIbj8bMJvNprCwMGVmZp43rcPh0MmTJ4s9CgsLS3ze6vZtWmn15uQ5Lbkc5+o6k18oL5t0Jr/Q\n",
              "Va/VeMrvglXrLY27sp1+5KSrGT9n+5FT7CkHqoi7sl3Lzy5HQZEMSXavsxd0cxQUsYccqCJVsU3+\n",
              "2+kC5eYXuv49+XszLp3NfObxXP39kx+LbfPUDfBVSICfss8UKDffqewzBQoJ8FPdAN/KXgVAlbBc\n",
              "Q14RU6dOVVBQULFHSkpKidP++du0IH8f17dpVlRavXt+zbHkcuz5NUcOZ5Hs3jbZvbxk97bJ4SzS\n",
              "nl9zTK2rJJ7yu2DVeitDRbK9KHV/hYYDME9Fsp3jcKp2Dbv8vL1ks9nk5+2l2jXsynFY74te4HJ3\n",
              "MdvkAb52FclwfeHm9eerOP7u6Km8Yts8vr8fhdm4Tk3lFxapcZ2aSujXRr72at3W4DJmud/cJk2a\n",
              "6PDhw3I6z37gGoahzMxMhYWFnTftpEmTlJ2dXezRuXPnEp+3un2bVlq9zerVsuRyNKtXS352LzkL\n",
              "DTmLiuQsNORn91Kzeta7Gq6n/C5Ytd7SuCvbd8WUfFpEacMBVC53fm43CPJXbX+7Ggb5q3YNuxoE\n",
              "+Ve7v31AdeXubfLT+U55ySZn0dnD04v+fJ/D311Zu8Z5uY9qEqwPx3TV4jGx+nBM12p3Gh/wR5Zr\n",
              "yOvXr6+OHTsqKSlJkvTxxx+rcePGJZ6r4ufnp8DAwGIPb2/vEp+3un2bVlq9tWrYLbkc5+ry9/VW\n",
              "kSH5+3q76rUaT/ldsGq9pXFXtiNCA9UqtHaxYa1CaysiNLDyFwLAearic7tIhhrXrZ5/+4Dqqiqy\n",
              "HRzgo5q+3q5/A2vYXbc7tEkKq1tTzw6ILDH3vnYvhQbV4G8Cqj2bYRilfB9lnh07dmj48OHKyspS\n",
              "YGCgEhMT1bZt23LNO378eM2aNavU8fnOIh0/na+6Ab7VIsCl1WvV5cjJc2rPrzlqVq+WJZvxP7Lq\n",
              "OixNdau3JO7MdvqRk1qUul93xTShGQeqGJ/bgGeqimzX8jt7Ksq5f/28vbQnK0fB/r5qUrcmuYfH\n",
              "s2TH1LJlS61bt84tz33u27TqorR6rboctWrY1a5xsNlllItV12Fpqlu9JXFntiNCA/XMbW3c8twA\n",
              "ysbnNuCZqirb53binPs3ulZdt7wmYEV85QQAAAAAgAloyAEAAAAAMAENOQAAAAAAJqAhBwAAAADA\n",
              "BJa8yvqlGDhwoMLDw0sdX1hYqJSUFHXu3LnU2zGYxcq1Sdauj9r+p2nTpnr00Ufd/jpVjWy7j5Xr\n",
              "o7b/Idv8DlSUleujtv8h2/wOVJSV66O2/ylvtj2uIb+QkydPKigoSNnZ2QoMtNatkaxcm2Tt+qgN\n",
              "Vl7PVq5NsnZ91AYrr2cr1yZZuz5qg5XXs5Vrk6xdH7VVHIesAwAAAABgAhpyAAAAAABMQEMOAAAA\n",
              "AIAJLruG3M/PT5MnT5afn5/ZpZzHyrVJ1q6P2mDl9Wzl2iRr10dtsPJ6tnJtkrXrozZYeT1buTbJ\n",
              "2vVRW8Vddhd1AwAAAADACi67PeQAAAAAAFgBDTkAAAAAACagIQcAAAAAwASXVUOenp6u2NhYtWjR\n",
              "QjExMdq2bVuVvXZeXp4GDBigFi1aqH379urVq5d27dolSTp27Jj69OmjiIgIRUZGavXq1a75yhrn\n",
              "LomJibLZbPrkk08sU5/D4dC4ceMUERGhtm3basiQIZLKfk+r8v3+/PPP1bFjR0VFRSkyMlLvvvuu\n",
              "JGusu8uBmdmWqk++yXbFkW1zke3yIdsVR7bNRbbLh2xXXLXMtnEZiY+PNxITEw3DMIzFixcbnTp1\n",
              "qrLXPnPmjLF06VKjqKjIMAzDeO2114y4uDjDMAxjxIgRxuTJkw3DMIyUlBSjUaNGRn5+/gXHucPe\n",
              "vXuNrl27Gl26dDH+/e9/W6a+xx57zBg3bpxr/R0+fNgwjLLf06p6v4uKiow6deoYmzdvNgzj7Dr0\n",
              "8/MzTp48aYl1dzkwM9uGUT3yTbYrjmybj2xfGNmuOLJtPrJ9YWS74qprti+bhvzo0aNG7dq1jYKC\n",
              "AsMwzr5hV155pZGenm5KPampqUbTpk0NwzCMgIAA1y+zYRhGTEyM8dVXX11wXGUrLCw0brzxRmPj\n",
              "xo1GXFycK/xm15eTk2PUrl3byM7OLja8rPe0Kt/voqIio27dusaqVasMwzCMzZs3Gw0bNjQcDofp\n",
              "6+5yYLVsG4b18k22Lw7ZNhfZvjCyfXHItrnI9oWR7YtTXbNtr9r98ebZv3+/GjRoILv97CLbbDaF\n",
              "hYUpMzNTzZs3r/J6Xn31VfXv319ZWVkqKChQaGioa1x4eLgyMzPLHOcOs2bN0nXXXafo6GjXMCvU\n",
              "t3v3btWtW1dTpkzR8uXL5e/vr4SEBAUHB5f6ngYFBVXZ+22z2bRo0SINHDhQAQEBOnHihJYsWaJT\n",
              "p06Zvu4uB1bLtmS9fJPti0O2zUW2L4xsXxyybS6yfWFk++JU12xfNg25lUyZMkW7du3SihUrdObM\n",
              "GbPLkST9+OOP+vjjjy15PpTT6dS+ffvUunVrTZs2TZs2bVKvXr20dOlSs0uTdLa+559/XkuWLFH3\n",
              "7t2Vmpqqfv36KS0tzezSYAKr5ZtsXzyyjT8i2+VHtlGdkO3yI9vucdlc1K1JkyY6fPiwnE6nJMkw\n",
              "DGVmZiosLKxK65gxY4aWLFmiL774QjVr1lRISIjsdruOHDnimiYjI0NhYWFljqtsa9asUUZGhiIi\n",
              "IhQeHq7169dr9OjR+vDDD02vLywsTF5eXho8eLAkqUOHDrrqqqu0b9++Ut/Tqny/09LSdOjQIXXv\n",
              "3l2SFBMTo8aNG2vLli2mr7vLgVWyLVkz32T74pFtc5HtspHti0e2zUW2y0a2L161zXaVHRxvAXFx\n",
              "ccUuKBAdHV2lrz9z5kyjY8eOxvHjx4sNHzZsWLELCTRs2NB1IYGyxrnTH89XsUJ9vXr1MpYuXWoY\n",
              "hmHs2bPHCAkJMQ4cOFDme1pV7/eRI0eMWrVqGT/99JNhGIaRnp5u1KlTx9i3b58l1t3lwOxsG0b1\n",
              "yTfZLj+ybT6yXX5ku/zItvnIdvmR7fKrrtm+rBry7du3G126dDEiIiKM6OhoY8uWLVX22vv37zck\n",
              "Gc2aNTPat29vtG/f3ujcubNhGGd/eXr16mU0b97caN26tfH111+75itrnDv9MfxWqG/37t3GDTfc\n",
              "YERGRhrt2rUzPvroI8Mwyn5Pq/L9Xrhwoau2yMhI4/333zcMwxrr7nJgZrYNo3rlm2xXDNk2F9ku\n",
              "P7JdMWTbXGS7/Mh2xVTHbNsMwzCqbn88AAAAAACQLqNzyAEAAAAAsBIacgAAAAAATEBD7mHCw8PV\n",
              "smVLRUVFqXXr1nrjjTfMLqlSDR8+XK+88kqJ415//XUNHz68SusBrGbJkiWKjo5WVFSUWrVqpR49\n",
              "eqioqKjSnn/OnDl66aWXKu35JKlTp05auXJlpT4ncDmpyGd/RkaGgoODq644AG5x6tQp1apVSyNH\n",
              "jjS7FFwi7kPugRYtWqSoqCjt27dP7dq10/XXX6927dqZXdYlKywsNLsEwNIOHz6s0aNH6/vvv1fT\n",
              "pk0lST/88INsNlu5n8PpdMpuL/2j4cEHH7zkOgFUPk/97AdQskWLFik6OlpLlizRq6++qlq1apld\n",
              "Ei4Se8g9WNOmTdWyZUt9+eWXiomJUVRUlGJiYrRu3TpJUlFRkcaNG6drrrlG7du3V3R0tPLy8vTL\n",
              "L7/opptuUtu2bdWuXTuNGDHC9ZwzZsxQ586d1bFjR/Xp00f79u2TJCUkJOiuu+7SbbfdptatW6tH\n",
              "jx46fvy4JKmgoEAPPfSQWrRooS5dumjChAm64YYbXM+5YMECXXvtterYsaO6d++uzZs3S5Lmz5+v\n",
              "+Ph43XHHHWrbtq1SUlKKLd+pU6d01113qWXLlurWrZu2bt3qztUJWN7Ro0fl7e2tunXruoZ17NhR\n",
              "NptN4eHhSktLcw3/417pG264QY888oi6du2qm266SaNGjdKMGTNc0+7du1ehoaEqKChQQkKCHnvs\n",
              "MUlSixYttHHjRtd08+fP1+233y5JOnLkiAYNGqTOnTurbdu2euaZZ1zTrV27VlFRUYqMjNSIESNc\n",
              "9yYFcOnOffbv3LlTiYmJioqKUvv27dWpUydlZGScN/3gwYPVqVMntWvXTn379nXdi7e0bYH169e7\n",
              "jsKJjIzU//3f/1Xl4gH43dtvv62JEyeqe/fuWrRokaSL3+aGudhD7sG2bt2q7du3Kz4+Xk8++aSk\n",
              "sx+kw4cP1/bt27V582atWLFC27Ztk5eXl7Kzs+Xr66ukpCRdddVVWrZsmSS5GuuFCxdqx44dWrdu\n",
              "nby9vbVgwQI99NBDWrp0qSRpw4YN+v777xUSEqK7775bc+fO1aRJkzRv3jylp6dr27ZtkqRbbrnF\n",
              "VeN3332nDz74QKtXr5afn5/WrFmje++91zXthg0btGnTJrVs2VKSNHfuXNe8zz77rPz8/LR9+3ad\n",
              "PHlSXbp00bXXXuvmtQpYV7t27dStWzc1bdpUcXFxio2N1b333qtGjRpdcN6dO3dq9erV8vHx0dq1\n",
              "azV69Gg98cQTks422oMHD5aPj0+xeYYPH6758+erU6dOkqTExETXPMOGDdPTTz+tuLg4OZ1O3Xrr\n",
              "rVq8eLH69++vu+66S4mJierZs6eWLVum+fPnV+6KAC5j5z77T5w4oSlTpmjt2rVq0KCBcnNzJUnH\n",
              "jh0rNv0rr7yiK664QpI0bdo0JSQkaM6cOaVuC0ydOlVPPPGE7rnnHknSiRMnqmrRAPzup59+0v79\n",
              "+9W7d285nU5NmzZNI0eOvKRtbpiHhtwD3XXXXfL391fNmjX1zjvv6MSJE4qLi1NWVpbsdrt27Nih\n",
              "M2fOqFmzZnI6nbr//vsVHx+vvn37ysvLS126dNHLL7+sCRMmqHv37urTp48k6ZNPPlFqaqqio6Ml\n",
              "nX8IeZ8+fRQSEiJJ6tq1q2uP9YoVKzRkyBDXxvywYcP01ltvSZI+/fRTbd68uVgjffz4cZ05c0aS\n",
              "FBsb62rG/2zFihV6+eWXZbPZFBQUpHvvvVe7d++urNUIVDteXl76+OOPtX37dq1atUpffPGFXnjh\n",
              "hWJ7sUvzx4zGxsbK6XQqNTVVnTp10nvvvaf//Oc/581z3333qUOHDpo5c6YOHjyonTt36uabb9bp\n",
              "06e1YsUKHT161DVtTk6OduzYoe3bt8tut6tnz56SpJtuuknNmjWrpDUAXL7+/Nm/YcMGDR06VA0a\n",
              "NJAk1axZs8T5Fi5cqAULFigvL095eXmqV6+eJJW6LRAfH6/nnntO6enp6tGjh7p161Y1CwjA5e23\n",
              "39Z9990nb29v3XLLLRozZox+/vnni97m9vf3N2U5cBYNuQc6dx6ZJOXn56tu3br65ptvFBMTo5Mn\n",
              "TyooKEgOh0PBwcH68ccftWrVKn3zzTeaNGmSVq9era5duyotLU3Lly/XkiVL9Le//U2bNm2SYRia\n",
              "NGmSRo8eXeLr1qhRw/V/b2/vUg9D/eP5rIZhaNiwYZoyZUqJ01bkfJiKnCcLeLJWrVqpVatWGjNm\n",
              "jPr06aPk5GTZ7fZiX6Ll5eUVm+fPWRsxYoQSExOVk5OjevXqKTIy8rzXady4sTp16qRPP/1U27Zt\n",
              "05AhQ2S3213PvX79+mJ/FyRpy5Yt5z0P2QUu3R8/+6WzR5hdyLfffqvZs2dr3bp1ql+/vpKTk/X3\n",
              "v/9dkkrdFnjsscfUv39/LV++XE8//bQiIyP15ptvumuxAPxJQUGBFixYIB8fHy1cuFCSlJubq7ff\n",
              "fvu8aSuyzQ3zcA65h8vLy1N+fr7CwsIkSa+99ppr3C+//KLTp0/rpptu0pQpUxQeHq6ffvpJe/fu\n",
              "Va1atTRo0CC99tpr2rlzp3JycjRgwADNmTOn2LnhmzZtumANPXr00MKFC1VQUKCCggK99957rnH9\n",
              "+vVTUlKSMjMzJZ09r708e/MkqWfPnkpMTJRhGDp58qQ++OCDcq8XwBMdPHhQ3333nevnEydOaO/e\n",
              "vbr66qvVvHlz1wZ6SkqKduzYUeZzDR06VIsXL9acOXN0//33lzrdiBEj9M477+i9995zTVerVi3F\n",
              "x8dr2rRprukOHTqkAwcOqFWrVnI6nfrmm28kScuXL+fIFsANbrvtNiUlJenw4cOSzm6wnzts/ZwT\n",
              "J06odu3aCgkJUX5+frHTwkrbFtixY4euuuoqjRo1Sk8//bTWr19fpcsFXO6Sk5PVrFkzHTx4UBkZ\n",
              "GcrIyND69eu1YMECxcfHu2WbG+7FHnIPFxgYqOeff16dO3dWvXr1dPfdd7vG7d+/X6NGjVJBQYEK\n",
              "Cwt13XXX6eabb1ZSUpJmzZrl2sv90ksvKSgoSIMHD1ZWVpbi4+MlyXW4e4cOHcqsYcyYMdq6data\n",
              "t26tOnXqqFOnTjp06JAk6frrr9eLL76o22+/XU6nU/n5+erbt6/rnNSy/O1vf9MDDzygVq1a6Yor\n",
              "rlC3bt3kcDguYW0B1ZvT6dSzzz6rvXv3qmbNmnI6nRo2bJj69++vRo0aadiwYZo7d666du2qNm3a\n",
              "lPlcDRs2VOfOnZWcnFxsI/3P+vfvr7FjxyoiIkLXXHONa/j777+v8ePHKzIyUjabTQEBAZo7d64a\n",
              "N26sRYsW6aGHHlJhYaFiYmLUvn37SlsHAM7q3r27Jk+erN69e8tms8nX11cfffRRsWn69OmjpKQk\n",
              "tWzZUiEhIerZs6cOHjwoSVq5cmWJ2wLPPPOMvv76a/n6+srb21szZ840Y/GAy9bbb7+twYMHFxt2\n",
              "zTXXqFGjRqpfv77Cw8MrfZsb7mUzDMMwuwh4vlOnTql27doqKCjQ4MGDFR0drYkTJ5pdFgAAAOAx\n",
              "2OaufmjIUSWuvfZaORwO5eXlqVu3bnrttde4gAQAAABQidjmrn5oyAEAAAAAMAEXdQMAAAAAwAQ0\n",
              "5AAAAAAAmICGHAAAAAAAE9CQAwAAAABgAhpyAAAAAABMQEMOAAAAAIAJaMgBAAAAADABDTkAAAAA\n",
              "ACagIQcAAAAAwAT/D+++Xa4IDWnnAAAAAElFTkSuQmCC\n",
              "\">\n",
              "        \n",
              "      </div>\n",
              "      <script></script>\n",
              "      <script type=\"text/javascript\">\n",
              "        (() => {\n",
              "          const chartElement = document.getElementById(\"chart-c2ee044c-856d-42b8-999c-0f89ec7ae3da\");\n",
              "          async function getCodeForChartHandler(event) {\n",
              "            const chartCodeResponse =  await google.colab.kernel.invokeFunction(\n",
              "                'getCodeForChart', [\"chart-c2ee044c-856d-42b8-999c-0f89ec7ae3da\"], {});\n",
              "            const responseJson = chartCodeResponse.data['application/json'];\n",
              "            await google.colab.notebook.addCell(responseJson.code, 'code');\n",
              "          }\n",
              "          chartElement.onclick = getCodeForChartHandler;\n",
              "        })();\n",
              "      </script>\n",
              "      <style>\n",
              "        .colab-quickchart-chart-with-code  {\n",
              "            display: block;\n",
              "            float: left;\n",
              "            border: 1px solid transparent;\n",
              "        }\n",
              "\n",
              "        .colab-quickchart-chart-with-code:hover {\n",
              "            cursor: pointer;\n",
              "            border: 1px solid #aaa;\n",
              "        }\n",
              "      </style>"
            ]
          },
          "metadata": {}
        }
      ]
    },
    {
      "cell_type": "code",
      "source": [
        "dataset['Survived'].value_counts()"
      ],
      "metadata": {
        "colab": {
          "base_uri": "https://localhost:8080/"
        },
        "id": "dzeOfqqzCNzi",
        "outputId": "253ccbaa-80ff-49a5-e1aa-60afeab4a264"
      },
      "execution_count": 20,
      "outputs": [
        {
          "output_type": "execute_result",
          "data": {
            "text/plain": [
              "0    549\n",
              "1    342\n",
              "Name: Survived, dtype: int64"
            ]
          },
          "metadata": {},
          "execution_count": 20
        }
      ]
    },
    {
      "cell_type": "code",
      "source": [
        "import seaborn as sns\n",
        "sns.set()"
      ],
      "metadata": {
        "id": "Njzdn4T2CiZ8"
      },
      "execution_count": 21,
      "outputs": []
    },
    {
      "cell_type": "code",
      "source": [
        "dataset['Sex'].value_counts()"
      ],
      "metadata": {
        "colab": {
          "base_uri": "https://localhost:8080/"
        },
        "id": "6G7H8OleEucW",
        "outputId": "eaac6960-d81f-46d8-c4c3-82a2a409e41d"
      },
      "execution_count": 22,
      "outputs": [
        {
          "output_type": "execute_result",
          "data": {
            "text/plain": [
              "male      577\n",
              "female    314\n",
              "Name: Sex, dtype: int64"
            ]
          },
          "metadata": {},
          "execution_count": 22
        }
      ]
    },
    {
      "cell_type": "code",
      "source": [
        "sns.countplot(x='Sex', data=dataset)"
      ],
      "metadata": {
        "colab": {
          "base_uri": "https://localhost:8080/",
          "height": 477
        },
        "id": "MzS6zF4tE-HT",
        "outputId": "1fd7009e-0bc0-41e9-ce61-a9403a7b75bd"
      },
      "execution_count": 23,
      "outputs": [
        {
          "output_type": "execute_result",
          "data": {
            "text/plain": [
              "<Axes: xlabel='Sex', ylabel='count'>"
            ]
          },
          "metadata": {},
          "execution_count": 23
        },
        {
          "output_type": "display_data",
          "data": {
            "text/plain": [
              "<Figure size 640x480 with 1 Axes>"
            ],
            "image/png": "[encoded data removed]"
          },
          "metadata": {}
        }
      ]
    },
    {
      "cell_type": "code",
      "source": [
        "sns.countplot(x='Survived', data=dataset)"
      ],
      "metadata": {
        "colab": {
          "base_uri": "https://localhost:8080/",
          "height": 475
        },
        "id": "zPja_QPWH_fa",
        "outputId": "ba208a77-c7da-459f-b20b-aa0654d8a487"
      },
      "execution_count": 24,
      "outputs": [
        {
          "output_type": "execute_result",
          "data": {
            "text/plain": [
              "<Axes: xlabel='Survived', ylabel='count'>"
            ]
          },
          "metadata": {},
          "execution_count": 24
        },
        {
          "output_type": "display_data",
          "data": {
            "text/plain": [
              "<Figure size 640x480 with 1 Axes>"
            ],
            "image/png": "[encoded data removed]"
          },
          "metadata": {}
        }
      ]
    },
    {
      "cell_type": "code",
      "source": [
        "sns.countplot(x='Sex',hue='Survived', data=dataset)"
      ],
      "metadata": {
        "colab": {
          "base_uri": "https://localhost:8080/",
          "height": 475
        },
        "id": "Kqoe2g0IIoXd",
        "outputId": "a97d56bc-74f4-4322-b8e5-4afb4a2e8101"
      },
      "execution_count": 25,
      "outputs": [
        {
          "output_type": "execute_result",
          "data": {
            "text/plain": [
              "<Axes: xlabel='Sex', ylabel='count'>"
            ]
          },
          "metadata": {},
          "execution_count": 25
        },
        {
          "output_type": "display_data",
          "data": {
            "text/plain": [
              "<Figure size 640x480 with 1 Axes>"
            ],
            "image/png": "[encoded data removed]"
          },
          "metadata": {}
        }
      ]
    },
    {
      "cell_type": "code",
      "source": [
        "sns.countplot(x='Pclass',data=dataset)"
      ],
      "metadata": {
        "colab": {
          "base_uri": "https://localhost:8080/",
          "height": 475
        },
        "id": "VOisYWllJ-s2",
        "outputId": "29d5e19d-0262-4a62-c6d9-77e93f4184a1"
      },
      "execution_count": 26,
      "outputs": [
        {
          "output_type": "execute_result",
          "data": {
            "text/plain": [
              "<Axes: xlabel='Pclass', ylabel='count'>"
            ]
          },
          "metadata": {},
          "execution_count": 26
        },
        {
          "output_type": "display_data",
          "data": {
            "text/plain": [
              "<Figure size 640x480 with 1 Axes>"
            ],
            "image/png": "[encoded data removed]"
          },
          "metadata": {}
        }
      ]
    },
    {
      "cell_type": "code",
      "source": [
        "sns.countplot(x='Pclass',hue='Survived', data=dataset)"
      ],
      "metadata": {
        "colab": {
          "base_uri": "https://localhost:8080/",
          "height": 475
        },
        "id": "TY9VUW3uKYRy",
        "outputId": "a748d38e-df00-484b-d5b2-bcedf4e2ceae"
      },
      "execution_count": 27,
      "outputs": [
        {
          "output_type": "execute_result",
          "data": {
            "text/plain": [
              "<Axes: xlabel='Pclass', ylabel='count'>"
            ]
          },
          "metadata": {},
          "execution_count": 27
        },
        {
          "output_type": "display_data",
          "data": {
            "text/plain": [
              "<Figure size 640x480 with 1 Axes>"
            ],
            "image/png": "[encoded data removed]"
          },
          "metadata": {}
        }
      ]
    },
    {
      "cell_type": "code",
      "source": [
        "dataset['Embarked'].value_counts()"
      ],
      "metadata": {
        "colab": {
          "base_uri": "https://localhost:8080/"
        },
        "id": "BUmFBQRVKlT1",
        "outputId": "635da0c1-82c6-49ea-e619-64d0bfc156ca"
      },
      "execution_count": 28,
      "outputs": [
        {
          "output_type": "execute_result",
          "data": {
            "text/plain": [
              "S    646\n",
              "C    168\n",
              "Q     77\n",
              "Name: Embarked, dtype: int64"
            ]
          },
          "metadata": {},
          "execution_count": 28
        }
      ]
    },
    {
      "cell_type": "code",
      "source": [
        "dataset.replace({'Sex':{'male':0,'female':1},'Embarked':{'S':0,'C':1,'Q':2}},inplace=True)"
      ],
      "metadata": {
        "id": "zAFbkscQLHcS"
      },
      "execution_count": 29,
      "outputs": []
    },
    {
      "cell_type": "code",
      "source": [
        "dataset.head()"
      ],
      "metadata": {
        "colab": {
          "base_uri": "https://localhost:8080/",
          "height": 206
        },
        "id": "F4-Bvb0nLu6n",
        "outputId": "25fc4b90-40fc-4105-8fcd-bc072a0fdb91"
      },
      "execution_count": 30,
      "outputs": [
        {
          "output_type": "execute_result",
          "data": {
            "text/plain": [
              "   PassengerId  Survived  Pclass  \\\n",
              "0            1         0       3   \n",
              "1            2         1       1   \n",
              "2            3         1       3   \n",
              "3            4         1       1   \n",
              "4            5         0       3   \n",
              "\n",
              "                                                Name  Sex   Age  SibSp  Parch  \\\n",
              "0                            Braund, Mr. Owen Harris    0  22.0      1      0   \n",
              "1  Cumings, Mrs. John Bradley (Florence Briggs Th...    1  38.0      1      0   \n",
              "2                             Heikkinen, Miss. Laina    1  26.0      0      0   \n",
              "3       Futrelle, Mrs. Jacques Heath (Lily May Peel)    1  35.0      1      0   \n",
              "4                           Allen, Mr. William Henry    0  35.0      0      0   \n",
              "\n",
              "             Ticket  Embarked  \n",
              "0         A/5 21171         0  \n",
              "1          PC 17599         1  \n",
              "2  STON/O2. 3101282         0  \n",
              "3            113803         0  \n",
              "4            373450         0  "
            ],
            "text/html": [
              "\n",
              "  <div id=\"df-9fba01ca-0be2-4a60-8643-af68dc5093e3\" class=\"colab-df-container\">\n",
              "    <div>\n",
              "<style scoped>\n",
              "    .dataframe tbody tr th:only-of-type {\n",
              "        vertical-align: middle;\n",
              "    }\n",
              "\n",
              "    .dataframe tbody tr th {\n",
              "        vertical-align: top;\n",
              "    }\n",
              "\n",
              "    .dataframe thead th {\n",
              "        text-align: right;\n",
              "    }\n",
              "</style>\n",
              "<table border=\"1\" class=\"dataframe\">\n",
              "  <thead>\n",
              "    <tr style=\"text-align: right;\">\n",
              "      <th></th>\n",
              "      <th>PassengerId</th>\n",
              "      <th>Survived</th>\n",
              "      <th>Pclass</th>\n",
              "      <th>Name</th>\n",
              "      <th>Sex</th>\n",
              "      <th>Age</th>\n",
              "      <th>SibSp</th>\n",
              "      <th>Parch</th>\n",
              "      <th>Ticket</th>\n",
              "      <th>Embarked</th>\n",
              "    </tr>\n",
              "  </thead>\n",
              "  <tbody>\n",
              "    <tr>\n",
              "      <th>0</th>\n",
              "      <td>1</td>\n",
              "      <td>0</td>\n",
              "      <td>3</td>\n",
              "      <td>Braund, Mr. Owen Harris</td>\n",
              "      <td>0</td>\n",
              "      <td>22.0</td>\n",
              "      <td>1</td>\n",
              "      <td>0</td>\n",
              "      <td>A/5 21171</td>\n",
              "      <td>0</td>\n",
              "    </tr>\n",
              "    <tr>\n",
              "      <th>1</th>\n",
              "      <td>2</td>\n",
              "      <td>1</td>\n",
              "      <td>1</td>\n",
              "      <td>Cumings, Mrs. John Bradley (Florence Briggs Th...</td>\n",
              "      <td>1</td>\n",
              "      <td>38.0</td>\n",
              "      <td>1</td>\n",
              "      <td>0</td>\n",
              "      <td>PC 17599</td>\n",
              "      <td>1</td>\n",
              "    </tr>\n",
              "    <tr>\n",
              "      <th>2</th>\n",
              "      <td>3</td>\n",
              "      <td>1</td>\n",
              "      <td>3</td>\n",
              "      <td>Heikkinen, Miss. Laina</td>\n",
              "      <td>1</td>\n",
              "      <td>26.0</td>\n",
              "      <td>0</td>\n",
              "      <td>0</td>\n",
              "      <td>STON/O2. 3101282</td>\n",
              "      <td>0</td>\n",
              "    </tr>\n",
              "    <tr>\n",
              "      <th>3</th>\n",
              "      <td>4</td>\n",
              "      <td>1</td>\n",
              "      <td>1</td>\n",
              "      <td>Futrelle, Mrs. Jacques Heath (Lily May Peel)</td>\n",
              "      <td>1</td>\n",
              "      <td>35.0</td>\n",
              "      <td>1</td>\n",
              "      <td>0</td>\n",
              "      <td>113803</td>\n",
              "      <td>0</td>\n",
              "    </tr>\n",
              "    <tr>\n",
              "      <th>4</th>\n",
              "      <td>5</td>\n",
              "      <td>0</td>\n",
              "      <td>3</td>\n",
              "      <td>Allen, Mr. William Henry</td>\n",
              "      <td>0</td>\n",
              "      <td>35.0</td>\n",
              "      <td>0</td>\n",
              "      <td>0</td>\n",
              "      <td>373450</td>\n",
              "      <td>0</td>\n",
              "    </tr>\n",
              "  </tbody>\n",
              "</table>\n",
              "</div>\n",
              "    <div class=\"colab-df-buttons\">\n",
              "\n",
              "  <div class=\"colab-df-container\">\n",
              "    <button class=\"colab-df-convert\" onclick=\"convertToInteractive('df-9fba01ca-0be2-4a60-8643-af68dc5093e3')\"\n",
              "            title=\"Convert this dataframe to an interactive table.\"\n",
              "            style=\"display:none;\">\n",
              "\n",
              "  <svg xmlns=\"http://www.w3.org/2000/svg\" height=\"24px\" viewBox=\"0 -960 960 960\">\n",
              "    <path d=\"M120-120v-720h720v720H120Zm60-500h600v-160H180v160Zm220 220h160v-160H400v160Zm0 220h160v-160H400v160ZM180-400h160v-160H180v160Zm440 0h160v-160H620v160ZM180-180h160v-160H180v160Zm440 0h160v-160H620v160Z\"/>\n",
              "  </svg>\n",
              "    </button>\n",
              "\n",
              "  <style>\n",
              "    .colab-df-container {\n",
              "      display:flex;\n",
              "      gap: 12px;\n",
              "    }\n",
              "\n",
              "    .colab-df-convert {\n",
              "      background-color: #E8F0FE;\n",
              "      border: none;\n",
              "      border-radius: 50%;\n",
              "      cursor: pointer;\n",
              "      display: none;\n",
              "      fill: #1967D2;\n",
              "      height: 32px;\n",
              "      padding: 0 0 0 0;\n",
              "      width: 32px;\n",
              "    }\n",
              "\n",
              "    .colab-df-convert:hover {\n",
              "      background-color: #E2EBFA;\n",
              "      box-shadow: 0px 1px 2px rgba(60, 64, 67, 0.3), 0px 1px 3px 1px rgba(60, 64, 67, 0.15);\n",
              "      fill: #174EA6;\n",
              "    }\n",
              "\n",
              "    .colab-df-buttons div {\n",
              "      margin-bottom: 4px;\n",
              "    }\n",
              "\n",
              "    [theme=dark] .colab-df-convert {\n",
              "      background-color: #3B4455;\n",
              "      fill: #D2E3FC;\n",
              "    }\n",
              "\n",
              "    [theme=dark] .colab-df-convert:hover {\n",
              "      background-color: #434B5C;\n",
              "      box-shadow: 0px 1px 3px 1px rgba(0, 0, 0, 0.15);\n",
              "      filter: drop-shadow(0px 1px 2px rgba(0, 0, 0, 0.3));\n",
              "      fill: #FFFFFF;\n",
              "    }\n",
              "  </style>\n",
              "\n",
              "    <script>\n",
              "      const buttonEl =\n",
              "        document.querySelector('#df-9fba01ca-0be2-4a60-8643-af68dc5093e3 button.colab-df-convert');\n",
              "      buttonEl.style.display =\n",
              "        google.colab.kernel.accessAllowed ? 'block' : 'none';\n",
              "\n",
              "      async function convertToInteractive(key) {\n",
              "        const element = document.querySelector('#df-9fba01ca-0be2-4a60-8643-af68dc5093e3');\n",
              "        const dataTable =\n",
              "          await google.colab.kernel.invokeFunction('convertToInteractive',\n",
              "                                                    [key], {});\n",
              "        if (!dataTable) return;\n",
              "\n",
              "        const docLinkHtml = 'Like what you see? Visit the ' +\n",
              "          '<a target=\"_blank\" href=https://colab.research.google.com/notebooks/data_table.ipynb>data table notebook</a>'\n",
              "          + ' to learn more about interactive tables.';\n",
              "        element.innerHTML = '';\n",
              "        dataTable['output_type'] = 'display_data';\n",
              "        await google.colab.output.renderOutput(dataTable, element);\n",
              "        const docLink = document.createElement('div');\n",
              "        docLink.innerHTML = docLinkHtml;\n",
              "        element.appendChild(docLink);\n",
              "      }\n",
              "    </script>\n",
              "  </div>\n",
              "\n",
              "\n",
              "<div id=\"df-4c19a65f-c1f5-48b5-b07e-d1f63f63bd17\">\n",
              "  <button class=\"colab-df-quickchart\" onclick=\"quickchart('df-4c19a65f-c1f5-48b5-b07e-d1f63f63bd17')\"\n",
              "            title=\"Suggest charts.\"\n",
              "            style=\"display:none;\">\n",
              "\n",
              "<svg xmlns=\"http://www.w3.org/2000/svg\" height=\"24px\"viewBox=\"0 0 24 24\"\n",
              "     width=\"24px\">\n",
              "    <g>\n",
              "        <path d=\"M19 3H5c-1.1 0-2 .9-2 2v14c0 1.1.9 2 2 2h14c1.1 0 2-.9 2-2V5c0-1.1-.9-2-2-2zM9 17H7v-7h2v7zm4 0h-2V7h2v10zm4 0h-2v-4h2v4z\"/>\n",
              "    </g>\n",
              "</svg>\n",
              "  </button>\n",
              "\n",
              "<style>\n",
              "  .colab-df-quickchart {\n",
              "    background-color: #E8F0FE;\n",
              "    border: none;\n",
              "    border-radius: 50%;\n",
              "    cursor: pointer;\n",
              "    display: none;\n",
              "    fill: #1967D2;\n",
              "    height: 32px;\n",
              "    padding: 0 0 0 0;\n",
              "    width: 32px;\n",
              "  }\n",
              "\n",
              "  .colab-df-quickchart:hover {\n",
              "    background-color: #E2EBFA;\n",
              "    box-shadow: 0px 1px 2px rgba(60, 64, 67, 0.3), 0px 1px 3px 1px rgba(60, 64, 67, 0.15);\n",
              "    fill: #174EA6;\n",
              "  }\n",
              "\n",
              "  [theme=dark] .colab-df-quickchart {\n",
              "    background-color: #3B4455;\n",
              "    fill: #D2E3FC;\n",
              "  }\n",
              "\n",
              "  [theme=dark] .colab-df-quickchart:hover {\n",
              "    background-color: #434B5C;\n",
              "    box-shadow: 0px 1px 3px 1px rgba(0, 0, 0, 0.15);\n",
              "    filter: drop-shadow(0px 1px 2px rgba(0, 0, 0, 0.3));\n",
              "    fill: #FFFFFF;\n",
              "  }\n",
              "</style>\n",
              "\n",
              "  <script>\n",
              "    async function quickchart(key) {\n",
              "      const charts = await google.colab.kernel.invokeFunction(\n",
              "          'suggestCharts', [key], {});\n",
              "    }\n",
              "    (() => {\n",
              "      let quickchartButtonEl =\n",
              "        document.querySelector('#df-4c19a65f-c1f5-48b5-b07e-d1f63f63bd17 button');\n",
              "      quickchartButtonEl.style.display =\n",
              "        google.colab.kernel.accessAllowed ? 'block' : 'none';\n",
              "    })();\n",
              "  </script>\n",
              "</div>\n",
              "    </div>\n",
              "  </div>\n"
            ]
          },
          "metadata": {},
          "execution_count": 30
        }
      ]
    },
    {
      "cell_type": "code",
      "source": [
        "X=dataset.drop(columns =['PassengerId','Name','Ticket','Survived'],axis=1)\n",
        "Y=dataset['Survived']"
      ],
      "metadata": {
        "id": "vTxAsRAjL2pm"
      },
      "execution_count": 31,
      "outputs": []
    },
    {
      "cell_type": "code",
      "source": [
        "print(X)"
      ],
      "metadata": {
        "colab": {
          "base_uri": "https://localhost:8080/"
        },
        "id": "jzRta4wEMz4t",
        "outputId": "14ee7cac-e3fe-4605-a4b2-c36ec710785d"
      },
      "execution_count": 32,
      "outputs": [
        {
          "output_type": "stream",
          "name": "stdout",
          "text": [
            "     Pclass  Sex        Age  SibSp  Parch  Embarked\n",
            "0         3    0  22.000000      1      0         0\n",
            "1         1    1  38.000000      1      0         1\n",
            "2         3    1  26.000000      0      0         0\n",
            "3         1    1  35.000000      1      0         0\n",
            "4         3    0  35.000000      0      0         0\n",
            "..      ...  ...        ...    ...    ...       ...\n",
            "886       2    0  27.000000      0      0         0\n",
            "887       1    1  19.000000      0      0         0\n",
            "888       3    1  29.699118      1      2         0\n",
            "889       1    0  26.000000      0      0         1\n",
            "890       3    0  32.000000      0      0         2\n",
            "\n",
            "[891 rows x 6 columns]\n"
          ]
        }
      ]
    },
    {
      "cell_type": "code",
      "source": [
        "print(Y)"
      ],
      "metadata": {
        "colab": {
          "base_uri": "https://localhost:8080/"
        },
        "id": "hiv9SC3MM3zr",
        "outputId": "550045ce-21bd-4ec3-fc18-99ad2d1b55f6"
      },
      "execution_count": 33,
      "outputs": [
        {
          "output_type": "stream",
          "name": "stdout",
          "text": [
            "0      0\n",
            "1      1\n",
            "2      1\n",
            "3      1\n",
            "4      0\n",
            "      ..\n",
            "886    0\n",
            "887    1\n",
            "888    0\n",
            "889    1\n",
            "890    0\n",
            "Name: Survived, Length: 891, dtype: int64\n"
          ]
        }
      ]
    },
    {
      "cell_type": "code",
      "source": [
        "from sklearn.model_selection import train_test_split\n",
        "X_train, X_test, Y_train,Y_test= train_test_split(X,Y, test_size=0.25,random_state=0)"
      ],
      "metadata": {
        "id": "tTdk2C0YM7AU"
      },
      "execution_count": 34,
      "outputs": []
    },
    {
      "cell_type": "code",
      "source": [
        "print(X.shape,X_train.shape,X_test.shape)"
      ],
      "metadata": {
        "colab": {
          "base_uri": "https://localhost:8080/"
        },
        "id": "2QC79fQBN4vE",
        "outputId": "fa11223e-ad52-4341-8c58-bf3514140b3d"
      },
      "execution_count": 35,
      "outputs": [
        {
          "output_type": "stream",
          "name": "stdout",
          "text": [
            "(891, 6) (668, 6) (223, 6)\n"
          ]
        }
      ]
    },
    {
      "cell_type": "code",
      "source": [
        "from sklearn.linear_model import LogisticRegression\n",
        "model=LogisticRegression()\n",
        "model.fit(X_train,Y_train)\n",
        "LogisticRegression()"
      ],
      "metadata": {
        "colab": {
          "base_uri": "https://localhost:8080/",
          "height": 74
        },
        "id": "YHkfZtFmOHBJ",
        "outputId": "b8d88c1f-2f51-410c-acf0-cb92fdd08743"
      },
      "execution_count": 36,
      "outputs": [
        {
          "output_type": "execute_result",
          "data": {
            "text/plain": [
              "LogisticRegression()"
            ],
            "text/html": [
              "<style>#sk-container-id-1 {color: black;background-color: white;}#sk-container-id-1 pre{padding: 0;}#sk-container-id-1 div.sk-toggleable {background-color: white;}#sk-container-id-1 label.sk-toggleable__label {cursor: pointer;display: block;width: 100%;margin-bottom: 0;padding: 0.3em;box-sizing: border-box;text-align: center;}#sk-container-id-1 label.sk-toggleable__label-arrow:before {content: \"▸\";float: left;margin-right: 0.25em;color: #696969;}#sk-container-id-1 label.sk-toggleable__label-arrow:hover:before {color: black;}#sk-container-id-1 div.sk-estimator:hover label.sk-toggleable__label-arrow:before {color: black;}#sk-container-id-1 div.sk-toggleable__content {max-height: 0;max-width: 0;overflow: hidden;text-align: left;background-color: #f0f8ff;}#sk-container-id-1 div.sk-toggleable__content pre {margin: 0.2em;color: black;border-radius: 0.25em;background-color: #f0f8ff;}#sk-container-id-1 input.sk-toggleable__control:checked~div.sk-toggleable__content {max-height: 200px;max-width: 100%;overflow: auto;}#sk-container-id-1 input.sk-toggleable__control:checked~label.sk-toggleable__label-arrow:before {content: \"▾\";}#sk-container-id-1 div.sk-estimator input.sk-toggleable__control:checked~label.sk-toggleable__label {background-color: #d4ebff;}#sk-container-id-1 div.sk-label input.sk-toggleable__control:checked~label.sk-toggleable__label {background-color: #d4ebff;}#sk-container-id-1 input.sk-hidden--visually {border: 0;clip: rect(1px 1px 1px 1px);clip: rect(1px, 1px, 1px, 1px);height: 1px;margin: -1px;overflow: hidden;padding: 0;position: absolute;width: 1px;}#sk-container-id-1 div.sk-estimator {font-family: monospace;background-color: #f0f8ff;border: 1px dotted black;border-radius: 0.25em;box-sizing: border-box;margin-bottom: 0.5em;}#sk-container-id-1 div.sk-estimator:hover {background-color: #d4ebff;}#sk-container-id-1 div.sk-parallel-item::after {content: \"\";width: 100%;border-bottom: 1px solid gray;flex-grow: 1;}#sk-container-id-1 div.sk-label:hover label.sk-toggleable__label {background-color: #d4ebff;}#sk-container-id-1 div.sk-serial::before {content: \"\";position: absolute;border-left: 1px solid gray;box-sizing: border-box;top: 0;bottom: 0;left: 50%;z-index: 0;}#sk-container-id-1 div.sk-serial {display: flex;flex-direction: column;align-items: center;background-color: white;padding-right: 0.2em;padding-left: 0.2em;position: relative;}#sk-container-id-1 div.sk-item {position: relative;z-index: 1;}#sk-container-id-1 div.sk-parallel {display: flex;align-items: stretch;justify-content: center;background-color: white;position: relative;}#sk-container-id-1 div.sk-item::before, #sk-container-id-1 div.sk-parallel-item::before {content: \"\";position: absolute;border-left: 1px solid gray;box-sizing: border-box;top: 0;bottom: 0;left: 50%;z-index: -1;}#sk-container-id-1 div.sk-parallel-item {display: flex;flex-direction: column;z-index: 1;position: relative;background-color: white;}#sk-container-id-1 div.sk-parallel-item:first-child::after {align-self: flex-end;width: 50%;}#sk-container-id-1 div.sk-parallel-item:last-child::after {align-self: flex-start;width: 50%;}#sk-container-id-1 div.sk-parallel-item:only-child::after {width: 0;}#sk-container-id-1 div.sk-dashed-wrapped {border: 1px dashed gray;margin: 0 0.4em 0.5em 0.4em;box-sizing: border-box;padding-bottom: 0.4em;background-color: white;}#sk-container-id-1 div.sk-label label {font-family: monospace;font-weight: bold;display: inline-block;line-height: 1.2em;}#sk-container-id-1 div.sk-label-container {text-align: center;}#sk-container-id-1 div.sk-container {/* jupyter's `normalize.less` sets `[hidden] { display: none; }` but bootstrap.min.css set `[hidden] { display: none !important; }` so we also need the `!important` here to be able to override the default hidden behavior on the sphinx rendered scikit-learn.org. See: https://github.com/scikit-learn/scikit-learn/issues/21755 */display: inline-block !important;position: relative;}#sk-container-id-1 div.sk-text-repr-fallback {display: none;}</style><div id=\"sk-container-id-1\" class=\"sk-top-container\"><div class=\"sk-text-repr-fallback\"><pre>LogisticRegression()</pre><b>In a Jupyter environment, please rerun this cell to show the HTML representation or trust the notebook. <br />On GitHub, the HTML representation is unable to render, please try loading this page with nbviewer.org.</b></div><div class=\"sk-container\" hidden><div class=\"sk-item\"><div class=\"sk-estimator sk-toggleable\"><input class=\"sk-toggleable__control sk-hidden--visually\" id=\"sk-estimator-id-1\" type=\"checkbox\" checked><label for=\"sk-estimator-id-1\" class=\"sk-toggleable__label sk-toggleable__label-arrow\">LogisticRegression</label><div class=\"sk-toggleable__content\"><pre>LogisticRegression()</pre></div></div></div></div></div>"
            ]
          },
          "metadata": {},
          "execution_count": 36
        }
      ]
    },
    {
      "cell_type": "code",
      "source": [
        "X_train_prediction=model.predict(X_train)"
      ],
      "metadata": {
        "id": "66zf2ZiyOpbD"
      },
      "execution_count": 37,
      "outputs": []
    },
    {
      "cell_type": "code",
      "source": [
        "print(X_train_prediction)"
      ],
      "metadata": {
        "colab": {
          "base_uri": "https://localhost:8080/"
        },
        "id": "GlSxTVlTPNUA",
        "outputId": "a54cf5f4-a22f-4c80-9f06-2b2b11c95e0a"
      },
      "execution_count": 38,
      "outputs": [
        {
          "output_type": "stream",
          "name": "stdout",
          "text": [
            "[0 0 0 0 1 0 0 0 1 1 1 0 0 1 1 1 0 0 1 0 0 1 0 1 0 0 1 0 0 0 0 0 1 1 0 0 0\n",
            " 0 0 0 0 0 0 1 1 0 1 0 0 1 0 1 0 0 0 1 1 0 1 0 1 0 0 0 0 0 0 0 0 1 1 1 0 0\n",
            " 0 0 0 1 0 0 1 1 1 0 0 1 0 0 1 1 0 0 0 0 0 0 0 0 1 1 1 0 0 0 0 0 0 1 0 0 0\n",
            " 0 0 0 0 1 0 0 0 0 0 0 0 1 0 0 0 1 1 0 0 1 0 1 1 0 0 0 1 1 1 1 1 1 0 0 1 0\n",
            " 0 1 0 0 0 1 0 1 0 1 0 1 0 0 0 0 0 1 1 0 1 1 0 0 0 1 0 1 0 0 1 0 1 0 1 0 0\n",
            " 1 0 0 0 1 0 0 0 0 1 0 0 0 0 0 0 0 1 0 1 0 0 0 0 1 1 0 0 0 1 0 0 0 1 1 1 0\n",
            " 0 0 0 0 0 1 0 1 0 0 0 0 1 0 1 0 0 0 0 1 1 1 0 0 1 1 1 0 1 0 0 1 0 1 0 0 0\n",
            " 1 1 0 0 1 0 1 1 1 0 0 0 1 0 0 1 0 0 1 1 0 1 1 0 0 1 0 1 0 0 0 0 1 0 0 0 0\n",
            " 1 1 0 1 0 0 0 0 0 0 0 0 1 0 1 0 0 1 1 0 1 1 1 0 0 0 0 1 0 0 1 0 0 1 1 1 0\n",
            " 0 0 0 1 0 1 0 1 0 1 0 0 1 0 0 0 0 1 0 0 0 0 0 0 1 0 0 0 0 0 1 0 0 0 1 0 0\n",
            " 0 1 1 0 1 1 0 0 0 0 1 0 0 0 0 1 1 1 1 1 1 0 0 0 0 0 0 0 1 0 1 0 0 0 0 0 1\n",
            " 1 0 0 0 0 0 1 1 0 0 0 1 0 0 0 0 0 1 1 1 1 0 1 0 0 1 1 0 1 0 0 0 0 0 1 0 0\n",
            " 1 0 0 0 0 0 0 0 0 1 0 0 0 0 0 1 1 1 0 0 1 1 0 0 0 1 1 1 0 0 0 1 0 0 0 0 0\n",
            " 0 1 0 0 0 0 0 0 0 0 0 0 0 1 0 1 1 0 0 0 1 1 1 0 1 0 0 0 0 0 0 0 0 0 1 0 0\n",
            " 0 1 1 0 1 0 1 1 1 0 0 1 1 1 0 0 0 0 0 0 1 0 0 1 1 0 0 1 0 0 1 0 1 0 1 1 0\n",
            " 1 0 0 1 0 0 0 1 0 0 1 1 0 1 0 0 0 0 0 0 0 1 1 1 0 0 1 0 0 0 0 0 1 1 1 1 1\n",
            " 0 0 1 0 0 0 1 0 0 0 0 0 1 1 1 1 1 1 0 0 0 0 1 0 0 0 0 0 1 0 0 1 1 0 1 1 1\n",
            " 0 0 1 1 0 0 0 0 1 0 0 1 1 1 1 0 0 0 1 0 0 1 1 1 0 0 0 1 0 0 1 1 0 1 1 1 0\n",
            " 0 0]\n"
          ]
        }
      ]
    },
    {
      "cell_type": "code",
      "source": [
        "from sklearn.metrics import accuracy_score\n",
        "training_data_accuracy=accuracy_score(Y_train,X_train_prediction)\n",
        "print(\"Accuracy score of training data:\",training_data_accuracy)\n"
      ],
      "metadata": {
        "colab": {
          "base_uri": "https://localhost:8080/"
        },
        "id": "ssCL-5asPSdh",
        "outputId": "c02f9d71-5736-44b2-d2a3-4ace18ec268c"
      },
      "execution_count": 39,
      "outputs": [
        {
          "output_type": "stream",
          "name": "stdout",
          "text": [
            "Accuracy score of training data: 0.8083832335329342\n"
          ]
        }
      ]
    },
    {
      "cell_type": "code",
      "source": [
        "X_test_prediction=model.predict(X_test)"
      ],
      "metadata": {
        "id": "1w4S-NiLQuMw"
      },
      "execution_count": 40,
      "outputs": []
    },
    {
      "cell_type": "code",
      "source": [
        "print(X_test_prediction)"
      ],
      "metadata": {
        "colab": {
          "base_uri": "https://localhost:8080/"
        },
        "id": "RhyDyWAoQ3sq",
        "outputId": "2af899e1-3186-43f1-b046-f0fca12f482f"
      },
      "execution_count": 41,
      "outputs": [
        {
          "output_type": "stream",
          "name": "stdout",
          "text": [
            "[0 0 0 1 1 0 1 1 1 1 0 1 0 1 1 1 0 0 0 0 0 1 0 0 1 1 0 1 1 1 0 1 0 0 0 1 0\n",
            " 0 0 0 0 0 0 0 1 0 0 1 0 0 0 1 1 0 1 0 0 0 0 0 0 1 1 1 1 0 1 0 1 1 1 0 0 0\n",
            " 0 1 0 0 0 0 0 0 1 0 0 1 1 0 1 1 0 0 0 1 1 0 1 0 0 1 0 0 0 0 1 0 1 0 0 1 0\n",
            " 1 0 1 0 1 1 1 0 1 0 0 0 0 0 0 0 0 0 0 1 0 0 1 0 0 0 0 0 0 0 1 0 1 1 1 0 1\n",
            " 1 0 0 1 1 0 1 0 1 0 1 1 0 0 1 0 0 0 0 0 0 0 0 1 0 0 1 0 1 0 0 1 0 0 0 0 0\n",
            " 0 1 0 0 1 1 0 1 1 0 0 0 1 0 0 0 1 0 1 0 0 1 0 1 0 0 0 0 1 0 0 0 0 0 1 0 1\n",
            " 1]\n"
          ]
        }
      ]
    },
    {
      "cell_type": "code",
      "source": [
        "test_data_accuracy=accuracy_score(Y_test,X_test_prediction)\n",
        "print(\"Accuracy score of test data:\",test_data_accuracy)"
      ],
      "metadata": {
        "colab": {
          "base_uri": "https://localhost:8080/"
        },
        "id": "RCQM-WGUQ8DQ",
        "outputId": "cb1c13d0-cd2f-417b-971c-870bc00b2b46"
      },
      "execution_count": 42,
      "outputs": [
        {
          "output_type": "stream",
          "name": "stdout",
          "text": [
            "Accuracy score of test data: 0.7982062780269058\n"
          ]
        }
      ]
    },
    {
      "cell_type": "code",
      "source": [
        "print(\"Accuracy of the model : {0}%\".format(accuracy_score(Y_train,X_train_prediction)*100))"
      ],
      "metadata": {
        "colab": {
          "base_uri": "https://localhost:8080/"
        },
        "id": "N6TIqS4VTGvG",
        "outputId": "194fd266-6c45-4ee4-858a-616975e2c61f"
      },
      "execution_count": 43,
      "outputs": [
        {
          "output_type": "stream",
          "name": "stdout",
          "text": [
            "Accuracy of the model : 80.83832335329342%\n"
          ]
        }
      ]
    },
    {
      "cell_type": "code",
      "source": [
        "print(\"Accuracy of the model : {0}%\".format(accuracy_score(Y_test,X_test_prediction)*100))"
      ],
      "metadata": {
        "colab": {
          "base_uri": "https://localhost:8080/"
        },
        "id": "ckREvN77ThcH",
        "outputId": "78b9d656-a922-441d-a772-23ac82a697c7"
      },
      "execution_count": 44,
      "outputs": [
        {
          "output_type": "stream",
          "name": "stdout",
          "text": [
            "Accuracy of the model : 79.82062780269058%\n"
          ]
        }
      ]
    }
  ]
}